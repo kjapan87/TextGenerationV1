{
  "nbformat": 4,
  "nbformat_minor": 0,
  "metadata": {
    "colab": {
      "name": "TextGenerationExample1.ipynb",
      "provenance": [],
      "collapsed_sections": [],
      "include_colab_link": true
    },
    "kernelspec": {
      "name": "python3",
      "display_name": "Python 3"
    }
  },
  "cells": [
    {
      "cell_type": "markdown",
      "metadata": {
        "id": "view-in-github",
        "colab_type": "text"
      },
      "source": [
        "<a href=\"https://colab.research.google.com/github/kjapan87/TextGenerationV1/blob/main/TextGenerationExample1.ipynb\" target=\"_parent\"><img src=\"https://colab.research.google.com/assets/colab-badge.svg\" alt=\"Open In Colab\"/></a>"
      ]
    },
    {
      "cell_type": "code",
      "metadata": {
        "id": "bAz5UqdzecjB"
      },
      "source": [
        "def readFile(filePath):\n",
        "    with open(filePath) as f:\n",
        "        text = f.read()\n",
        "    return text\n",
        "\n",
        "import spacy\n",
        "obj1 = spacy.load(\"en_core_web_sm\")\n"
      ],
      "execution_count": null,
      "outputs": []
    },
    {
      "cell_type": "code",
      "metadata": {
        "id": "mhGBemGYe_jh"
      },
      "source": [
        "def PreProcess(doctext):\n",
        "    return [token.text.lower() for token in obj1(doctext)]"
      ],
      "execution_count": null,
      "outputs": []
    },
    {
      "cell_type": "code",
      "metadata": {
        "id": "CYHYKvmZe3XL"
      },
      "source": [
        "d=readFile(\"moby_dick_four_chapters.txt\")\n",
        "token =PreProcess(d)"
      ],
      "execution_count": null,
      "outputs": []
    },
    {
      "cell_type": "code",
      "metadata": {
        "id": "yKxMfrcuFz86",
        "outputId": "665ce5b5-4b93-4b7e-b4f6-7c250fed73c4",
        "colab": {
          "base_uri": "https://localhost:8080/",
          "height": 1000
        }
      },
      "source": [
        "token"
      ],
      "execution_count": null,
      "outputs": [
        {
          "output_type": "execute_result",
          "data": {
            "text/plain": [
              "['call',\n",
              " 'me',\n",
              " 'ishmael',\n",
              " '.',\n",
              " ' ',\n",
              " 'some',\n",
              " 'years',\n",
              " 'ago',\n",
              " '--',\n",
              " 'never',\n",
              " 'mind',\n",
              " 'how',\n",
              " 'long',\n",
              " '\\n',\n",
              " 'precisely',\n",
              " '--',\n",
              " 'having',\n",
              " 'little',\n",
              " 'or',\n",
              " 'no',\n",
              " 'money',\n",
              " 'in',\n",
              " 'my',\n",
              " 'purse',\n",
              " ',',\n",
              " 'and',\n",
              " 'nothing',\n",
              " '\\n',\n",
              " 'particular',\n",
              " 'to',\n",
              " 'interest',\n",
              " 'me',\n",
              " 'on',\n",
              " 'shore',\n",
              " ',',\n",
              " 'i',\n",
              " 'thought',\n",
              " 'i',\n",
              " 'would',\n",
              " 'sail',\n",
              " 'about',\n",
              " 'a',\n",
              " '\\n',\n",
              " 'little',\n",
              " 'and',\n",
              " 'see',\n",
              " 'the',\n",
              " 'watery',\n",
              " 'part',\n",
              " 'of',\n",
              " 'the',\n",
              " 'world',\n",
              " '.',\n",
              " ' ',\n",
              " 'it',\n",
              " 'is',\n",
              " 'a',\n",
              " 'way',\n",
              " 'i',\n",
              " 'have',\n",
              " 'of',\n",
              " '\\n',\n",
              " 'driving',\n",
              " 'off',\n",
              " 'the',\n",
              " 'spleen',\n",
              " 'and',\n",
              " 'regulating',\n",
              " 'the',\n",
              " 'circulation',\n",
              " '.',\n",
              " ' ',\n",
              " 'whenever',\n",
              " 'i',\n",
              " '\\n',\n",
              " 'find',\n",
              " 'myself',\n",
              " 'growing',\n",
              " 'grim',\n",
              " 'about',\n",
              " 'the',\n",
              " 'mouth',\n",
              " ';',\n",
              " 'whenever',\n",
              " 'it',\n",
              " 'is',\n",
              " 'a',\n",
              " 'damp',\n",
              " ',',\n",
              " '\\n',\n",
              " 'drizzly',\n",
              " 'november',\n",
              " 'in',\n",
              " 'my',\n",
              " 'soul',\n",
              " ';',\n",
              " 'whenever',\n",
              " 'i',\n",
              " 'find',\n",
              " 'myself',\n",
              " 'involuntarily',\n",
              " '\\n',\n",
              " 'pausing',\n",
              " 'before',\n",
              " 'coffin',\n",
              " 'warehouses',\n",
              " ',',\n",
              " 'and',\n",
              " 'bringing',\n",
              " 'up',\n",
              " 'the',\n",
              " 'rear',\n",
              " 'of',\n",
              " 'every',\n",
              " '\\n',\n",
              " 'funeral',\n",
              " 'i',\n",
              " 'meet',\n",
              " ';',\n",
              " 'and',\n",
              " 'especially',\n",
              " 'whenever',\n",
              " 'my',\n",
              " 'hypos',\n",
              " 'get',\n",
              " 'such',\n",
              " 'an',\n",
              " 'upper',\n",
              " '\\n',\n",
              " 'hand',\n",
              " 'of',\n",
              " 'me',\n",
              " ',',\n",
              " 'that',\n",
              " 'it',\n",
              " 'requires',\n",
              " 'a',\n",
              " 'strong',\n",
              " 'moral',\n",
              " 'principle',\n",
              " 'to',\n",
              " 'prevent',\n",
              " 'me',\n",
              " '\\n',\n",
              " 'from',\n",
              " 'deliberately',\n",
              " 'stepping',\n",
              " 'into',\n",
              " 'the',\n",
              " 'street',\n",
              " ',',\n",
              " 'and',\n",
              " 'methodically',\n",
              " 'knocking',\n",
              " '\\n',\n",
              " 'people',\n",
              " \"'s\",\n",
              " 'hats',\n",
              " 'off',\n",
              " '--',\n",
              " 'then',\n",
              " ',',\n",
              " 'i',\n",
              " 'account',\n",
              " 'it',\n",
              " 'high',\n",
              " 'time',\n",
              " 'to',\n",
              " 'get',\n",
              " 'to',\n",
              " 'sea',\n",
              " 'as',\n",
              " 'soon',\n",
              " '\\n',\n",
              " 'as',\n",
              " 'i',\n",
              " 'can',\n",
              " '.',\n",
              " ' ',\n",
              " 'this',\n",
              " 'is',\n",
              " 'my',\n",
              " 'substitute',\n",
              " 'for',\n",
              " 'pistol',\n",
              " 'and',\n",
              " 'ball',\n",
              " '.',\n",
              " ' ',\n",
              " 'with',\n",
              " 'a',\n",
              " '\\n',\n",
              " 'philosophical',\n",
              " 'flourish',\n",
              " 'cato',\n",
              " 'throws',\n",
              " 'himself',\n",
              " 'upon',\n",
              " 'his',\n",
              " 'sword',\n",
              " ';',\n",
              " 'i',\n",
              " 'quietly',\n",
              " '\\n',\n",
              " 'take',\n",
              " 'to',\n",
              " 'the',\n",
              " 'ship',\n",
              " '.',\n",
              " ' ',\n",
              " 'there',\n",
              " 'is',\n",
              " 'nothing',\n",
              " 'surprising',\n",
              " 'in',\n",
              " 'this',\n",
              " '.',\n",
              " ' ',\n",
              " 'if',\n",
              " 'they',\n",
              " 'but',\n",
              " '\\n',\n",
              " 'knew',\n",
              " 'it',\n",
              " ',',\n",
              " 'almost',\n",
              " 'all',\n",
              " 'men',\n",
              " 'in',\n",
              " 'their',\n",
              " 'degree',\n",
              " ',',\n",
              " 'some',\n",
              " 'time',\n",
              " 'or',\n",
              " 'other',\n",
              " ',',\n",
              " 'cherish',\n",
              " '\\n',\n",
              " 'very',\n",
              " 'nearly',\n",
              " 'the',\n",
              " 'same',\n",
              " 'feelings',\n",
              " 'towards',\n",
              " 'the',\n",
              " 'ocean',\n",
              " 'with',\n",
              " 'me',\n",
              " '.',\n",
              " '\\n\\n',\n",
              " 'there',\n",
              " 'now',\n",
              " 'is',\n",
              " 'your',\n",
              " 'insular',\n",
              " 'city',\n",
              " 'of',\n",
              " 'the',\n",
              " 'manhattoes',\n",
              " ',',\n",
              " 'belted',\n",
              " 'round',\n",
              " 'by',\n",
              " '\\n',\n",
              " 'wharves',\n",
              " 'as',\n",
              " 'indian',\n",
              " 'isles',\n",
              " 'by',\n",
              " 'coral',\n",
              " 'reefs',\n",
              " '--',\n",
              " 'commerce',\n",
              " 'surrounds',\n",
              " 'it',\n",
              " 'with',\n",
              " '\\n',\n",
              " 'her',\n",
              " 'surf',\n",
              " '.',\n",
              " ' ',\n",
              " 'right',\n",
              " 'and',\n",
              " 'left',\n",
              " ',',\n",
              " 'the',\n",
              " 'streets',\n",
              " 'take',\n",
              " 'you',\n",
              " 'waterward',\n",
              " '.',\n",
              " ' ',\n",
              " 'its',\n",
              " '\\n',\n",
              " 'extreme',\n",
              " 'downtown',\n",
              " 'is',\n",
              " 'the',\n",
              " 'battery',\n",
              " ',',\n",
              " 'where',\n",
              " 'that',\n",
              " 'noble',\n",
              " 'mole',\n",
              " 'is',\n",
              " 'washed',\n",
              " 'by',\n",
              " '\\n',\n",
              " 'waves',\n",
              " ',',\n",
              " 'and',\n",
              " 'cooled',\n",
              " 'by',\n",
              " 'breezes',\n",
              " ',',\n",
              " 'which',\n",
              " 'a',\n",
              " 'few',\n",
              " 'hours',\n",
              " 'previous',\n",
              " 'were',\n",
              " 'out',\n",
              " 'of',\n",
              " '\\n',\n",
              " 'sight',\n",
              " 'of',\n",
              " 'land',\n",
              " '.',\n",
              " ' ',\n",
              " 'look',\n",
              " 'at',\n",
              " 'the',\n",
              " 'crowds',\n",
              " 'of',\n",
              " 'water',\n",
              " '-',\n",
              " 'gazers',\n",
              " 'there',\n",
              " '.',\n",
              " '\\n\\n',\n",
              " 'circumambulate',\n",
              " 'the',\n",
              " 'city',\n",
              " 'of',\n",
              " 'a',\n",
              " 'dreamy',\n",
              " 'sabbath',\n",
              " 'afternoon',\n",
              " '.',\n",
              " ' ',\n",
              " 'go',\n",
              " 'from',\n",
              " '\\n',\n",
              " 'corlears',\n",
              " 'hook',\n",
              " 'to',\n",
              " 'coenties',\n",
              " 'slip',\n",
              " ',',\n",
              " 'and',\n",
              " 'from',\n",
              " 'thence',\n",
              " ',',\n",
              " 'by',\n",
              " 'whitehall',\n",
              " ',',\n",
              " '\\n',\n",
              " 'northward',\n",
              " '.',\n",
              " ' ',\n",
              " 'what',\n",
              " 'do',\n",
              " 'you',\n",
              " 'see?--posted',\n",
              " 'like',\n",
              " 'silent',\n",
              " 'sentinels',\n",
              " 'all',\n",
              " 'around',\n",
              " '\\n',\n",
              " 'the',\n",
              " 'town',\n",
              " ',',\n",
              " 'stand',\n",
              " 'thousands',\n",
              " 'upon',\n",
              " 'thousands',\n",
              " 'of',\n",
              " 'mortal',\n",
              " 'men',\n",
              " 'fixed',\n",
              " 'in',\n",
              " 'ocean',\n",
              " '\\n',\n",
              " 'reveries',\n",
              " '.',\n",
              " ' ',\n",
              " 'some',\n",
              " 'leaning',\n",
              " 'against',\n",
              " 'the',\n",
              " 'spiles',\n",
              " ';',\n",
              " 'some',\n",
              " 'seated',\n",
              " 'upon',\n",
              " 'the',\n",
              " '\\n',\n",
              " 'pier',\n",
              " '-',\n",
              " 'heads',\n",
              " ';',\n",
              " 'some',\n",
              " 'looking',\n",
              " 'over',\n",
              " 'the',\n",
              " 'bulwarks',\n",
              " 'of',\n",
              " 'ships',\n",
              " 'from',\n",
              " 'china',\n",
              " ';',\n",
              " 'some',\n",
              " '\\n',\n",
              " 'high',\n",
              " 'aloft',\n",
              " 'in',\n",
              " 'the',\n",
              " 'rigging',\n",
              " ',',\n",
              " 'as',\n",
              " 'if',\n",
              " 'striving',\n",
              " 'to',\n",
              " 'get',\n",
              " 'a',\n",
              " 'still',\n",
              " 'better',\n",
              " '\\n',\n",
              " 'seaward',\n",
              " 'peep',\n",
              " '.',\n",
              " ' ',\n",
              " 'but',\n",
              " 'these',\n",
              " 'are',\n",
              " 'all',\n",
              " 'landsmen',\n",
              " ';',\n",
              " 'of',\n",
              " 'week',\n",
              " 'days',\n",
              " 'pent',\n",
              " 'up',\n",
              " 'in',\n",
              " '\\n',\n",
              " 'lath',\n",
              " 'and',\n",
              " 'plaster',\n",
              " '--',\n",
              " 'tied',\n",
              " 'to',\n",
              " 'counters',\n",
              " ',',\n",
              " 'nailed',\n",
              " 'to',\n",
              " 'benches',\n",
              " ',',\n",
              " 'clinched',\n",
              " 'to',\n",
              " '\\n',\n",
              " 'desks',\n",
              " '.',\n",
              " ' ',\n",
              " 'how',\n",
              " 'then',\n",
              " 'is',\n",
              " 'this',\n",
              " '?',\n",
              " ' ',\n",
              " 'are',\n",
              " 'the',\n",
              " 'green',\n",
              " 'fields',\n",
              " 'gone',\n",
              " '?',\n",
              " ' ',\n",
              " 'what',\n",
              " 'do',\n",
              " 'they',\n",
              " '\\n',\n",
              " 'here',\n",
              " '?',\n",
              " '\\n\\n',\n",
              " 'but',\n",
              " 'look',\n",
              " '!',\n",
              " 'here',\n",
              " 'come',\n",
              " 'more',\n",
              " 'crowds',\n",
              " ',',\n",
              " 'pacing',\n",
              " 'straight',\n",
              " 'for',\n",
              " 'the',\n",
              " 'water',\n",
              " ',',\n",
              " 'and',\n",
              " '\\n',\n",
              " 'seemingly',\n",
              " 'bound',\n",
              " 'for',\n",
              " 'a',\n",
              " 'dive',\n",
              " '.',\n",
              " ' ',\n",
              " 'strange',\n",
              " '!',\n",
              " ' ',\n",
              " 'nothing',\n",
              " 'will',\n",
              " 'content',\n",
              " 'them',\n",
              " 'but',\n",
              " '\\n',\n",
              " 'the',\n",
              " 'extremest',\n",
              " 'limit',\n",
              " 'of',\n",
              " 'the',\n",
              " 'land',\n",
              " ';',\n",
              " 'loitering',\n",
              " 'under',\n",
              " 'the',\n",
              " 'shady',\n",
              " 'lee',\n",
              " 'of',\n",
              " '\\n',\n",
              " 'yonder',\n",
              " 'warehouses',\n",
              " 'will',\n",
              " 'not',\n",
              " 'suffice',\n",
              " '.',\n",
              " ' ',\n",
              " 'no',\n",
              " '.',\n",
              " ' ',\n",
              " 'they',\n",
              " 'must',\n",
              " 'get',\n",
              " 'just',\n",
              " 'as',\n",
              " 'nigh',\n",
              " '\\n',\n",
              " 'the',\n",
              " 'water',\n",
              " 'as',\n",
              " 'they',\n",
              " 'possibly',\n",
              " 'can',\n",
              " 'without',\n",
              " 'falling',\n",
              " 'in',\n",
              " '.',\n",
              " ' ',\n",
              " 'and',\n",
              " 'there',\n",
              " 'they',\n",
              " '\\n',\n",
              " 'stand',\n",
              " '--',\n",
              " 'miles',\n",
              " 'of',\n",
              " 'them',\n",
              " '--',\n",
              " 'leagues',\n",
              " '.',\n",
              " ' ',\n",
              " 'inlanders',\n",
              " 'all',\n",
              " ',',\n",
              " 'they',\n",
              " 'come',\n",
              " 'from',\n",
              " 'lanes',\n",
              " '\\n',\n",
              " 'and',\n",
              " 'alleys',\n",
              " ',',\n",
              " 'streets',\n",
              " 'and',\n",
              " 'avenues',\n",
              " '--',\n",
              " 'north',\n",
              " ',',\n",
              " 'east',\n",
              " ',',\n",
              " 'south',\n",
              " ',',\n",
              " 'and',\n",
              " 'west',\n",
              " '.',\n",
              " ' ',\n",
              " 'yet',\n",
              " '\\n',\n",
              " 'here',\n",
              " 'they',\n",
              " 'all',\n",
              " 'unite',\n",
              " '.',\n",
              " ' ',\n",
              " 'tell',\n",
              " 'me',\n",
              " ',',\n",
              " 'does',\n",
              " 'the',\n",
              " 'magnetic',\n",
              " 'virtue',\n",
              " 'of',\n",
              " 'the',\n",
              " '\\n',\n",
              " 'needles',\n",
              " 'of',\n",
              " 'the',\n",
              " 'compasses',\n",
              " 'of',\n",
              " 'all',\n",
              " 'those',\n",
              " 'ships',\n",
              " 'attract',\n",
              " 'them',\n",
              " 'thither',\n",
              " '?',\n",
              " '\\n\\n',\n",
              " 'once',\n",
              " 'more',\n",
              " '.',\n",
              " ' ',\n",
              " 'say',\n",
              " 'you',\n",
              " 'are',\n",
              " 'in',\n",
              " 'the',\n",
              " 'country',\n",
              " ';',\n",
              " 'in',\n",
              " 'some',\n",
              " 'high',\n",
              " 'land',\n",
              " 'of',\n",
              " 'lakes',\n",
              " '.',\n",
              " '\\n',\n",
              " 'take',\n",
              " 'almost',\n",
              " 'any',\n",
              " 'path',\n",
              " 'you',\n",
              " 'please',\n",
              " ',',\n",
              " 'and',\n",
              " 'ten',\n",
              " 'to',\n",
              " 'one',\n",
              " 'it',\n",
              " 'carries',\n",
              " 'you',\n",
              " 'down',\n",
              " '\\n',\n",
              " 'in',\n",
              " 'a',\n",
              " 'dale',\n",
              " ',',\n",
              " 'and',\n",
              " 'leaves',\n",
              " 'you',\n",
              " 'there',\n",
              " 'by',\n",
              " 'a',\n",
              " 'pool',\n",
              " 'in',\n",
              " 'the',\n",
              " 'stream',\n",
              " '.',\n",
              " ' ',\n",
              " 'there',\n",
              " 'is',\n",
              " '\\n',\n",
              " 'magic',\n",
              " 'in',\n",
              " 'it',\n",
              " '.',\n",
              " ' ',\n",
              " 'let',\n",
              " 'the',\n",
              " 'most',\n",
              " 'absent',\n",
              " '-',\n",
              " 'minded',\n",
              " 'of',\n",
              " 'men',\n",
              " 'be',\n",
              " 'plunged',\n",
              " 'in',\n",
              " 'his',\n",
              " '\\n',\n",
              " 'deepest',\n",
              " 'reveries',\n",
              " '--',\n",
              " 'stand',\n",
              " 'that',\n",
              " 'man',\n",
              " 'on',\n",
              " 'his',\n",
              " 'legs',\n",
              " ',',\n",
              " 'set',\n",
              " 'his',\n",
              " 'feet',\n",
              " 'a',\n",
              " '-',\n",
              " 'going',\n",
              " ',',\n",
              " '\\n',\n",
              " 'and',\n",
              " 'he',\n",
              " 'will',\n",
              " 'infallibly',\n",
              " 'lead',\n",
              " 'you',\n",
              " 'to',\n",
              " 'water',\n",
              " ',',\n",
              " 'if',\n",
              " 'water',\n",
              " 'there',\n",
              " 'be',\n",
              " 'in',\n",
              " 'all',\n",
              " '\\n',\n",
              " 'that',\n",
              " 'region',\n",
              " '.',\n",
              " ' ',\n",
              " 'should',\n",
              " 'you',\n",
              " 'ever',\n",
              " 'be',\n",
              " 'athirst',\n",
              " 'in',\n",
              " 'the',\n",
              " 'great',\n",
              " 'american',\n",
              " '\\n',\n",
              " 'desert',\n",
              " ',',\n",
              " 'try',\n",
              " 'this',\n",
              " 'experiment',\n",
              " ',',\n",
              " 'if',\n",
              " 'your',\n",
              " 'caravan',\n",
              " 'happen',\n",
              " 'to',\n",
              " 'be',\n",
              " 'supplied',\n",
              " '\\n',\n",
              " 'with',\n",
              " 'a',\n",
              " 'metaphysical',\n",
              " 'professor',\n",
              " '.',\n",
              " ' ',\n",
              " 'yes',\n",
              " ',',\n",
              " 'as',\n",
              " 'every',\n",
              " 'one',\n",
              " 'knows',\n",
              " ',',\n",
              " 'meditation',\n",
              " '\\n',\n",
              " 'and',\n",
              " 'water',\n",
              " 'are',\n",
              " 'wedded',\n",
              " 'for',\n",
              " 'ever',\n",
              " '.',\n",
              " '\\n\\n',\n",
              " 'but',\n",
              " 'here',\n",
              " 'is',\n",
              " 'an',\n",
              " 'artist',\n",
              " '.',\n",
              " ' ',\n",
              " 'he',\n",
              " 'desires',\n",
              " 'to',\n",
              " 'paint',\n",
              " 'you',\n",
              " 'the',\n",
              " 'dreamiest',\n",
              " ',',\n",
              " '\\n',\n",
              " 'shadiest',\n",
              " ',',\n",
              " 'quietest',\n",
              " ',',\n",
              " 'most',\n",
              " 'enchanting',\n",
              " 'bit',\n",
              " 'of',\n",
              " 'romantic',\n",
              " 'landscape',\n",
              " 'in',\n",
              " 'all',\n",
              " '\\n',\n",
              " 'the',\n",
              " 'valley',\n",
              " 'of',\n",
              " 'the',\n",
              " 'saco',\n",
              " '.',\n",
              " ' ',\n",
              " 'what',\n",
              " 'is',\n",
              " 'the',\n",
              " 'chief',\n",
              " 'element',\n",
              " 'he',\n",
              " 'employs',\n",
              " '?',\n",
              " ' ',\n",
              " 'there',\n",
              " '\\n',\n",
              " 'stand',\n",
              " 'his',\n",
              " 'trees',\n",
              " ',',\n",
              " 'each',\n",
              " 'with',\n",
              " 'a',\n",
              " 'hollow',\n",
              " 'trunk',\n",
              " ',',\n",
              " 'as',\n",
              " 'if',\n",
              " 'a',\n",
              " 'hermit',\n",
              " 'and',\n",
              " 'a',\n",
              " '\\n',\n",
              " 'crucifix',\n",
              " 'were',\n",
              " 'within',\n",
              " ';',\n",
              " 'and',\n",
              " 'here',\n",
              " 'sleeps',\n",
              " 'his',\n",
              " 'meadow',\n",
              " ',',\n",
              " 'and',\n",
              " 'there',\n",
              " 'sleep',\n",
              " 'his',\n",
              " '\\n',\n",
              " 'cattle',\n",
              " ';',\n",
              " 'and',\n",
              " 'up',\n",
              " 'from',\n",
              " 'yonder',\n",
              " 'cottage',\n",
              " 'goes',\n",
              " 'a',\n",
              " 'sleepy',\n",
              " 'smoke',\n",
              " '.',\n",
              " ' ',\n",
              " 'deep',\n",
              " 'into',\n",
              " '\\n',\n",
              " 'distant',\n",
              " 'woodlands',\n",
              " 'winds',\n",
              " 'a',\n",
              " 'mazy',\n",
              " 'way',\n",
              " ',',\n",
              " 'reaching',\n",
              " 'to',\n",
              " 'overlapping',\n",
              " 'spurs',\n",
              " 'of',\n",
              " '\\n',\n",
              " 'mountains',\n",
              " 'bathed',\n",
              " 'in',\n",
              " 'their',\n",
              " 'hill',\n",
              " '-',\n",
              " 'side',\n",
              " 'blue',\n",
              " '.',\n",
              " ' ',\n",
              " 'but',\n",
              " 'though',\n",
              " 'the',\n",
              " 'picture',\n",
              " '\\n',\n",
              " 'lies',\n",
              " 'thus',\n",
              " 'tranced',\n",
              " ',',\n",
              " 'and',\n",
              " 'though',\n",
              " 'this',\n",
              " 'pine',\n",
              " '-',\n",
              " 'tree',\n",
              " 'shakes',\n",
              " 'down',\n",
              " 'its',\n",
              " 'sighs',\n",
              " '\\n',\n",
              " 'like',\n",
              " 'leaves',\n",
              " 'upon',\n",
              " 'this',\n",
              " 'shepherd',\n",
              " \"'s\",\n",
              " 'head',\n",
              " ',',\n",
              " 'yet',\n",
              " 'all',\n",
              " 'were',\n",
              " 'vain',\n",
              " ',',\n",
              " 'unless',\n",
              " 'the',\n",
              " '\\n',\n",
              " 'shepherd',\n",
              " \"'s\",\n",
              " 'eye',\n",
              " 'were',\n",
              " 'fixed',\n",
              " 'upon',\n",
              " 'the',\n",
              " 'magic',\n",
              " 'stream',\n",
              " 'before',\n",
              " 'him',\n",
              " '.',\n",
              " ' ',\n",
              " 'go',\n",
              " 'visit',\n",
              " '\\n',\n",
              " 'the',\n",
              " 'prairies',\n",
              " 'in',\n",
              " 'june',\n",
              " ',',\n",
              " 'when',\n",
              " 'for',\n",
              " 'scores',\n",
              " 'on',\n",
              " 'scores',\n",
              " 'of',\n",
              " 'miles',\n",
              " 'you',\n",
              " 'wade',\n",
              " '\\n',\n",
              " 'knee',\n",
              " '-',\n",
              " 'deep',\n",
              " 'among',\n",
              " 'tiger',\n",
              " '-',\n",
              " 'lilies',\n",
              " '--',\n",
              " 'what',\n",
              " 'is',\n",
              " 'the',\n",
              " 'one',\n",
              " 'charm',\n",
              " '\\n',\n",
              " 'wanting?--water',\n",
              " '--',\n",
              " 'there',\n",
              " 'is',\n",
              " 'not',\n",
              " 'a',\n",
              " ...]"
            ]
          },
          "metadata": {
            "tags": []
          },
          "execution_count": 4
        }
      ]
    },
    {
      "cell_type": "code",
      "metadata": {
        "id": "FgRPEFf2dVEZ",
        "outputId": "d576a6bc-2f7c-4f08-8a85-0053ad1d3aa2",
        "colab": {
          "base_uri": "https://localhost:8080/",
          "height": 34
        }
      },
      "source": [
        "type(token)"
      ],
      "execution_count": null,
      "outputs": [
        {
          "output_type": "execute_result",
          "data": {
            "text/plain": [
              "list"
            ]
          },
          "metadata": {
            "tags": []
          },
          "execution_count": 5
        }
      ]
    },
    {
      "cell_type": "code",
      "metadata": {
        "id": "0HV1HbQUdYB8",
        "outputId": "2da7cb9d-e2db-43b4-e6bd-556378597656",
        "colab": {
          "base_uri": "https://localhost:8080/",
          "height": 34
        }
      },
      "source": [
        "len(token)"
      ],
      "execution_count": null,
      "outputs": [
        {
          "output_type": "execute_result",
          "data": {
            "text/plain": [
              "14481"
            ]
          },
          "metadata": {
            "tags": []
          },
          "execution_count": 6
        }
      ]
    },
    {
      "cell_type": "code",
      "metadata": {
        "id": "NHAnxtXhdKZx",
        "outputId": "bd2ad17a-46e9-4737-9f35-d4e308d8f843",
        "colab": {
          "base_uri": "https://localhost:8080/",
          "height": 195
        }
      },
      "source": [
        "for i in range(0,14481):\n",
        "  seq=[0,26]\n",
        "  sequencelength= ''.join(seq)"
      ],
      "execution_count": null,
      "outputs": [
        {
          "output_type": "error",
          "ename": "TypeError",
          "evalue": "ignored",
          "traceback": [
            "\u001b[0;31m---------------------------------------------------------------------------\u001b[0m",
            "\u001b[0;31mTypeError\u001b[0m                                 Traceback (most recent call last)",
            "\u001b[0;32m<ipython-input-7-af5b5a274450>\u001b[0m in \u001b[0;36m<module>\u001b[0;34m()\u001b[0m\n\u001b[1;32m      1\u001b[0m \u001b[0;32mfor\u001b[0m \u001b[0mi\u001b[0m \u001b[0;32min\u001b[0m \u001b[0mrange\u001b[0m\u001b[0;34m(\u001b[0m\u001b[0;36m0\u001b[0m\u001b[0;34m,\u001b[0m\u001b[0;36m14481\u001b[0m\u001b[0;34m)\u001b[0m\u001b[0;34m:\u001b[0m\u001b[0;34m\u001b[0m\u001b[0;34m\u001b[0m\u001b[0m\n\u001b[1;32m      2\u001b[0m   \u001b[0mseq\u001b[0m\u001b[0;34m=\u001b[0m\u001b[0;34m[\u001b[0m\u001b[0;36m0\u001b[0m\u001b[0;34m,\u001b[0m\u001b[0;36m26\u001b[0m\u001b[0;34m]\u001b[0m\u001b[0;34m\u001b[0m\u001b[0;34m\u001b[0m\u001b[0m\n\u001b[0;32m----> 3\u001b[0;31m   \u001b[0msequencelength\u001b[0m\u001b[0;34m=\u001b[0m \u001b[0;34m''\u001b[0m\u001b[0;34m.\u001b[0m\u001b[0mjoin\u001b[0m\u001b[0;34m(\u001b[0m\u001b[0mseq\u001b[0m\u001b[0;34m)\u001b[0m\u001b[0;34m\u001b[0m\u001b[0;34m\u001b[0m\u001b[0m\n\u001b[0m",
            "\u001b[0;31mTypeError\u001b[0m: sequence item 0: expected str instance, int found"
          ]
        }
      ]
    },
    {
      "cell_type": "code",
      "metadata": {
        "id": "Vy5odjp8cUXT"
      },
      "source": [
        "# organize into sequences of tokens\n",
        "train_len = 25+1 # 50 training words , then one target word\n",
        "\n",
        "# Empty list of sequences\n",
        "text_sequences = []\n",
        "\n",
        "for i in range(train_len, len(token)):\n",
        "    \n",
        "    # Grab train_len# amount of characters\n",
        "    seq = token[i-train_len:i]\n",
        "    \n",
        "    # Add to list of sequences\n",
        "    text_sequences.append(seq)"
      ],
      "execution_count": null,
      "outputs": []
    },
    {
      "cell_type": "code",
      "metadata": {
        "id": "GTIGMUY4cb0k",
        "outputId": "107dc6ec-880a-4ba6-ba35-3f1c59613d41",
        "colab": {
          "base_uri": "https://localhost:8080/",
          "height": 454
        }
      },
      "source": [
        "seq"
      ],
      "execution_count": null,
      "outputs": [
        {
          "output_type": "execute_result",
          "data": {
            "text/plain": [
              "['marched',\n",
              " 'out',\n",
              " '\\n',\n",
              " 'of',\n",
              " 'the',\n",
              " 'room',\n",
              " ',',\n",
              " 'wrapped',\n",
              " 'up',\n",
              " 'in',\n",
              " 'his',\n",
              " 'great',\n",
              " 'pilot',\n",
              " 'monkey',\n",
              " 'jacket',\n",
              " ',',\n",
              " 'and',\n",
              " '\\n',\n",
              " 'sporting',\n",
              " 'his',\n",
              " 'harpoon',\n",
              " 'like',\n",
              " 'a',\n",
              " 'marshal',\n",
              " \"'s\",\n",
              " 'baton']"
            ]
          },
          "metadata": {
            "tags": []
          },
          "execution_count": 9
        }
      ]
    },
    {
      "cell_type": "code",
      "metadata": {
        "id": "Kx5AOv0dgTOS"
      },
      "source": [
        "from keras.preprocessing.text import text_to_word_sequence\n",
        "obj2 = text_to_word_sequence(d)"
      ],
      "execution_count": null,
      "outputs": []
    },
    {
      "cell_type": "code",
      "metadata": {
        "id": "NRFnzgdyhR0I",
        "outputId": "eaf97c1b-d1f7-4586-e1df-3df58f815c92",
        "colab": {
          "base_uri": "https://localhost:8080/",
          "height": 54
        }
      },
      "source": [
        "print(obj2)"
      ],
      "execution_count": null,
      "outputs": [
        {
          "output_type": "stream",
          "text": [
            "['call', 'me', 'ishmael', 'some', 'years', 'ago', 'never', 'mind', 'how', 'long', 'precisely', 'having', 'little', 'or', 'no', 'money', 'in', 'my', 'purse', 'and', 'nothing', 'particular', 'to', 'interest', 'me', 'on', 'shore', 'i', 'thought', 'i', 'would', 'sail', 'about', 'a', 'little', 'and', 'see', 'the', 'watery', 'part', 'of', 'the', 'world', 'it', 'is', 'a', 'way', 'i', 'have', 'of', 'driving', 'off', 'the', 'spleen', 'and', 'regulating', 'the', 'circulation', 'whenever', 'i', 'find', 'myself', 'growing', 'grim', 'about', 'the', 'mouth', 'whenever', 'it', 'is', 'a', 'damp', 'drizzly', 'november', 'in', 'my', 'soul', 'whenever', 'i', 'find', 'myself', 'involuntarily', 'pausing', 'before', 'coffin', 'warehouses', 'and', 'bringing', 'up', 'the', 'rear', 'of', 'every', 'funeral', 'i', 'meet', 'and', 'especially', 'whenever', 'my', 'hypos', 'get', 'such', 'an', 'upper', 'hand', 'of', 'me', 'that', 'it', 'requires', 'a', 'strong', 'moral', 'principle', 'to', 'prevent', 'me', 'from', 'deliberately', 'stepping', 'into', 'the', 'street', 'and', 'methodically', 'knocking', \"people's\", 'hats', 'off', 'then', 'i', 'account', 'it', 'high', 'time', 'to', 'get', 'to', 'sea', 'as', 'soon', 'as', 'i', 'can', 'this', 'is', 'my', 'substitute', 'for', 'pistol', 'and', 'ball', 'with', 'a', 'philosophical', 'flourish', 'cato', 'throws', 'himself', 'upon', 'his', 'sword', 'i', 'quietly', 'take', 'to', 'the', 'ship', 'there', 'is', 'nothing', 'surprising', 'in', 'this', 'if', 'they', 'but', 'knew', 'it', 'almost', 'all', 'men', 'in', 'their', 'degree', 'some', 'time', 'or', 'other', 'cherish', 'very', 'nearly', 'the', 'same', 'feelings', 'towards', 'the', 'ocean', 'with', 'me', 'there', 'now', 'is', 'your', 'insular', 'city', 'of', 'the', 'manhattoes', 'belted', 'round', 'by', 'wharves', 'as', 'indian', 'isles', 'by', 'coral', 'reefs', 'commerce', 'surrounds', 'it', 'with', 'her', 'surf', 'right', 'and', 'left', 'the', 'streets', 'take', 'you', 'waterward', 'its', 'extreme', 'downtown', 'is', 'the', 'battery', 'where', 'that', 'noble', 'mole', 'is', 'washed', 'by', 'waves', 'and', 'cooled', 'by', 'breezes', 'which', 'a', 'few', 'hours', 'previous', 'were', 'out', 'of', 'sight', 'of', 'land', 'look', 'at', 'the', 'crowds', 'of', 'water', 'gazers', 'there', 'circumambulate', 'the', 'city', 'of', 'a', 'dreamy', 'sabbath', 'afternoon', 'go', 'from', 'corlears', 'hook', 'to', 'coenties', 'slip', 'and', 'from', 'thence', 'by', 'whitehall', 'northward', 'what', 'do', 'you', 'see', 'posted', 'like', 'silent', 'sentinels', 'all', 'around', 'the', 'town', 'stand', 'thousands', 'upon', 'thousands', 'of', 'mortal', 'men', 'fixed', 'in', 'ocean', 'reveries', 'some', 'leaning', 'against', 'the', 'spiles', 'some', 'seated', 'upon', 'the', 'pier', 'heads', 'some', 'looking', 'over', 'the', 'bulwarks', 'of', 'ships', 'from', 'china', 'some', 'high', 'aloft', 'in', 'the', 'rigging', 'as', 'if', 'striving', 'to', 'get', 'a', 'still', 'better', 'seaward', 'peep', 'but', 'these', 'are', 'all', 'landsmen', 'of', 'week', 'days', 'pent', 'up', 'in', 'lath', 'and', 'plaster', 'tied', 'to', 'counters', 'nailed', 'to', 'benches', 'clinched', 'to', 'desks', 'how', 'then', 'is', 'this', 'are', 'the', 'green', 'fields', 'gone', 'what', 'do', 'they', 'here', 'but', 'look', 'here', 'come', 'more', 'crowds', 'pacing', 'straight', 'for', 'the', 'water', 'and', 'seemingly', 'bound', 'for', 'a', 'dive', 'strange', 'nothing', 'will', 'content', 'them', 'but', 'the', 'extremest', 'limit', 'of', 'the', 'land', 'loitering', 'under', 'the', 'shady', 'lee', 'of', 'yonder', 'warehouses', 'will', 'not', 'suffice', 'no', 'they', 'must', 'get', 'just', 'as', 'nigh', 'the', 'water', 'as', 'they', 'possibly', 'can', 'without', 'falling', 'in', 'and', 'there', 'they', 'stand', 'miles', 'of', 'them', 'leagues', 'inlanders', 'all', 'they', 'come', 'from', 'lanes', 'and', 'alleys', 'streets', 'and', 'avenues', 'north', 'east', 'south', 'and', 'west', 'yet', 'here', 'they', 'all', 'unite', 'tell', 'me', 'does', 'the', 'magnetic', 'virtue', 'of', 'the', 'needles', 'of', 'the', 'compasses', 'of', 'all', 'those', 'ships', 'attract', 'them', 'thither', 'once', 'more', 'say', 'you', 'are', 'in', 'the', 'country', 'in', 'some', 'high', 'land', 'of', 'lakes', 'take', 'almost', 'any', 'path', 'you', 'please', 'and', 'ten', 'to', 'one', 'it', 'carries', 'you', 'down', 'in', 'a', 'dale', 'and', 'leaves', 'you', 'there', 'by', 'a', 'pool', 'in', 'the', 'stream', 'there', 'is', 'magic', 'in', 'it', 'let', 'the', 'most', 'absent', 'minded', 'of', 'men', 'be', 'plunged', 'in', 'his', 'deepest', 'reveries', 'stand', 'that', 'man', 'on', 'his', 'legs', 'set', 'his', 'feet', 'a', 'going', 'and', 'he', 'will', 'infallibly', 'lead', 'you', 'to', 'water', 'if', 'water', 'there', 'be', 'in', 'all', 'that', 'region', 'should', 'you', 'ever', 'be', 'athirst', 'in', 'the', 'great', 'american', 'desert', 'try', 'this', 'experiment', 'if', 'your', 'caravan', 'happen', 'to', 'be', 'supplied', 'with', 'a', 'metaphysical', 'professor', 'yes', 'as', 'every', 'one', 'knows', 'meditation', 'and', 'water', 'are', 'wedded', 'for', 'ever', 'but', 'here', 'is', 'an', 'artist', 'he', 'desires', 'to', 'paint', 'you', 'the', 'dreamiest', 'shadiest', 'quietest', 'most', 'enchanting', 'bit', 'of', 'romantic', 'landscape', 'in', 'all', 'the', 'valley', 'of', 'the', 'saco', 'what', 'is', 'the', 'chief', 'element', 'he', 'employs', 'there', 'stand', 'his', 'trees', 'each', 'with', 'a', 'hollow', 'trunk', 'as', 'if', 'a', 'hermit', 'and', 'a', 'crucifix', 'were', 'within', 'and', 'here', 'sleeps', 'his', 'meadow', 'and', 'there', 'sleep', 'his', 'cattle', 'and', 'up', 'from', 'yonder', 'cottage', 'goes', 'a', 'sleepy', 'smoke', 'deep', 'into', 'distant', 'woodlands', 'winds', 'a', 'mazy', 'way', 'reaching', 'to', 'overlapping', 'spurs', 'of', 'mountains', 'bathed', 'in', 'their', 'hill', 'side', 'blue', 'but', 'though', 'the', 'picture', 'lies', 'thus', 'tranced', 'and', 'though', 'this', 'pine', 'tree', 'shakes', 'down', 'its', 'sighs', 'like', 'leaves', 'upon', 'this', \"shepherd's\", 'head', 'yet', 'all', 'were', 'vain', 'unless', 'the', \"shepherd's\", 'eye', 'were', 'fixed', 'upon', 'the', 'magic', 'stream', 'before', 'him', 'go', 'visit', 'the', 'prairies', 'in', 'june', 'when', 'for', 'scores', 'on', 'scores', 'of', 'miles', 'you', 'wade', 'knee', 'deep', 'among', 'tiger', 'lilies', 'what', 'is', 'the', 'one', 'charm', 'wanting', 'water', 'there', 'is', 'not', 'a', 'drop', 'of', 'water', 'there', 'were', 'niagara', 'but', 'a', 'cataract', 'of', 'sand', 'would', 'you', 'travel', 'your', 'thousand', 'miles', 'to', 'see', 'it', 'why', 'did', 'the', 'poor', 'poet', 'of', 'tennessee', 'upon', 'suddenly', 'receiving', 'two', 'handfuls', 'of', 'silver', 'deliberate', 'whether', 'to', 'buy', 'him', 'a', 'coat', 'which', 'he', 'sadly', 'needed', 'or', 'invest', 'his', 'money', 'in', 'a', 'pedestrian', 'trip', 'to', 'rockaway', 'beach', 'why', 'is', 'almost', 'every', 'robust', 'healthy', 'boy', 'with', 'a', 'robust', 'healthy', 'soul', 'in', 'him', 'at', 'some', 'time', 'or', 'other', 'crazy', 'to', 'go', 'to', 'sea', 'why', 'upon', 'your', 'first', 'voyage', 'as', 'a', 'passenger', 'did', 'you', 'yourself', 'feel', 'such', 'a', 'mystical', 'vibration', 'when', 'first', 'told', 'that', 'you', 'and', 'your', 'ship', 'were', 'now', 'out', 'of', 'sight', 'of', 'land', 'why', 'did', 'the', 'old', 'persians', 'hold', 'the', 'sea', 'holy', 'why', 'did', 'the', 'greeks', 'give', 'it', 'a', 'separate', 'deity', 'and', 'own', 'brother', 'of', 'jove', 'surely', 'all', 'this', 'is', 'not', 'without', 'meaning', 'and', 'still', 'deeper', 'the', 'meaning', 'of', 'that', 'story', 'of', 'narcissus', 'who', 'because', 'he', 'could', 'not', 'grasp', 'the', 'tormenting', 'mild', 'image', 'he', 'saw', 'in', 'the', 'fountain', 'plunged', 'into', 'it', 'and', 'was', 'drowned', 'but', 'that', 'same', 'image', 'we', 'ourselves', 'see', 'in', 'all', 'rivers', 'and', 'oceans', 'it', 'is', 'the', 'image', 'of', 'the', 'ungraspable', 'phantom', 'of', 'life', 'and', 'this', 'is', 'the', 'key', 'to', 'it', 'all', 'now', 'when', 'i', 'say', 'that', 'i', 'am', 'in', 'the', 'habit', 'of', 'going', 'to', 'sea', 'whenever', 'i', 'begin', 'to', 'grow', 'hazy', 'about', 'the', 'eyes', 'and', 'begin', 'to', 'be', 'over', 'conscious', 'of', 'my', 'lungs', 'i', 'do', 'not', 'mean', 'to', 'have', 'it', 'inferred', 'that', 'i', 'ever', 'go', 'to', 'sea', 'as', 'a', 'passenger', 'for', 'to', 'go', 'as', 'a', 'passenger', 'you', 'must', 'needs', 'have', 'a', 'purse', 'and', 'a', 'purse', 'is', 'but', 'a', 'rag', 'unless', 'you', 'have', 'something', 'in', 'it', 'besides', 'passengers', 'get', 'sea', 'sick', 'grow', 'quarrelsome', \"don't\", 'sleep', 'of', 'nights', 'do', 'not', 'enjoy', 'themselves', 'much', 'as', 'a', 'general', 'thing', 'no', 'i', 'never', 'go', 'as', 'a', 'passenger', 'nor', 'though', 'i', 'am', 'something', 'of', 'a', 'salt', 'do', 'i', 'ever', 'go', 'to', 'sea', 'as', 'a', 'commodore', 'or', 'a', 'captain', 'or', 'a', 'cook', 'i', 'abandon', 'the', 'glory', 'and', 'distinction', 'of', 'such', 'offices', 'to', 'those', 'who', 'like', 'them', 'for', 'my', 'part', 'i', 'abominate', 'all', 'honourable', 'respectable', 'toils', 'trials', 'and', 'tribulations', 'of', 'every', 'kind', 'whatsoever', 'it', 'is', 'quite', 'as', 'much', 'as', 'i', 'can', 'do', 'to', 'take', 'care', 'of', 'myself', 'without', 'taking', 'care', 'of', 'ships', 'barques', 'brigs', 'schooners', 'and', 'what', 'not', 'and', 'as', 'for', 'going', 'as', 'cook', 'though', 'i', 'confess', 'there', 'is', 'considerable', 'glory', 'in', 'that', 'a', 'cook', 'being', 'a', 'sort', 'of', 'officer', 'on', 'ship', 'board', 'yet', 'somehow', 'i', 'never', 'fancied', 'broiling', 'fowls', 'though', 'once', 'broiled', 'judiciously', 'buttered', 'and', 'judgmatically', 'salted', 'and', 'peppered', 'there', 'is', 'no', 'one', 'who', 'will', 'speak', 'more', 'respectfully', 'not', 'to', 'say', 'reverentially', 'of', 'a', 'broiled', 'fowl', 'than', 'i', 'will', 'it', 'is', 'out', 'of', 'the', 'idolatrous', 'dotings', 'of', 'the', 'old', 'egyptians', 'upon', 'broiled', 'ibis', 'and', 'roasted', 'river', 'horse', 'that', 'you', 'see', 'the', 'mummies', 'of', 'those', 'creatures', 'in', 'their', 'huge', 'bake', 'houses', 'the', 'pyramids', 'no', 'when', 'i', 'go', 'to', 'sea', 'i', 'go', 'as', 'a', 'simple', 'sailor', 'right', 'before', 'the', 'mast', 'plumb', 'down', 'into', 'the', 'forecastle', 'aloft', 'there', 'to', 'the', 'royal', 'mast', 'head', 'true', 'they', 'rather', 'order', 'me', 'about', 'some', 'and', 'make', 'me', 'jump', 'from', 'spar', 'to', 'spar', 'like', 'a', 'grasshopper', 'in', 'a', 'may', 'meadow', 'and', 'at', 'first', 'this', 'sort', 'of', 'thing', 'is', 'unpleasant', 'enough', 'it', 'touches', \"one's\", 'sense', 'of', 'honour', 'particularly', 'if', 'you', 'come', 'of', 'an', 'old', 'established', 'family', 'in', 'the', 'land', 'the', 'van', 'rensselaers', 'or', 'randolphs', 'or', 'hardicanutes', 'and', 'more', 'than', 'all', 'if', 'just', 'previous', 'to', 'putting', 'your', 'hand', 'into', 'the', 'tar', 'pot', 'you', 'have', 'been', 'lording', 'it', 'as', 'a', 'country', 'schoolmaster', 'making', 'the', 'tallest', 'boys', 'stand', 'in', 'awe', 'of', 'you', 'the', 'transition', 'is', 'a', 'keen', 'one', 'i', 'assure', 'you', 'from', 'a', 'schoolmaster', 'to', 'a', 'sailor', 'and', 'requires', 'a', 'strong', 'decoction', 'of', 'seneca', 'and', 'the', 'stoics', 'to', 'enable', 'you', 'to', 'grin', 'and', 'bear', 'it', 'but', 'even', 'this', 'wears', 'off', 'in', 'time', 'what', 'of', 'it', 'if', 'some', 'old', 'hunks', 'of', 'a', 'sea', 'captain', 'orders', 'me', 'to', 'get', 'a', 'broom', 'and', 'sweep', 'down', 'the', 'decks', 'what', 'does', 'that', 'indignity', 'amount', 'to', 'weighed', 'i', 'mean', 'in', 'the', 'scales', 'of', 'the', 'new', 'testament', 'do', 'you', 'think', 'the', 'archangel', 'gabriel', 'thinks', 'anything', 'the', 'less', 'of', 'me', 'because', 'i', 'promptly', 'and', 'respectfully', 'obey', 'that', 'old', 'hunks', 'in', 'that', 'particular', 'instance', 'who', \"ain't\", 'a', 'slave', 'tell', 'me', 'that', 'well', 'then', 'however', 'the', 'old', 'sea', 'captains', 'may', 'order', 'me', 'about', 'however', 'they', 'may', 'thump', 'and', 'punch', 'me', 'about', 'i', 'have', 'the', 'satisfaction', 'of', 'knowing', 'that', 'it', 'is', 'all', 'right', 'that', 'everybody', 'else', 'is', 'one', 'way', 'or', 'other', 'served', 'in', 'much', 'the', 'same', 'way', 'either', 'in', 'a', 'physical', 'or', 'metaphysical', 'point', 'of', 'view', 'that', 'is', 'and', 'so', 'the', 'universal', 'thump', 'is', 'passed', 'round', 'and', 'all', 'hands', 'should', 'rub', 'each', \"other's\", 'shoulder', 'blades', 'and', 'be', 'content', 'again', 'i', 'always', 'go', 'to', 'sea', 'as', 'a', 'sailor', 'because', 'they', 'make', 'a', 'point', 'of', 'paying', 'me', 'for', 'my', 'trouble', 'whereas', 'they', 'never', 'pay', 'passengers', 'a', 'single', 'penny', 'that', 'i', 'ever', 'heard', 'of', 'on', 'the', 'contrary', 'passengers', 'themselves', 'must', 'pay', 'and', 'there', 'is', 'all', 'the', 'difference', 'in', 'the', 'world', 'between', 'paying', 'and', 'being', 'paid', 'the', 'act', 'of', 'paying', 'is', 'perhaps', 'the', 'most', 'uncomfortable', 'infliction', 'that', 'the', 'two', 'orchard', 'thieves', 'entailed', 'upon', 'us', 'but', 'being', 'paid', 'what', 'will', 'compare', 'with', 'it', 'the', 'urbane', 'activity', 'with', 'which', 'a', 'man', 'receives', 'money', 'is', 'really', 'marvellous', 'considering', 'that', 'we', 'so', 'earnestly', 'believe', 'money', 'to', 'be', 'the', 'root', 'of', 'all', 'earthly', 'ills', 'and', 'that', 'on', 'no', 'account', 'can', 'a', 'monied', 'man', 'enter', 'heaven', 'ah', 'how', 'cheerfully', 'we', 'consign', 'ourselves', 'to', 'perdition', 'finally', 'i', 'always', 'go', 'to', 'sea', 'as', 'a', 'sailor', 'because', 'of', 'the', 'wholesome', 'exercise', 'and', 'pure', 'air', 'of', 'the', 'fore', 'castle', 'deck', 'for', 'as', 'in', 'this', 'world', 'head', 'winds', 'are', 'far', 'more', 'prevalent', 'than', 'winds', 'from', 'astern', 'that', 'is', 'if', 'you', 'never', 'violate', 'the', 'pythagorean', 'maxim', 'so', 'for', 'the', 'most', 'part', 'the', 'commodore', 'on', 'the', 'quarter', 'deck', 'gets', 'his', 'atmosphere', 'at', 'second', 'hand', 'from', 'the', 'sailors', 'on', 'the', 'forecastle', 'he', 'thinks', 'he', 'breathes', 'it', 'first', 'but', 'not', 'so', 'in', 'much', 'the', 'same', 'way', 'do', 'the', 'commonalty', 'lead', 'their', 'leaders', 'in', 'many', 'other', 'things', 'at', 'the', 'same', 'time', 'that', 'the', 'leaders', 'little', 'suspect', 'it', 'but', 'wherefore', 'it', 'was', 'that', 'after', 'having', 'repeatedly', 'smelt', 'the', 'sea', 'as', 'a', 'merchant', 'sailor', 'i', 'should', 'now', 'take', 'it', 'into', 'my', 'head', 'to', 'go', 'on', 'a', 'whaling', 'voyage', 'this', 'the', 'invisible', 'police', 'officer', 'of', 'the', 'fates', 'who', 'has', 'the', 'constant', 'surveillance', 'of', 'me', 'and', 'secretly', 'dogs', 'me', 'and', 'influences', 'me', 'in', 'some', 'unaccountable', 'way', 'he', 'can', 'better', 'answer', 'than', 'any', 'one', 'else', 'and', 'doubtless', 'my', 'going', 'on', 'this', 'whaling', 'voyage', 'formed', 'part', 'of', 'the', 'grand', 'programme', 'of', 'providence', 'that', 'was', 'drawn', 'up', 'a', 'long', 'time', 'ago', 'it', 'came', 'in', 'as', 'a', 'sort', 'of', 'brief', 'interlude', 'and', 'solo', 'between', 'more', 'extensive', 'performances', 'i', 'take', 'it', 'that', 'this', 'part', 'of', 'the', 'bill', 'must', 'have', 'run', 'something', 'like', 'this', 'grand', 'contested', 'election', 'for', 'the', 'presidency', 'of', 'the', 'united', 'states', 'whaling', 'voyage', 'by', 'one', 'ishmael', 'bloody', 'battle', 'in', 'affghanistan', 'though', 'i', 'cannot', 'tell', 'why', 'it', 'was', 'exactly', 'that', 'those', 'stage', 'managers', 'the', 'fates', 'put', 'me', 'down', 'for', 'this', 'shabby', 'part', 'of', 'a', 'whaling', 'voyage', 'when', 'others', 'were', 'set', 'down', 'for', 'magnificent', 'parts', 'in', 'high', 'tragedies', 'and', 'short', 'and', 'easy', 'parts', 'in', 'genteel', 'comedies', 'and', 'jolly', 'parts', 'in', 'farces', 'though', 'i', 'cannot', 'tell', 'why', 'this', 'was', 'exactly', 'yet', 'now', 'that', 'i', 'recall', 'all', 'the', 'circumstances', 'i', 'think', 'i', 'can', 'see', 'a', 'little', 'into', 'the', 'springs', 'and', 'motives', 'which', 'being', 'cunningly', 'presented', 'to', 'me', 'under', 'various', 'disguises', 'induced', 'me', 'to', 'set', 'about', 'performing', 'the', 'part', 'i', 'did', 'besides', 'cajoling', 'me', 'into', 'the', 'delusion', 'that', 'it', 'was', 'a', 'choice', 'resulting', 'from', 'my', 'own', 'unbiased', 'freewill', 'and', 'discriminating', 'judgment', 'chief', 'among', 'these', 'motives', 'was', 'the', 'overwhelming', 'idea', 'of', 'the', 'great', 'whale', 'himself', 'such', 'a', 'portentous', 'and', 'mysterious', 'monster', 'roused', 'all', 'my', 'curiosity', 'then', 'the', 'wild', 'and', 'distant', 'seas', 'where', 'he', 'rolled', 'his', 'island', 'bulk', 'the', 'undeliverable', 'nameless', 'perils', 'of', 'the', 'whale', 'these', 'with', 'all', 'the', 'attending', 'marvels', 'of', 'a', 'thousand', 'patagonian', 'sights', 'and', 'sounds', 'helped', 'to', 'sway', 'me', 'to', 'my', 'wish', 'with', 'other', 'men', 'perhaps', 'such', 'things', 'would', 'not', 'have', 'been', 'inducements', 'but', 'as', 'for', 'me', 'i', 'am', 'tormented', 'with', 'an', 'everlasting', 'itch', 'for', 'things', 'remote', 'i', 'love', 'to', 'sail', 'forbidden', 'seas', 'and', 'land', 'on', 'barbarous', 'coasts', 'not', 'ignoring', 'what', 'is', 'good', 'i', 'am', 'quick', 'to', 'perceive', 'a', 'horror', 'and', 'could', 'still', 'be', 'social', 'with', 'it', 'would', 'they', 'let', 'me', 'since', 'it', 'is', 'but', 'well', 'to', 'be', 'on', 'friendly', 'terms', 'with', 'all', 'the', 'inmates', 'of', 'the', 'place', 'one', 'lodges', 'in', 'by', 'reason', 'of', 'these', 'things', 'then', 'the', 'whaling', 'voyage', 'was', 'welcome', 'the', 'great', 'flood', 'gates', 'of', 'the', 'wonder', 'world', 'swung', 'open', 'and', 'in', 'the', 'wild', 'conceits', 'that', 'swayed', 'me', 'to', 'my', 'purpose', 'two', 'and', 'two', 'there', 'floated', 'into', 'my', 'inmost', 'soul', 'endless', 'processions', 'of', 'the', 'whale', 'and', 'mid', 'most', 'of', 'them', 'all', 'one', 'grand', 'hooded', 'phantom', 'like', 'a', 'snow', 'hill', 'in', 'the', 'air', 'i', 'stuffed', 'a', 'shirt', 'or', 'two', 'into', 'my', 'old', 'carpet', 'bag', 'tucked', 'it', 'under', 'my', 'arm', 'and', 'started', 'for', 'cape', 'horn', 'and', 'the', 'pacific', 'quitting', 'the', 'good', 'city', 'of', 'old', 'manhatto', 'i', 'duly', 'arrived', 'in', 'new', 'bedford', 'it', 'was', 'a', 'saturday', 'night', 'in', 'december', 'much', 'was', 'i', 'disappointed', 'upon', 'learning', 'that', 'the', 'little', 'packet', 'for', 'nantucket', 'had', 'already', 'sailed', 'and', 'that', 'no', 'way', 'of', 'reaching', 'that', 'place', 'would', 'offer', 'till', 'the', 'following', 'monday', 'as', 'most', 'young', 'candidates', 'for', 'the', 'pains', 'and', 'penalties', 'of', 'whaling', 'stop', 'at', 'this', 'same', 'new', 'bedford', 'thence', 'to', 'embark', 'on', 'their', 'voyage', 'it', 'may', 'as', 'well', 'be', 'related', 'that', 'i', 'for', 'one', 'had', 'no', 'idea', 'of', 'so', 'doing', 'for', 'my', 'mind', 'was', 'made', 'up', 'to', 'sail', 'in', 'no', 'other', 'than', 'a', 'nantucket', 'craft', 'because', 'there', 'was', 'a', 'fine', 'boisterous', 'something', 'about', 'everything', 'connected', 'with', 'that', 'famous', 'old', 'island', 'which', 'amazingly', 'pleased', 'me', 'besides', 'though', 'new', 'bedford', 'has', 'of', 'late', 'been', 'gradually', 'monopolising', 'the', 'business', 'of', 'whaling', 'and', 'though', 'in', 'this', 'matter', 'poor', 'old', 'nantucket', 'is', 'now', 'much', 'behind', 'her', 'yet', 'nantucket', 'was', 'her', 'great', 'original', 'the', 'tyre', 'of', 'this', 'carthage', 'the', 'place', 'where', 'the', 'first', 'dead', 'american', 'whale', 'was', 'stranded', 'where', 'else', 'but', 'from', 'nantucket', 'did', 'those', 'aboriginal', 'whalemen', 'the', 'red', 'men', 'first', 'sally', 'out', 'in', 'canoes', 'to', 'give', 'chase', 'to', 'the', 'leviathan', 'and', 'where', 'but', 'from', 'nantucket', 'too', 'did', 'that', 'first', 'adventurous', 'little', 'sloop', 'put', 'forth', 'partly', 'laden', 'with', 'imported', 'cobblestones', 'so', 'goes', 'the', 'story', 'to', 'throw', 'at', 'the', 'whales', 'in', 'order', 'to', 'discover', 'when', 'they', 'were', 'nigh', 'enough', 'to', 'risk', 'a', 'harpoon', 'from', 'the', 'bowsprit', 'now', 'having', 'a', 'night', 'a', 'day', 'and', 'still', 'another', 'night', 'following', 'before', 'me', 'in', 'new', 'bedford', 'ere', 'i', 'could', 'embark', 'for', 'my', 'destined', 'port', 'it', 'became', 'a', 'matter', 'of', 'concernment', 'where', 'i', 'was', 'to', 'eat', 'and', 'sleep', 'meanwhile', 'it', 'was', 'a', 'very', 'dubious', 'looking', 'nay', 'a', 'very', 'dark', 'and', 'dismal', 'night', 'bitingly', 'cold', 'and', 'cheerless', 'i', 'knew', 'no', 'one', 'in', 'the', 'place', 'with', 'anxious', 'grapnels', 'i', 'had', 'sounded', 'my', 'pocket', 'and', 'only', 'brought', 'up', 'a', 'few', 'pieces', 'of', 'silver', 'so', 'wherever', 'you', 'go', 'ishmael', 'said', 'i', 'to', 'myself', 'as', 'i', 'stood', 'in', 'the', 'middle', 'of', 'a', 'dreary', 'street', 'shouldering', 'my', 'bag', 'and', 'comparing', 'the', 'gloom', 'towards', 'the', 'north', 'with', 'the', 'darkness', 'towards', 'the', 'south', 'wherever', 'in', 'your', 'wisdom', 'you', 'may', 'conclude', 'to', 'lodge', 'for', 'the', 'night', 'my', 'dear', 'ishmael', 'be', 'sure', 'to', 'inquire', 'the', 'price', 'and', \"don't\", 'be', 'too', 'particular', 'with', 'halting', 'steps', 'i', 'paced', 'the', 'streets', 'and', 'passed', 'the', 'sign', 'of', 'the', 'crossed', 'harpoons', 'but', 'it', 'looked', 'too', 'expensive', 'and', 'jolly', 'there', 'further', 'on', 'from', 'the', 'bright', 'red', 'windows', 'of', 'the', 'sword', 'fish', 'inn', 'there', 'came', 'such', 'fervent', 'rays', 'that', 'it', 'seemed', 'to', 'have', 'melted', 'the', 'packed', 'snow', 'and', 'ice', 'from', 'before', 'the', 'house', 'for', 'everywhere', 'else', 'the', 'congealed', 'frost', 'lay', 'ten', 'inches', 'thick', 'in', 'a', 'hard', 'asphaltic', 'pavement', 'rather', 'weary', 'for', 'me', 'when', 'i', 'struck', 'my', 'foot', 'against', 'the', 'flinty', 'projections', 'because', 'from', 'hard', 'remorseless', 'service', 'the', 'soles', 'of', 'my', 'boots', 'were', 'in', 'a', 'most', 'miserable', 'plight', 'too', 'expensive', 'and', 'jolly', 'again', 'thought', 'i', 'pausing', 'one', 'moment', 'to', 'watch', 'the', 'broad', 'glare', 'in', 'the', 'street', 'and', 'hear', 'the', 'sounds', 'of', 'the', 'tinkling', 'glasses', 'within', 'but', 'go', 'on', 'ishmael', 'said', 'i', 'at', 'last', \"don't\", 'you', 'hear', 'get', 'away', 'from', 'before', 'the', 'door', 'your', 'patched', 'boots', 'are', 'stopping', 'the', 'way', 'so', 'on', 'i', 'went', 'i', 'now', 'by', 'instinct', 'followed', 'the', 'streets', 'that', 'took', 'me', 'waterward', 'for', 'there', 'doubtless', 'were', 'the', 'cheapest', 'if', 'not', 'the', 'cheeriest', 'inns', 'such', 'dreary', 'streets', 'blocks', 'of', 'blackness', 'not', 'houses', 'on', 'either', 'hand', 'and', 'here', 'and', 'there', 'a', 'candle', 'like', 'a', 'candle', 'moving', 'about', 'in', 'a', 'tomb', 'at', 'this', 'hour', 'of', 'the', 'night', 'of', 'the', 'last', 'day', 'of', 'the', 'week', 'that', 'quarter', 'of', 'the', 'town', 'proved', 'all', 'but', 'deserted', 'but', 'presently', 'i', 'came', 'to', 'a', 'smoky', 'light', 'proceeding', 'from', 'a', 'low', 'wide', 'building', 'the', 'door', 'of', 'which', 'stood', 'invitingly', 'open', 'it', 'had', 'a', 'careless', 'look', 'as', 'if', 'it', 'were', 'meant', 'for', 'the', 'uses', 'of', 'the', 'public', 'so', 'entering', 'the', 'first', 'thing', 'i', 'did', 'was', 'to', 'stumble', 'over', 'an', 'ash', 'box', 'in', 'the', 'porch', 'ha', 'thought', 'i', 'ha', 'as', 'the', 'flying', 'particles', 'almost', 'choked', 'me', 'are', 'these', 'ashes', 'from', 'that', 'destroyed', 'city', 'gomorrah', 'but', 'the', 'crossed', 'harpoons', 'and', 'the', 'sword', 'fish', 'this', 'then', 'must', 'needs', 'be', 'the', 'sign', 'of', 'the', 'trap', 'however', 'i', 'picked', 'myself', 'up', 'and', 'hearing', 'a', 'loud', 'voice', 'within', 'pushed', 'on', 'and', 'opened', 'a', 'second', 'interior', 'door', 'it', 'seemed', 'the', 'great', 'black', 'parliament', 'sitting', 'in', 'tophet', 'a', 'hundred', 'black', 'faces', 'turned', 'round', 'in', 'their', 'rows', 'to', 'peer', 'and', 'beyond', 'a', 'black', 'angel', 'of', 'doom', 'was', 'beating', 'a', 'book', 'in', 'a', 'pulpit', 'it', 'was', 'a', 'negro', 'church', 'and', 'the', \"preacher's\", 'text', 'was', 'about', 'the', 'blackness', 'of', 'darkness', 'and', 'the', 'weeping', 'and', 'wailing', 'and', 'teeth', 'gnashing', 'there', 'ha', 'ishmael', 'muttered', 'i', 'backing', 'out', 'wretched', 'entertainment', 'at', 'the', 'sign', 'of', \"'the\", 'trap', \"'\", 'moving', 'on', 'i', 'at', 'last', 'came', 'to', 'a', 'dim', 'sort', 'of', 'light', 'not', 'far', 'from', 'the', 'docks', 'and', 'heard', 'a', 'forlorn', 'creaking', 'in', 'the', 'air', 'and', 'looking', 'up', 'saw', 'a', 'swinging', 'sign', 'over', 'the', 'door', 'with', 'a', 'white', 'painting', 'upon', 'it', 'faintly', 'representing', 'a', 'tall', 'straight', 'jet', 'of', 'misty', 'spray', 'and', 'these', 'words', 'underneath', 'the', 'spouter', 'inn', 'peter', 'coffin', 'coffin', 'spouter', 'rather', 'ominous', 'in', 'that', 'particular', 'connexion', 'thought', 'i', 'but', 'it', 'is', 'a', 'common', 'name', 'in', 'nantucket', 'they', 'say', 'and', 'i', 'suppose', 'this', 'peter', 'here', 'is', 'an', 'emigrant', 'from', 'there', 'as', 'the', 'light', 'looked', 'so', 'dim', 'and', 'the', 'place', 'for', 'the', 'time', 'looked', 'quiet', 'enough', 'and', 'the', 'dilapidated', 'little', 'wooden', 'house', 'itself', 'looked', 'as', 'if', 'it', 'might', 'have', 'been', 'carted', 'here', 'from', 'the', 'ruins', 'of', 'some', 'burnt', 'district', 'and', 'as', 'the', 'swinging', 'sign', 'had', 'a', 'poverty', 'stricken', 'sort', 'of', 'creak', 'to', 'it', 'i', 'thought', 'that', 'here', 'was', 'the', 'very', 'spot', 'for', 'cheap', 'lodgings', 'and', 'the', 'best', 'of', 'pea', 'coffee', 'it', 'was', 'a', 'queer', 'sort', 'of', 'place', 'a', 'gable', 'ended', 'old', 'house', 'one', 'side', 'palsied', 'as', 'it', 'were', 'and', 'leaning', 'over', 'sadly', 'it', 'stood', 'on', 'a', 'sharp', 'bleak', 'corner', 'where', 'that', 'tempestuous', 'wind', 'euroclydon', 'kept', 'up', 'a', 'worse', 'howling', 'than', 'ever', 'it', 'did', 'about', 'poor', \"paul's\", 'tossed', 'craft', 'euroclydon', 'nevertheless', 'is', 'a', 'mighty', 'pleasant', 'zephyr', 'to', 'any', 'one', 'in', 'doors', 'with', 'his', 'feet', 'on', 'the', 'hob', 'quietly', 'toasting', 'for', 'bed', 'in', 'judging', 'of', 'that', 'tempestuous', 'wind', 'called', 'euroclydon', 'says', 'an', 'old', 'writer', 'of', 'whose', 'works', 'i', 'possess', 'the', 'only', 'copy', 'extant', 'it', 'maketh', 'a', 'marvellous', 'difference', 'whether', 'thou', 'lookest', 'out', 'at', 'it', 'from', 'a', 'glass', 'window', 'where', 'the', 'frost', 'is', 'all', 'on', 'the', 'outside', 'or', 'whether', 'thou', 'observest', 'it', 'from', 'that', 'sashless', 'window', 'where', 'the', 'frost', 'is', 'on', 'both', 'sides', 'and', 'of', 'which', 'the', 'wight', 'death', 'is', 'the', 'only', 'glazier', 'true', 'enough', 'thought', 'i', 'as', 'this', 'passage', 'occurred', 'to', 'my', 'mind', 'old', 'black', 'letter', 'thou', 'reasonest', 'well', 'yes', 'these', 'eyes', 'are', 'windows', 'and', 'this', 'body', 'of', 'mine', 'is', 'the', 'house', 'what', 'a', 'pity', 'they', \"didn't\", 'stop', 'up', 'the', 'chinks', 'and', 'the', 'crannies', 'though', 'and', 'thrust', 'in', 'a', 'little', 'lint', 'here', 'and', 'there', 'but', \"it's\", 'too', 'late', 'to', 'make', 'any', 'improvements', 'now', 'the', 'universe', 'is', 'finished', 'the', 'copestone', 'is', 'on', 'and', 'the', 'chips', 'were', 'carted', 'off', 'a', 'million', 'years', 'ago', 'poor', 'lazarus', 'there', 'chattering', 'his', 'teeth', 'against', 'the', 'curbstone', 'for', 'his', 'pillow', 'and', 'shaking', 'off', 'his', 'tatters', 'with', 'his', 'shiverings', 'he', 'might', 'plug', 'up', 'both', 'ears', 'with', 'rags', 'and', 'put', 'a', 'corn', 'cob', 'into', 'his', 'mouth', 'and', 'yet', 'that', 'would', 'not', 'keep', 'out', 'the', 'tempestuous', 'euroclydon', 'euroclydon', 'says', 'old', 'dives', 'in', 'his', 'red', 'silken', 'wrapper', 'he', 'had', 'a', 'redder', 'one', 'afterwards', 'pooh', 'pooh', 'what', 'a', 'fine', 'frosty', 'night', 'how', 'orion', 'glitters', 'what', 'northern', 'lights', 'let', 'them', 'talk', 'of', 'their', 'oriental', 'summer', 'climes', 'of', 'everlasting', 'conservatories', 'give', 'me', 'the', 'privilege', 'of', 'making', 'my', 'own', 'summer', 'with', 'my', 'own', 'coals', 'but', 'what', 'thinks', 'lazarus', 'can', 'he', 'warm', 'his', 'blue', 'hands', 'by', 'holding', 'them', 'up', 'to', 'the', 'grand', 'northern', 'lights', 'would', 'not', 'lazarus', 'rather', 'be', 'in', 'sumatra', 'than', 'here', 'would', 'he', 'not', 'far', 'rather', 'lay', 'him', 'down', 'lengthwise', 'along', 'the', 'line', 'of', 'the', 'equator', 'yea', 'ye', 'gods', 'go', 'down', 'to', 'the', 'fiery', 'pit', 'itself', 'in', 'order', 'to', 'keep', 'out', 'this', 'frost', 'now', 'that', 'lazarus', 'should', 'lie', 'stranded', 'there', 'on', 'the', 'curbstone', 'before', 'the', 'door', 'of', 'dives', 'this', 'is', 'more', 'wonderful', 'than', 'that', 'an', 'iceberg', 'should', 'be', 'moored', 'to', 'one', 'of', 'the', 'moluccas', 'yet', 'dives', 'himself', 'he', 'too', 'lives', 'like', 'a', 'czar', 'in', 'an', 'ice', 'palace', 'made', 'of', 'frozen', 'sighs', 'and', 'being', 'a', 'president', 'of', 'a', 'temperance', 'society', 'he', 'only', 'drinks', 'the', 'tepid', 'tears', 'of', 'orphans', 'but', 'no', 'more', 'of', 'this', 'blubbering', 'now', 'we', 'are', 'going', 'a', 'whaling', 'and', 'there', 'is', 'plenty', 'of', 'that', 'yet', 'to', 'come', 'let', 'us', 'scrape', 'the', 'ice', 'from', 'our', 'frosted', 'feet', 'and', 'see', 'what', 'sort', 'of', 'a', 'place', 'this', 'spouter', 'may', 'be', 'entering', 'that', 'gable', 'ended', 'spouter', 'inn', 'you', 'found', 'yourself', 'in', 'a', 'wide', 'low', 'straggling', 'entry', 'with', 'old', 'fashioned', 'wainscots', 'reminding', 'one', 'of', 'the', 'bulwarks', 'of', 'some', 'condemned', 'old', 'craft', 'on', 'one', 'side', 'hung', 'a', 'very', 'large', 'oilpainting', 'so', 'thoroughly', 'besmoked', 'and', 'every', 'way', 'defaced', 'that', 'in', 'the', 'unequal', 'crosslights', 'by', 'which', 'you', 'viewed', 'it', 'it', 'was', 'only', 'by', 'diligent', 'study', 'and', 'a', 'series', 'of', 'systematic', 'visits', 'to', 'it', 'and', 'careful', 'inquiry', 'of', 'the', 'neighbors', 'that', 'you', 'could', 'any', 'way', 'arrive', 'at', 'an', 'understanding', 'of', 'its', 'purpose', 'such', 'unaccountable', 'masses', 'of', 'shades', 'and', 'shadows', 'that', 'at', 'first', 'you', 'almost', 'thought', 'some', 'ambitious', 'young', 'artist', 'in', 'the', 'time', 'of', 'the', 'new', 'england', 'hags', 'had', 'endeavored', 'to', 'delineate', 'chaos', 'bewitched', 'but', 'by', 'dint', 'of', 'much', 'and', 'earnest', 'contemplation', 'and', 'oft', 'repeated', 'ponderings', 'and', 'especially', 'by', 'throwing', 'open', 'the', 'little', 'window', 'towards', 'the', 'back', 'of', 'the', 'entry', 'you', 'at', 'last', 'come', 'to', 'the', 'conclusion', 'that', 'such', 'an', 'idea', 'however', 'wild', 'might', 'not', 'be', 'altogether', 'unwarranted', 'but', 'what', 'most', 'puzzled', 'and', 'confounded', 'you', 'was', 'a', 'long', 'limber', 'portentous', 'black', 'mass', 'of', 'something', 'hovering', 'in', 'the', 'centre', 'of', 'the', 'picture', 'over', 'three', 'blue', 'dim', 'perpendicular', 'lines', 'floating', 'in', 'a', 'nameless', 'yeast', 'a', 'boggy', 'soggy', 'squitchy', 'picture', 'truly', 'enough', 'to', 'drive', 'a', 'nervous', 'man', 'distracted', 'yet', 'was', 'there', 'a', 'sort', 'of', 'indefinite', 'half', 'attained', 'unimaginable', 'sublimity', 'about', 'it', 'that', 'fairly', 'froze', 'you', 'to', 'it', 'till', 'you', 'involuntarily', 'took', 'an', 'oath', 'with', 'yourself', 'to', 'find', 'out', 'what', 'that', 'marvellous', 'painting', 'meant', 'ever', 'and', 'anon', 'a', 'bright', 'but', 'alas', 'deceptive', 'idea', 'would', 'dart', 'you', 'through', \"it's\", 'the', 'black', 'sea', 'in', 'a', 'midnight', 'gale', \"it's\", 'the', 'unnatural', 'combat', 'of', 'the', 'four', 'primal', 'elements', \"it's\", 'a', 'blasted', 'heath', \"it's\", 'a', 'hyperborean', 'winter', 'scene', \"it's\", 'the', 'breaking', 'up', 'of', 'the', 'icebound', 'stream', 'of', 'time', 'but', 'at', 'last', 'all', 'these', 'fancies', 'yielded', 'to', 'that', 'one', 'portentous', 'something', 'in', 'the', \"picture's\", 'midst', 'that', 'once', 'found', 'out', 'and', 'all', 'the', 'rest', 'were', 'plain', 'but', 'stop', 'does', 'it', 'not', 'bear', 'a', 'faint', 'resemblance', 'to', 'a', 'gigantic', 'fish', 'even', 'the', 'great', 'leviathan', 'himself', 'in', 'fact', 'the', \"artist's\", 'design', 'seemed', 'this', 'a', 'final', 'theory', 'of', 'my', 'own', 'partly', 'based', 'upon', 'the', 'aggregated', 'opinions', 'of', 'many', 'aged', 'persons', 'with', 'whom', 'i', 'conversed', 'upon', 'the', 'subject', 'the', 'picture', 'represents', 'a', 'cape', 'horner', 'in', 'a', 'great', 'hurricane', 'the', 'half', 'foundered', 'ship', 'weltering', 'there', 'with', 'its', 'three', 'dismantled', 'masts', 'alone', 'visible', 'and', 'an', 'exasperated', 'whale', 'purposing', 'to', 'spring', 'clean', 'over', 'the', 'craft', 'is', 'in', 'the', 'enormous', 'act', 'of', 'impaling', 'himself', 'upon', 'the', 'three', 'mast', 'heads', 'the', 'opposite', 'wall', 'of', 'this', 'entry', 'was', 'hung', 'all', 'over', 'with', 'a', 'heathenish', 'array', 'of', 'monstrous', 'clubs', 'and', 'spears', 'some', 'were', 'thickly', 'set', 'with', 'glittering', 'teeth', 'resembling', 'ivory', 'saws', 'others', 'were', 'tufted', 'with', 'knots', 'of', 'human', 'hair', 'and', 'one', 'was', 'sickle', 'shaped', 'with', 'a', 'vast', 'handle', 'sweeping', 'round', 'like', 'the', 'segment', 'made', 'in', 'the', 'new', 'mown', 'grass', 'by', 'a', 'long', 'armed', 'mower', 'you', 'shuddered', 'as', 'you', 'gazed', 'and', 'wondered', 'what', 'monstrous', 'cannibal', 'and', 'savage', 'could', 'ever', 'have', 'gone', 'a', 'death', 'harvesting', 'with', 'such', 'a', 'hacking', 'horrifying', 'implement', 'mixed', 'with', 'these', 'were', 'rusty', 'old', 'whaling', 'lances', 'and', 'harpoons', 'all', 'broken', 'and', 'deformed', 'some', 'were', 'storied', 'weapons', 'with', 'this', 'once', 'long', 'lance', 'now', 'wildly', 'elbowed', 'fifty', 'years', 'ago', 'did', 'nathan', 'swain', 'kill', 'fifteen', 'whales', 'between', 'a', 'sunrise', 'and', 'a', 'sunset', 'and', 'that', 'harpoon', 'so', 'like', 'a', 'corkscrew', 'now', 'was', 'flung', 'in', 'javan', 'seas', 'and', 'run', 'away', 'with', 'by', 'a', 'whale', 'years', 'afterwards', 'slain', 'off', 'the', 'cape', 'of', 'blanco', 'the', 'original', 'iron', 'entered', 'nigh', 'the', 'tail', 'and', 'like', 'a', 'restless', 'needle', 'sojourning', 'in', 'the', 'body', 'of', 'a', 'man', 'travelled', 'full', 'forty', 'feet', 'and', 'at', 'last', 'was', 'found', 'imbedded', 'in', 'the', 'hump', 'crossing', 'this', 'dusky', 'entry', 'and', 'on', 'through', 'yon', 'low', 'arched', 'way', 'cut', 'through', 'what', 'in', 'old', 'times', 'must', 'have', 'been', 'a', 'great', 'central', 'chimney', 'with', 'fireplaces', 'all', 'round', 'you', 'enter', 'the', 'public', 'room', 'a', 'still', 'duskier', 'place', 'is', 'this', 'with', 'such', 'low', 'ponderous', 'beams', 'above', 'and', 'such', 'old', 'wrinkled', 'planks', 'beneath', 'that', 'you', 'would', 'almost', 'fancy', 'you', 'trod', 'some', 'old', \"craft's\", 'cockpits', 'especially', 'of', 'such', 'a', 'howling', 'night', 'when', 'this', 'corner', 'anchored', 'old', 'ark', 'rocked', 'so', 'furiously', 'on', 'one', 'side', 'stood', 'a', 'long', 'low', 'shelf', 'like', 'table', 'covered', 'with', 'cracked', 'glass', 'cases', 'filled', 'with', 'dusty', 'rarities', 'gathered', 'from', 'this', 'wide', \"world's\", 'remotest', 'nooks', 'projecting', 'from', 'the', 'further', 'angle', 'of', 'the', 'room', 'stands', 'a', 'dark', 'looking', 'den', 'the', 'bar', 'a', 'rude', 'attempt', 'at', 'a', 'right', \"whale's\", 'head', 'be', 'that', 'how', 'it', 'may', 'there', 'stands', 'the', 'vast', 'arched', 'bone', 'of', 'the', \"whale's\", 'jaw', 'so', 'wide', 'a', 'coach', 'might', 'almost', 'drive', 'beneath', 'it', 'within', 'are', 'shabby', 'shelves', 'ranged', 'round', 'with', 'old', 'decanters', 'bottles', 'flasks', 'and', 'in', 'those', 'jaws', 'of', 'swift', 'destruction', 'like', 'another', 'cursed', 'jonah', 'by', 'which', 'name', 'indeed', 'they', 'called', 'him', 'bustles', 'a', 'little', 'withered', 'old', 'man', 'who', 'for', 'their', 'money', 'dearly', 'sells', 'the', 'sailors', 'deliriums', 'and', 'death', 'abominable', 'are', 'the', 'tumblers', 'into', 'which', 'he', 'pours', 'his', 'poison', 'though', 'true', 'cylinders', 'without', 'within', 'the', 'villanous', 'green', 'goggling', 'glasses', 'deceitfully', 'tapered', 'downwards', 'to', 'a', 'cheating', 'bottom', 'parallel', 'meridians', 'rudely', 'pecked', 'into', 'the', 'glass', 'surround', 'these', \"footpads'\", 'goblets', 'fill', 'to', 'this', 'mark', 'and', 'your', 'charge', 'is', 'but', 'a', 'penny', 'to', 'this', 'a', 'penny', 'more', 'and', 'so', 'on', 'to', 'the', 'full', 'glass', 'the', 'cape', 'horn', 'measure', 'which', 'you', 'may', 'gulp', 'down', 'for', 'a', 'shilling', 'upon', 'entering', 'the', 'place', 'i', 'found', 'a', 'number', 'of', 'young', 'seamen', 'gathered', 'about', 'a', 'table', 'examining', 'by', 'a', 'dim', 'light', 'divers', 'specimens', 'of', 'skrimshander', 'i', 'sought', 'the', 'landlord', 'and', 'telling', 'him', 'i', 'desired', 'to', 'be', 'accommodated', 'with', 'a', 'room', 'received', 'for', 'answer', 'that', 'his', 'house', 'was', 'full', 'not', 'a', 'bed', 'unoccupied', 'but', 'avast', 'he', 'added', 'tapping', 'his', 'forehead', 'you', 'haint', 'no', 'objections', 'to', 'sharing', 'a', \"harpooneer's\", 'blanket', 'have', 'ye', 'i', \"s'pose\", 'you', 'are', \"goin'\", 'a', \"whalin'\", 'so', \"you'd\", 'better', 'get', 'used', 'to', 'that', 'sort', 'of', 'thing', 'i', 'told', 'him', 'that', 'i', 'never', 'liked', 'to', 'sleep', 'two', 'in', 'a', 'bed', 'that', 'if', 'i', 'should', 'ever', 'do', 'so', 'it', 'would', 'depend', 'upon', 'who', 'the', 'harpooneer', 'might', 'be', 'and', 'that', 'if', 'he', 'the', 'landlord', 'really', 'had', 'no', 'other', 'place', 'for', 'me', 'and', 'the', 'harpooneer', 'was', 'not', 'decidedly', 'objectionable', 'why', 'rather', 'than', 'wander', 'further', 'about', 'a', 'strange', 'town', 'on', 'so', 'bitter', 'a', 'night', 'i', 'would', 'put', 'up', 'with', 'the', 'half', 'of', 'any', 'decent', \"man's\", 'blanket', 'i', 'thought', 'so', 'all', 'right', 'take', 'a', 'seat', 'supper', 'you', 'want', 'supper', \"supper'll\", 'be', 'ready', 'directly', 'i', 'sat', 'down', 'on', 'an', 'old', 'wooden', 'settle', 'carved', 'all', 'over', 'like', 'a', 'bench', 'on', 'the', 'battery', 'at', 'one', 'end', 'a', 'ruminating', 'tar', 'was', 'still', 'further', 'adorning', 'it', 'with', 'his', 'jack', 'knife', 'stooping', 'over', 'and', 'diligently', 'working', 'away', 'at', 'the', 'space', 'between', 'his', 'legs', 'he', 'was', 'trying', 'his', 'hand', 'at', 'a', 'ship', 'under', 'full', 'sail', 'but', 'he', \"didn't\", 'make', 'much', 'headway', 'i', 'thought', 'at', 'last', 'some', 'four', 'or', 'five', 'of', 'us', 'were', 'summoned', 'to', 'our', 'meal', 'in', 'an', 'adjoining', 'room', 'it', 'was', 'cold', 'as', 'iceland', 'no', 'fire', 'at', 'all', 'the', 'landlord', 'said', 'he', \"couldn't\", 'afford', 'it', 'nothing', 'but', 'two', 'dismal', 'tallow', 'candles', 'each', 'in', 'a', 'winding', 'sheet', 'we', 'were', 'fain', 'to', 'button', 'up', 'our', 'monkey', 'jackets', 'and', 'hold', 'to', 'our', 'lips', 'cups', 'of', 'scalding', 'tea', 'with', 'our', 'half', 'frozen', 'fingers', 'but', 'the', 'fare', 'was', 'of', 'the', 'most', 'substantial', 'kind', 'not', 'only', 'meat', 'and', 'potatoes', 'but', 'dumplings', 'good', 'heavens', 'dumplings', 'for', 'supper', 'one', 'young', 'fellow', 'in', 'a', 'green', 'box', 'coat', 'addressed', 'himself', 'to', 'these', 'dumplings', 'in', 'a', 'most', 'direful', 'manner', 'my', 'boy', 'said', 'the', 'landlord', \"you'll\", 'have', 'the', 'nightmare', 'to', 'a', 'dead', 'sartainty', 'landlord', 'i', 'whispered', 'that', 'aint', 'the', 'harpooneer', 'is', 'it', 'oh', 'no', 'said', 'he', 'looking', 'a', 'sort', 'of', 'diabolically', 'funny', 'the', 'harpooneer', 'is', 'a', 'dark', 'complexioned', 'chap', 'he', 'never', 'eats', 'dumplings', 'he', \"don't\", 'he', 'eats', 'nothing', 'but', 'steaks', 'and', 'he', 'likes', \"'em\", 'rare', 'the', 'devil', 'he', 'does', 'says', 'i', 'where', 'is', 'that', 'harpooneer', 'is', 'he', 'here', \"he'll\", 'be', 'here', 'afore', 'long', 'was', 'the', 'answer', 'i', 'could', 'not', 'help', 'it', 'but', 'i', 'began', 'to', 'feel', 'suspicious', 'of', 'this', 'dark', 'complexioned', 'harpooneer', 'at', 'any', 'rate', 'i', 'made', 'up', 'my', 'mind', 'that', 'if', 'it', 'so', 'turned', 'out', 'that', 'we', 'should', 'sleep', 'together', 'he', 'must', 'undress', 'and', 'get', 'into', 'bed', 'before', 'i', 'did', 'supper', 'over', 'the', 'company', 'went', 'back', 'to', 'the', 'bar', 'room', 'when', 'knowing', 'not', 'what', 'else', 'to', 'do', 'with', 'myself', 'i', 'resolved', 'to', 'spend', 'the', 'rest', 'of', 'the', 'evening', 'as', 'a', 'looker', 'on', 'presently', 'a', 'rioting', 'noise', 'was', 'heard', 'without', 'starting', 'up', 'the', 'landlord', 'cried', \"that's\", 'the', \"grampus's\", 'crew', 'i', 'seed', 'her', 'reported', 'in', 'the', 'offing', 'this', 'morning', 'a', 'three', \"years'\", 'voyage', 'and', 'a', 'full', 'ship', 'hurrah', 'boys', 'now', \"we'll\", 'have', 'the', 'latest', 'news', 'from', 'the', 'feegees', 'a', 'tramping', 'of', 'sea', 'boots', 'was', 'heard', 'in', 'the', 'entry', 'the', 'door', 'was', 'flung', 'open', 'and', 'in', 'rolled', 'a', 'wild', 'set', 'of', 'mariners', 'enough', 'enveloped', 'in', 'their', 'shaggy', 'watch', 'coats', 'and', 'with', 'their', 'heads', 'muffled', 'in', 'woollen', 'comforters', 'all', 'bedarned', 'and', 'ragged', 'and', 'their', 'beards', 'stiff', 'with', 'icicles', 'they', 'seemed', 'an', 'eruption', 'of', 'bears', 'from', 'labrador', 'they', 'had', 'just', 'landed', 'from', 'their', 'boat', 'and', 'this', 'was', 'the', 'first', 'house', 'they', 'entered', 'no', 'wonder', 'then', 'that', 'they', 'made', 'a', 'straight', 'wake', 'for', 'the', \"whale's\", 'mouth', 'the', 'bar', 'when', 'the', 'wrinkled', 'little', 'old', 'jonah', 'there', 'officiating', 'soon', 'poured', 'them', 'out', 'brimmers', 'all', 'round', 'one', 'complained', 'of', 'a', 'bad', 'cold', 'in', 'his', 'head', 'upon', 'which', 'jonah', 'mixed', 'him', 'a', 'pitch', 'like', 'potion', 'of', 'gin', 'and', 'molasses', 'which', 'he', 'swore', 'was', 'a', 'sovereign', 'cure', 'for', 'all', 'colds', 'and', 'catarrhs', 'whatsoever', 'never', 'mind', 'of', 'how', 'long', 'standing', 'or', 'whether', 'caught', 'off', 'the', 'coast', 'of', 'labrador', 'or', 'on', 'the', 'weather', 'side', 'of', 'an', 'ice', 'island', 'the', 'liquor', 'soon', 'mounted', 'into', 'their', 'heads', 'as', 'it', 'generally', 'does', 'even', 'with', 'the', 'arrantest', 'topers', 'newly', 'landed', 'from', 'sea', 'and', 'they', 'began', 'capering', 'about', 'most', 'obstreperously', 'i', 'observed', 'however', 'that', 'one', 'of', 'them', 'held', 'somewhat', 'aloof', 'and', 'though', 'he', 'seemed', 'desirous', 'not', 'to', 'spoil', 'the', 'hilarity', 'of', 'his', 'shipmates', 'by', 'his', 'own', 'sober', 'face', 'yet', 'upon', 'the', 'whole', 'he', 'refrained', 'from', 'making', 'as', 'much', 'noise', 'as', 'the', 'rest', 'this', 'man', 'interested', 'me', 'at', 'once', 'and', 'since', 'the', 'sea', 'gods', 'had', 'ordained', 'that', 'he', 'should', 'soon', 'become', 'my', 'shipmate', 'though', 'but', 'a', 'sleeping', 'partner', 'one', 'so', 'far', 'as', 'this', 'narrative', 'is', 'concerned', 'i', 'will', 'here', 'venture', 'upon', 'a', 'little', 'description', 'of', 'him', 'he', 'stood', 'full', 'six', 'feet', 'in', 'height', 'with', 'noble', 'shoulders', 'and', 'a', 'chest', 'like', 'a', 'coffer', 'dam', 'i', 'have', 'seldom', 'seen', 'such', 'brawn', 'in', 'a', 'man', 'his', 'face', 'was', 'deeply', 'brown', 'and', 'burnt', 'making', 'his', 'white', 'teeth', 'dazzling', 'by', 'the', 'contrast', 'while', 'in', 'the', 'deep', 'shadows', 'of', 'his', 'eyes', 'floated', 'some', 'reminiscences', 'that', 'did', 'not', 'seem', 'to', 'give', 'him', 'much', 'joy', 'his', 'voice', 'at', 'once', 'announced', 'that', 'he', 'was', 'a', 'southerner', 'and', 'from', 'his', 'fine', 'stature', 'i', 'thought', 'he', 'must', 'be', 'one', 'of', 'those', 'tall', 'mountaineers', 'from', 'the', 'alleghanian', 'ridge', 'in', 'virginia', 'when', 'the', 'revelry', 'of', 'his', 'companions', 'had', 'mounted', 'to', 'its', 'height', 'this', 'man', 'slipped', 'away', 'unobserved', 'and', 'i', 'saw', 'no', 'more', 'of', 'him', 'till', 'he', 'became', 'my', 'comrade', 'on', 'the', 'sea', 'in', 'a', 'few', 'minutes', 'however', 'he', 'was', 'missed', 'by', 'his', 'shipmates', 'and', 'being', 'it', 'seems', 'for', 'some', 'reason', 'a', 'huge', 'favourite', 'with', 'them', 'they', 'raised', 'a', 'cry', 'of', 'bulkington', 'bulkington', \"where's\", 'bulkington', 'and', 'darted', 'out', 'of', 'the', 'house', 'in', 'pursuit', 'of', 'him', 'it', 'was', 'now', 'about', 'nine', \"o'clock\", 'and', 'the', 'room', 'seeming', 'almost', 'supernaturally', 'quiet', 'after', 'these', 'orgies', 'i', 'began', 'to', 'congratulate', 'myself', 'upon', 'a', 'little', 'plan', 'that', 'had', 'occurred', 'to', 'me', 'just', 'previous', 'to', 'the', 'entrance', 'of', 'the', 'seamen', 'no', 'man', 'prefers', 'to', 'sleep', 'two', 'in', 'a', 'bed', 'in', 'fact', 'you', 'would', 'a', 'good', 'deal', 'rather', 'not', 'sleep', 'with', 'your', 'own', 'brother', 'i', \"don't\", 'know', 'how', 'it', 'is', 'but', 'people', 'like', 'to', 'be', 'private', 'when', 'they', 'are', 'sleeping', 'and', 'when', 'it', 'comes', 'to', 'sleeping', 'with', 'an', 'unknown', 'stranger', 'in', 'a', 'strange', 'inn', 'in', 'a', 'strange', 'town', 'and', 'that', 'stranger', 'a', 'harpooneer', 'then', 'your', 'objections', 'indefinitely', 'multiply', 'nor', 'was', 'there', 'any', 'earthly', 'reason', 'why', 'i', 'as', 'a', 'sailor', 'should', 'sleep', 'two', 'in', 'a', 'bed', 'more', 'than', 'anybody', 'else', 'for', 'sailors', 'no', 'more', 'sleep', 'two', 'in', 'a', 'bed', 'at', 'sea', 'than', 'bachelor', 'kings', 'do', 'ashore', 'to', 'be', 'sure', 'they', 'all', 'sleep', 'together', 'in', 'one', 'apartment', 'but', 'you', 'have', 'your', 'own', 'hammock', 'and', 'cover', 'yourself', 'with', 'your', 'own', 'blanket', 'and', 'sleep', 'in', 'your', 'own', 'skin', 'the', 'more', 'i', 'pondered', 'over', 'this', 'harpooneer', 'the', 'more', 'i', 'abominated', 'the', 'thought', 'of', 'sleeping', 'with', 'him', 'it', 'was', 'fair', 'to', 'presume', 'that', 'being', 'a', 'harpooneer', 'his', 'linen', 'or', 'woollen', 'as', 'the', 'case', 'might', 'be', 'would', 'not', 'be', 'of', 'the', 'tidiest', 'certainly', 'none', 'of', 'the', 'finest', 'i', 'began', 'to', 'twitch', 'all', 'over', 'besides', 'it', 'was', 'getting', 'late', 'and', 'my', 'decent', 'harpooneer', 'ought', 'to', 'be', 'home', 'and', 'going', 'bedwards', 'suppose', 'now', 'he', 'should', 'tumble', 'in', 'upon', 'me', 'at', 'midnight', 'how', 'could', 'i', 'tell', 'from', 'what', 'vile', 'hole', 'he', 'had', 'been', 'coming', 'landlord', \"i've\", 'changed', 'my', 'mind', 'about', 'that', 'harpooneer', 'i', \"shan't\", 'sleep', 'with', 'him', \"i'll\", 'try', 'the', 'bench', 'here', 'just', 'as', 'you', 'please', \"i'm\", 'sorry', 'i', 'cant', 'spare', 'ye', 'a', 'tablecloth', 'for', 'a', 'mattress', 'and', \"it's\", 'a', 'plaguy', 'rough', 'board', 'here', 'feeling', 'of', 'the', 'knots', 'and', 'notches', 'but', 'wait', 'a', 'bit', 'skrimshander', \"i've\", 'got', 'a', \"carpenter's\", 'plane', 'there', 'in', 'the', 'bar', 'wait', 'i', 'say', 'and', \"i'll\", 'make', 'ye', 'snug', 'enough', 'so', 'saying', 'he', 'procured', 'the', 'plane', 'and', 'with', 'his', 'old', 'silk', 'handkerchief', 'first', 'dusting', 'the', 'bench', 'vigorously', 'set', 'to', 'planing', 'away', 'at', 'my', 'bed', 'the', 'while', 'grinning', 'like', 'an', 'ape', 'the', 'shavings', 'flew', 'right', 'and', 'left', 'till', 'at', 'last', 'the', 'plane', 'iron', 'came', 'bump', 'against', 'an', 'indestructible', 'knot', 'the', 'landlord', 'was', 'near', 'spraining', 'his', 'wrist', 'and', 'i', 'told', 'him', 'for', \"heaven's\", 'sake', 'to', 'quit', 'the', 'bed', 'was', 'soft', 'enough', 'to', 'suit', 'me', 'and', 'i', 'did', 'not', 'know', 'how', 'all', 'the', 'planing', 'in', 'the', 'world', 'could', 'make', 'eider', 'down', 'of', 'a', 'pine', 'plank', 'so', 'gathering', 'up', 'the', 'shavings', 'with', 'another', 'grin', 'and', 'throwing', 'them', 'into', 'the', 'great', 'stove', 'in', 'the', 'middle', 'of', 'the', 'room', 'he', 'went', 'about', 'his', 'business', 'and', 'left', 'me', 'in', 'a', 'brown', 'study', 'i', 'now', 'took', 'the', 'measure', 'of', 'the', 'bench', 'and', 'found', 'that', 'it', 'was', 'a', 'foot', 'too', 'short', 'but', 'that', 'could', 'be', 'mended', 'with', 'a', 'chair', 'but', 'it', 'was', 'a', 'foot', 'too', 'narrow', 'and', 'the', 'other', 'bench', 'in', 'the', 'room', 'was', 'about', 'four', 'inches', 'higher', 'than', 'the', 'planed', 'one', 'so', 'there', 'was', 'no', 'yoking', 'them', 'i', 'then', 'placed', 'the', 'first', 'bench', 'lengthwise', 'along', 'the', 'only', 'clear', 'space', 'against', 'the', 'wall', 'leaving', 'a', 'little', 'interval', 'between', 'for', 'my', 'back', 'to', 'settle', 'down', 'in', 'but', 'i', 'soon', 'found', 'that', 'there', 'came', 'such', 'a', 'draught', 'of', 'cold', 'air', 'over', 'me', 'from', 'under', 'the', 'sill', 'of', 'the', 'window', 'that', 'this', 'plan', 'would', 'never', 'do', 'at', 'all', 'especially', 'as', 'another', 'current', 'from', 'the', 'rickety', 'door', 'met', 'the', 'one', 'from', 'the', 'window', 'and', 'both', 'together', 'formed', 'a', 'series', 'of', 'small', 'whirlwinds', 'in', 'the', 'immediate', 'vicinity', 'of', 'the', 'spot', 'where', 'i', 'had', 'thought', 'to', 'spend', 'the', 'night', 'the', 'devil', 'fetch', 'that', 'harpooneer', 'thought', 'i', 'but', 'stop', \"couldn't\", 'i', 'steal', 'a', 'march', 'on', 'him', 'bolt', 'his', 'door', 'inside', 'and', 'jump', 'into', 'his', 'bed', 'not', 'to', 'be', 'wakened', 'by', 'the', 'most', 'violent', 'knockings', 'it', 'seemed', 'no', 'bad', 'idea', 'but', 'upon', 'second', 'thoughts', 'i', 'dismissed', 'it', 'for', 'who', 'could', 'tell', 'but', 'what', 'the', 'next', 'morning', 'so', 'soon', 'as', 'i', 'popped', 'out', 'of', 'the', 'room', 'the', 'harpooneer', 'might', 'be', 'standing', 'in', 'the', 'entry', 'all', 'ready', 'to', 'knock', 'me', 'down', 'still', 'looking', 'round', 'me', 'again', 'and', 'seeing', 'no', 'possible', 'chance', 'of', 'spending', 'a', 'sufferable', 'night', 'unless', 'in', 'some', 'other', \"person's\", 'bed', 'i', 'began', 'to', 'think', 'that', 'after', 'all', 'i', 'might', 'be', 'cherishing', 'unwarrantable', 'prejudices', 'against', 'this', 'unknown', 'harpooneer', 'thinks', 'i', \"i'll\", 'wait', 'awhile', 'he', 'must', 'be', 'dropping', 'in', 'before', 'long', \"i'll\", 'have', 'a', 'good', 'look', 'at', 'him', 'then', 'and', 'perhaps', 'we', 'may', 'become', 'jolly', 'good', 'bedfellows', 'after', 'all', \"there's\", 'no', 'telling', 'but', 'though', 'the', 'other', 'boarders', 'kept', 'coming', 'in', 'by', 'ones', 'twos', 'and', 'threes', 'and', 'going', 'to', 'bed', 'yet', 'no', 'sign', 'of', 'my', 'harpooneer', 'landlord', 'said', 'i', 'what', 'sort', 'of', 'a', 'chap', 'is', 'he', 'does', 'he', 'always', 'keep', 'such', 'late', 'hours', 'it', 'was', 'now', 'hard', 'upon', 'twelve', \"o'clock\", 'the', 'landlord', 'chuckled', 'again', 'with', 'his', 'lean', 'chuckle', 'and', 'seemed', 'to', 'be', 'mightily', 'tickled', 'at', 'something', 'beyond', 'my', 'comprehension', 'no', 'he', 'answered', 'generally', \"he's\", 'an', 'early', 'bird', 'airley', 'to', 'bed', 'and', 'airley', 'to', 'rise', 'yes', \"he's\", 'the', 'bird', 'what', 'catches', 'the', 'worm', 'but', 'to', 'night', 'he', 'went', 'out', 'a', 'peddling', 'you', 'see', 'and', 'i', \"don't\", 'see', 'what', 'on', 'airth', 'keeps', 'him', 'so', 'late', 'unless', 'may', 'be', 'he', \"can't\", 'sell', 'his', 'head', \"can't\", 'sell', 'his', 'head', 'what', 'sort', 'of', 'a', 'bamboozingly', 'story', 'is', 'this', 'you', 'are', 'telling', 'me', 'getting', 'into', 'a', 'towering', 'rage', 'do', 'you', 'pretend', 'to', 'say', 'landlord', 'that', 'this', 'harpooneer', 'is', 'actually', 'engaged', 'this', 'blessed', 'saturday', 'night', 'or', 'rather', 'sunday', 'morning', 'in', 'peddling', 'his', 'head', 'around', 'this', 'town', \"that's\", 'precisely', 'it', 'said', 'the', 'landlord', 'and', 'i', 'told', 'him', 'he', \"couldn't\", 'sell', 'it', 'here', 'the', \"market's\", 'overstocked', 'with', 'what', 'shouted', 'i', 'with', 'heads', 'to', 'be', 'sure', \"ain't\", 'there', 'too', 'many', 'heads', 'in', 'the', 'world', 'i', 'tell', 'you', 'what', 'it', 'is', 'landlord', 'said', 'i', 'quite', 'calmly', \"you'd\", 'better', 'stop', 'spinning', 'that', 'yarn', 'to', 'me', \"i'm\", 'not', 'green', 'may', 'be', 'not', 'taking', 'out', 'a', 'stick', 'and', 'whittling', 'a', 'toothpick', 'but', 'i', 'rayther', 'guess', \"you'll\", 'be', 'done', 'brown', 'if', 'that', 'ere', 'harpooneer', 'hears', 'you', 'a', \"slanderin'\", 'his', 'head', \"i'll\", 'break', 'it', 'for', 'him', 'said', 'i', 'now', 'flying', 'into', 'a', 'passion', 'again', 'at', 'this', 'unaccountable', 'farrago', 'of', 'the', \"landlord's\", \"it's\", 'broke', \"a'ready\", 'said', 'he', 'broke', 'said', 'i', 'broke', 'do', 'you', 'mean', 'sartain', 'and', \"that's\", 'the', 'very', 'reason', 'he', \"can't\", 'sell', 'it', 'i', 'guess', 'landlord', 'said', 'i', 'going', 'up', 'to', 'him', 'as', 'cool', 'as', 'mt', 'hecla', 'in', 'a', 'snow', 'storm', 'landlord', 'stop', 'whittling', 'you', 'and', 'i', 'must', 'understand', 'one', 'another', 'and', 'that', 'too', 'without', 'delay', 'i', 'come', 'to', 'your', 'house', 'and', 'want', 'a', 'bed', 'you', 'tell', 'me', 'you', 'can', 'only', 'give', 'me', 'half', 'a', 'one', 'that', 'the', 'other', 'half', 'belongs', 'to', 'a', 'certain', 'harpooneer', 'and', 'about', 'this', 'harpooneer', 'whom', 'i', 'have', 'not', 'yet', 'seen', 'you', 'persist', 'in', 'telling', 'me', 'the', 'most', 'mystifying', 'and', 'exasperating', 'stories', 'tending', 'to', 'beget', 'in', 'me', 'an', 'uncomfortable', 'feeling', 'towards', 'the', 'man', 'whom', 'you', 'design', 'for', 'my', 'bedfellow', 'a', 'sort', 'of', 'connexion', 'landlord', 'which', 'is', 'an', 'intimate', 'and', 'confidential', 'one', 'in', 'the', 'highest', 'degree', 'i', 'now', 'demand', 'of', 'you', 'to', 'speak', 'out', 'and', 'tell', 'me', 'who', 'and', 'what', 'this', 'harpooneer', 'is', 'and', 'whether', 'i', 'shall', 'be', 'in', 'all', 'respects', 'safe', 'to', 'spend', 'the', 'night', 'with', 'him', 'and', 'in', 'the', 'first', 'place', 'you', 'will', 'be', 'so', 'good', 'as', 'to', 'unsay', 'that', 'story', 'about', 'selling', 'his', 'head', 'which', 'if', 'true', 'i', 'take', 'to', 'be', 'good', 'evidence', 'that', 'this', 'harpooneer', 'is', 'stark', 'mad', 'and', \"i've\", 'no', 'idea', 'of', 'sleeping', 'with', 'a', 'madman', 'and', 'you', 'sir', 'you', 'i', 'mean', 'landlord', 'you', 'sir', 'by', 'trying', 'to', 'induce', 'me', 'to', 'do', 'so', 'knowingly', 'would', 'thereby', 'render', 'yourself', 'liable', 'to', 'a', 'criminal', 'prosecution', 'wall', 'said', 'the', 'landlord', 'fetching', 'a', 'long', 'breath', \"that's\", 'a', 'purty', 'long', 'sarmon', 'for', 'a', 'chap', 'that', 'rips', 'a', 'little', 'now', 'and', 'then', 'but', 'be', 'easy', 'be', 'easy', 'this', 'here', 'harpooneer', 'i', 'have', 'been', \"tellin'\", 'you', 'of', 'has', 'just', 'arrived', 'from', 'the', 'south', 'seas', 'where', 'he', 'bought', 'up', 'a', 'lot', 'of', \"'balmed\", 'new', 'zealand', 'heads', 'great', 'curios', 'you', 'know', 'and', \"he's\", 'sold', 'all', 'on', \"'em\", 'but', 'one', 'and', 'that', 'one', \"he's\", 'trying', 'to', 'sell', 'to', 'night', 'cause', 'to', \"morrow's\", 'sunday', 'and', 'it', 'would', 'not', 'do', 'to', 'be', \"sellin'\", 'human', 'heads', 'about', 'the', 'streets', 'when', 'folks', 'is', \"goin'\", 'to', 'churches', 'he', 'wanted', 'to', 'last', 'sunday', 'but', 'i', 'stopped', 'him', 'just', 'as', 'he', 'was', \"goin'\", 'out', 'of', 'the', 'door', 'with', 'four', 'heads', 'strung', 'on', 'a', 'string', 'for', 'all', 'the', 'airth', 'like', 'a', 'string', 'of', 'inions', 'this', 'account', 'cleared', 'up', 'the', 'otherwise', 'unaccountable', 'mystery', 'and', 'showed', 'that', 'the', 'landlord', 'after', 'all', 'had', 'had', 'no', 'idea', 'of', 'fooling', 'me', 'but', 'at', 'the', 'same', 'time', 'what', 'could', 'i', 'think', 'of', 'a', 'harpooneer', 'who', 'stayed', 'out', 'of', 'a', 'saturday', 'night', 'clean', 'into', 'the', 'holy', 'sabbath', 'engaged', 'in', 'such', 'a', 'cannibal', 'business', 'as', 'selling', 'the', 'heads', 'of', 'dead', 'idolators', 'depend', 'upon', 'it', 'landlord', 'that', 'harpooneer', 'is', 'a', 'dangerous', 'man', 'he', 'pays', \"reg'lar\", 'was', 'the', 'rejoinder', 'but', 'come', \"it's\", 'getting', 'dreadful', 'late', 'you', 'had', 'better', 'be', 'turning', 'flukes', \"it's\", 'a', 'nice', 'bed', 'sal', 'and', 'me', 'slept', 'in', 'that', 'ere', 'bed', 'the', 'night', 'we', 'were', 'spliced', \"there's\", 'plenty', 'of', 'room', 'for', 'two', 'to', 'kick', 'about', 'in', 'that', 'bed', \"it's\", 'an', 'almighty', 'big', 'bed', 'that', 'why', 'afore', 'we', 'give', 'it', 'up', 'sal', 'used', 'to', 'put', 'our', 'sam', 'and', 'little', 'johnny', 'in', 'the', 'foot', 'of', 'it', 'but', 'i', 'got', 'a', 'dreaming', 'and', 'sprawling', 'about', 'one', 'night', 'and', 'somehow', 'sam', 'got', 'pitched', 'on', 'the', 'floor', 'and', 'came', 'near', 'breaking', 'his', 'arm', 'arter', 'that', 'sal', 'said', 'it', \"wouldn't\", 'do', 'come', 'along', 'here', \"i'll\", 'give', 'ye', 'a', 'glim', 'in', 'a', 'jiffy', 'and', 'so', 'saying', 'he', 'lighted', 'a', 'candle', 'and', 'held', 'it', 'towards', 'me', 'offering', 'to', 'lead', 'the', 'way', 'but', 'i', 'stood', 'irresolute', 'when', 'looking', 'at', 'a', 'clock', 'in', 'the', 'corner', 'he', 'exclaimed', 'i', 'vum', \"it's\", 'sunday', 'you', \"won't\", 'see', 'that', 'harpooneer', 'to', 'night', \"he's\", 'come', 'to', 'anchor', 'somewhere', 'come', 'along', 'then', 'do', 'come', \"won't\", 'ye', 'come', 'i', 'considered', 'the', 'matter', 'a', 'moment', 'and', 'then', 'up', 'stairs', 'we', 'went', 'and', 'i', 'was', 'ushered', 'into', 'a', 'small', 'room', 'cold', 'as', 'a', 'clam', 'and', 'furnished', 'sure', 'enough', 'with', 'a', 'prodigious', 'bed', 'almost', 'big', 'enough', 'indeed', 'for', 'any', 'four', 'harpooneers', 'to', 'sleep', 'abreast', 'there', 'said', 'the', 'landlord', 'placing', 'the', 'candle', 'on', 'a', 'crazy', 'old', 'sea', 'chest', 'that', 'did', 'double', 'duty', 'as', 'a', 'wash', 'stand', 'and', 'centre', 'table', 'there', 'make', 'yourself', 'comfortable', 'now', 'and', 'good', 'night', 'to', 'ye', 'i', 'turned', 'round', 'from', 'eyeing', 'the', 'bed', 'but', 'he', 'had', 'disappeared', 'folding', 'back', 'the', 'counterpane', 'i', 'stooped', 'over', 'the', 'bed', 'though', 'none', 'of', 'the', 'most', 'elegant', 'it', 'yet', 'stood', 'the', 'scrutiny', 'tolerably', 'well', 'i', 'then', 'glanced', 'round', 'the', 'room', 'and', 'besides', 'the', 'bedstead', 'and', 'centre', 'table', 'could', 'see', 'no', 'other', 'furniture', 'belonging', 'to', 'the', 'place', 'but', 'a', 'rude', 'shelf', 'the', 'four', 'walls', 'and', 'a', 'papered', 'fireboard', 'representing', 'a', 'man', 'striking', 'a', 'whale', 'of', 'things', 'not', 'properly', 'belonging', 'to', 'the', 'room', 'there', 'was', 'a', 'hammock', 'lashed', 'up', 'and', 'thrown', 'upon', 'the', 'floor', 'in', 'one', 'corner', 'also', 'a', 'large', \"seaman's\", 'bag', 'containing', 'the', \"harpooneer's\", 'wardrobe', 'no', 'doubt', 'in', 'lieu', 'of', 'a', 'land', 'trunk', 'likewise', 'there', 'was', 'a', 'parcel', 'of', 'outlandish', 'bone', 'fish', 'hooks', 'on', 'the', 'shelf', 'over', 'the', 'fire', 'place', 'and', 'a', 'tall', 'harpoon', 'standing', 'at', 'the', 'head', 'of', 'the', 'bed', 'but', 'what', 'is', 'this', 'on', 'the', 'chest', 'i', 'took', 'it', 'up', 'and', 'held', 'it', 'close', 'to', 'the', 'light', 'and', 'felt', 'it', 'and', 'smelt', 'it', 'and', 'tried', 'every', 'way', 'possible', 'to', 'arrive', 'at', 'some', 'satisfactory', 'conclusion', 'concerning', 'it', 'i', 'can', 'compare', 'it', 'to', 'nothing', 'but', 'a', 'large', 'door', 'mat', 'ornamented', 'at', 'the', 'edges', 'with', 'little', 'tinkling', 'tags', 'something', 'like', 'the', 'stained', 'porcupine', 'quills', 'round', 'an', 'indian', 'moccasin', 'there', 'was', 'a', 'hole', 'or', 'slit', 'in', 'the', 'middle', 'of', 'this', 'mat', 'as', 'you', 'see', 'the', 'same', 'in', 'south', 'american', 'ponchos', 'but', 'could', 'it', 'be', 'possible', 'that', 'any', 'sober', 'harpooneer', 'would', 'get', 'into', 'a', 'door', 'mat', 'and', 'parade', 'the', 'streets', 'of', 'any', 'christian', 'town', 'in', 'that', 'sort', 'of', 'guise', 'i', 'put', 'it', 'on', 'to', 'try', 'it', 'and', 'it', 'weighed', 'me', 'down', 'like', 'a', 'hamper', 'being', 'uncommonly', 'shaggy', 'and', 'thick', 'and', 'i', 'thought', 'a', 'little', 'damp', 'as', 'though', 'this', 'mysterious', 'harpooneer', 'had', 'been', 'wearing', 'it', 'of', 'a', 'rainy', 'day', 'i', 'went', 'up', 'in', 'it', 'to', 'a', 'bit', 'of', 'glass', 'stuck', 'against', 'the', 'wall', 'and', 'i', 'never', 'saw', 'such', 'a', 'sight', 'in', 'my', 'life', 'i', 'tore', 'myself', 'out', 'of', 'it', 'in', 'such', 'a', 'hurry', 'that', 'i', 'gave', 'myself', 'a', 'kink', 'in', 'the', 'neck', 'i', 'sat', 'down', 'on', 'the', 'side', 'of', 'the', 'bed', 'and', 'commenced', 'thinking', 'about', 'this', 'head', 'peddling', 'harpooneer', 'and', 'his', 'door', 'mat', 'after', 'thinking', 'some', 'time', 'on', 'the', 'bed', 'side', 'i', 'got', 'up', 'and', 'took', 'off', 'my', 'monkey', 'jacket', 'and', 'then', 'stood', 'in', 'the', 'middle', 'of', 'the', 'room', 'thinking', 'i', 'then', 'took', 'off', 'my', 'coat', 'and', 'thought', 'a', 'little', 'more', 'in', 'my', 'shirt', 'sleeves', 'but', 'beginning', 'to', 'feel', 'very', 'cold', 'now', 'half', 'undressed', 'as', 'i', 'was', 'and', 'remembering', 'what', 'the', 'landlord', 'said', 'about', 'the', \"harpooneer's\", 'not', 'coming', 'home', 'at', 'all', 'that', 'night', 'it', 'being', 'so', 'very', 'late', 'i', 'made', 'no', 'more', 'ado', 'but', 'jumped', 'out', 'of', 'my', 'pantaloons', 'and', 'boots', 'and', 'then', 'blowing', 'out', 'the', 'light', 'tumbled', 'into', 'bed', 'and', 'commended', 'myself', 'to', 'the', 'care', 'of', 'heaven', 'whether', 'that', 'mattress', 'was', 'stuffed', 'with', 'corn', 'cobs', 'or', 'broken', 'crockery', 'there', 'is', 'no', 'telling', 'but', 'i', 'rolled', 'about', 'a', 'good', 'deal', 'and', 'could', 'not', 'sleep', 'for', 'a', 'long', 'time', 'at', 'last', 'i', 'slid', 'off', 'into', 'a', 'light', 'doze', 'and', 'had', 'pretty', 'nearly', 'made', 'a', 'good', 'offing', 'towards', 'the', 'land', 'of', 'nod', 'when', 'i', 'heard', 'a', 'heavy', 'footfall', 'in', 'the', 'passage', 'and', 'saw', 'a', 'glimmer', 'of', 'light', 'come', 'into', 'the', 'room', 'from', 'under', 'the', 'door', 'lord', 'save', 'me', 'thinks', 'i', 'that', 'must', 'be', 'the', 'harpooneer', 'the', 'infernal', 'head', 'peddler', 'but', 'i', 'lay', 'perfectly', 'still', 'and', 'resolved', 'not', 'to', 'say', 'a', 'word', 'till', 'spoken', 'to', 'holding', 'a', 'light', 'in', 'one', 'hand', 'and', 'that', 'identical', 'new', 'zealand', 'head', 'in', 'the', 'other', 'the', 'stranger', 'entered', 'the', 'room', 'and', 'without', 'looking', 'towards', 'the', 'bed', 'placed', 'his', 'candle', 'a', 'good', 'way', 'off', 'from', 'me', 'on', 'the', 'floor', 'in', 'one', 'corner', 'and', 'then', 'began', 'working', 'away', 'at', 'the', 'knotted', 'cords', 'of', 'the', 'large', 'bag', 'i', 'before', 'spoke', 'of', 'as', 'being', 'in', 'the', 'room', 'i', 'was', 'all', 'eagerness', 'to', 'see', 'his', 'face', 'but', 'he', 'kept', 'it', 'averted', 'for', 'some', 'time', 'while', 'employed', 'in', 'unlacing', 'the', \"bag's\", 'mouth', 'this', 'accomplished', 'however', 'he', 'turned', 'round', 'when', 'good', 'heavens', 'what', 'a', 'sight', 'such', 'a', 'face', 'it', 'was', 'of', 'a', 'dark', 'purplish', 'yellow', 'colour', 'here', 'and', 'there', 'stuck', 'over', 'with', 'large', 'blackish', 'looking', 'squares', 'yes', \"it's\", 'just', 'as', 'i', 'thought', \"he's\", 'a', 'terrible', 'bedfellow', \"he's\", 'been', 'in', 'a', 'fight', 'got', 'dreadfully', 'cut', 'and', 'here', 'he', 'is', 'just', 'from', 'the', 'surgeon', 'but', 'at', 'that', 'moment', 'he', 'chanced', 'to', 'turn', 'his', 'face', 'so', 'towards', 'the', 'light', 'that', 'i', 'plainly', 'saw', 'they', 'could', 'not', 'be', 'sticking', 'plasters', 'at', 'all', 'those', 'black', 'squares', 'on', 'his', 'cheeks', 'they', 'were', 'stains', 'of', 'some', 'sort', 'or', 'other', 'at', 'first', 'i', 'knew', 'not', 'what', 'to', 'make', 'of', 'this', 'but', 'soon', 'an', 'inkling', 'of', 'the', 'truth', 'occurred', 'to', 'me', 'i', 'remembered', 'a', 'story', 'of', 'a', 'white', 'man', 'a', 'whaleman', 'too', 'who', 'falling', 'among', 'the', 'cannibals', 'had', 'been', 'tattooed', 'by', 'them', 'i', 'concluded', 'that', 'this', 'harpooneer', 'in', 'the', 'course', 'of', 'his', 'distant', 'voyages', 'must', 'have', 'met', 'with', 'a', 'similar', 'adventure', 'and', 'what', 'is', 'it', 'thought', 'i', 'after', 'all', \"it's\", 'only', 'his', 'outside', 'a', 'man', 'can', 'be', 'honest', 'in', 'any', 'sort', 'of', 'skin', 'but', 'then', 'what', 'to', 'make', 'of', 'his', 'unearthly', 'complexion', 'that', 'part', 'of', 'it', 'i', 'mean', 'lying', 'round', 'about', 'and', 'completely', 'independent', 'of', 'the', 'squares', 'of', 'tattooing', 'to', 'be', 'sure', 'it', 'might', 'be', 'nothing', 'but', 'a', 'good', 'coat', 'of', 'tropical', 'tanning', 'but', 'i', 'never', 'heard', 'of', 'a', 'hot', \"sun's\", 'tanning', 'a', 'white', 'man', 'into', 'a', 'purplish', 'yellow', 'one', 'however', 'i', 'had', 'never', 'been', 'in', 'the', 'south', 'seas', 'and', 'perhaps', 'the', 'sun', 'there', 'produced', 'these', 'extraordinary', 'effects', 'upon', 'the', 'skin', 'now', 'while', 'all', 'these', 'ideas', 'were', 'passing', 'through', 'me', 'like', 'lightning', 'this', 'harpooneer', 'never', 'noticed', 'me', 'at', 'all', 'but', 'after', 'some', 'difficulty', 'having', 'opened', 'his', 'bag', 'he', 'commenced', 'fumbling', 'in', 'it', 'and', 'presently', 'pulled', 'out', 'a', 'sort', 'of', 'tomahawk', 'and', 'a', 'seal', 'skin', 'wallet', 'with', 'the', 'hair', 'on', 'placing', 'these', 'on', 'the', 'old', 'chest', 'in', 'the', 'middle', 'of', 'the', 'room', 'he', 'then', 'took', 'the', 'new', 'zealand', 'head', 'a', 'ghastly', 'thing', 'enough', 'and', 'crammed', 'it', 'down', 'into', 'the', 'bag', 'he', 'now', 'took', 'off', 'his', 'hat', 'a', 'new', 'beaver', 'hat', 'when', 'i', 'came', 'nigh', 'singing', 'out', 'with', 'fresh', 'surprise', 'there', 'was', 'no', 'hair', 'on', 'his', 'head', 'none', 'to', 'speak', 'of', 'at', 'least', 'nothing', 'but', 'a', 'small', 'scalp', 'knot', 'twisted', 'up', 'on', 'his', 'forehead', 'his', 'bald', 'purplish', 'head', 'now', 'looked', 'for', 'all', 'the', 'world', 'like', 'a', 'mildewed', 'skull', 'had', 'not', 'the', 'stranger', 'stood', 'between', 'me', 'and', 'the', 'door', 'i', 'would', 'have', 'bolted', 'out', 'of', 'it', 'quicker', 'than', 'ever', 'i', 'bolted', 'a', 'dinner', 'even', 'as', 'it', 'was', 'i', 'thought', 'something', 'of', 'slipping', 'out', 'of', 'the', 'window', 'but', 'it', 'was', 'the', 'second', 'floor', 'back', 'i', 'am', 'no', 'coward', 'but', 'what', 'to', 'make', 'of', 'this', 'head', 'peddling', 'purple', 'rascal', 'altogether', 'passed', 'my', 'comprehension', 'ignorance', 'is', 'the', 'parent', 'of', 'fear', 'and', 'being', 'completely', 'nonplussed', 'and', 'confounded', 'about', 'the', 'stranger', 'i', 'confess', 'i', 'was', 'now', 'as', 'much', 'afraid', 'of', 'him', 'as', 'if', 'it', 'was', 'the', 'devil', 'himself', 'who', 'had', 'thus', 'broken', 'into', 'my', 'room', 'at', 'the', 'dead', 'of', 'night', 'in', 'fact', 'i', 'was', 'so', 'afraid', 'of', 'him', 'that', 'i', 'was', 'not', 'game', 'enough', 'just', 'then', 'to', 'address', 'him', 'and', 'demand', 'a', 'satisfactory', 'answer', 'concerning', 'what', 'seemed', 'inexplicable', 'in', 'him', 'meanwhile', 'he', 'continued', 'the', 'business', 'of', 'undressing', 'and', 'at', 'last', 'showed', 'his', 'chest', 'and', 'arms', 'as', 'i', 'live', 'these', 'covered', 'parts', 'of', 'him', 'were', 'checkered', 'with', 'the', 'same', 'squares', 'as', 'his', 'face', 'his', 'back', 'too', 'was', 'all', 'over', 'the', 'same', 'dark', 'squares', 'he', 'seemed', 'to', 'have', 'been', 'in', 'a', 'thirty', \"years'\", 'war', 'and', 'just', 'escaped', 'from', 'it', 'with', 'a', 'sticking', 'plaster', 'shirt', 'still', 'more', 'his', 'very', 'legs', 'were', 'marked', 'as', 'if', 'a', 'parcel', 'of', 'dark', 'green', 'frogs', 'were', 'running', 'up', 'the', 'trunks', 'of', 'young', 'palms', 'it', 'was', 'now', 'quite', 'plain', 'that', 'he', 'must', 'be', 'some', 'abominable', 'savage', 'or', 'other', 'shipped', 'aboard', 'of', 'a', 'whaleman', 'in', 'the', 'south', 'seas', 'and', 'so', 'landed', 'in', 'this', 'christian', 'country', 'i', 'quaked', 'to', 'think', 'of', 'it', 'a', 'peddler', 'of', 'heads', 'too', 'perhaps', 'the', 'heads', 'of', 'his', 'own', 'brothers', 'he', 'might', 'take', 'a', 'fancy', 'to', 'mine', 'heavens', 'look', 'at', 'that', 'tomahawk', 'but', 'there', 'was', 'no', 'time', 'for', 'shuddering', 'for', 'now', 'the', 'savage', 'went', 'about', 'something', 'that', 'completely', 'fascinated', 'my', 'attention', 'and', 'convinced', 'me', 'that', 'he', 'must', 'indeed', 'be', 'a', 'heathen', 'going', 'to', 'his', 'heavy', 'grego', 'or', 'wrapall', 'or', 'dreadnaught', 'which', 'he', 'had', 'previously', 'hung', 'on', 'a', 'chair', 'he', 'fumbled', 'in', 'the', 'pockets', 'and', 'produced', 'at', 'length', 'a', 'curious', 'little', 'deformed', 'image', 'with', 'a', 'hunch', 'on', 'its', 'back', 'and', 'exactly', 'the', 'colour', 'of', 'a', 'three', \"days'\", 'old', 'congo', 'baby', 'remembering', 'the', 'embalmed', 'head', 'at', 'first', 'i', 'almost', 'thought', 'that', 'this', 'black', 'manikin', 'was', 'a', 'real', 'baby', 'preserved', 'in', 'some', 'similar', 'manner', 'but', 'seeing', 'that', 'it', 'was', 'not', 'at', 'all', 'limber', 'and', 'that', 'it', 'glistened', 'a', 'good', 'deal', 'like', 'polished', 'ebony', 'i', 'concluded', 'that', 'it', 'must', 'be', 'nothing', 'but', 'a', 'wooden', 'idol', 'which', 'indeed', 'it', 'proved', 'to', 'be', 'for', 'now', 'the', 'savage', 'goes', 'up', 'to', 'the', 'empty', 'fire', 'place', 'and', 'removing', 'the', 'papered', 'fire', 'board', 'sets', 'up', 'this', 'little', 'hunch', 'backed', 'image', 'like', 'a', 'tenpin', 'between', 'the', 'andirons', 'the', 'chimney', 'jambs', 'and', 'all', 'the', 'bricks', 'inside', 'were', 'very', 'sooty', 'so', 'that', 'i', 'thought', 'this', 'fire', 'place', 'made', 'a', 'very', 'appropriate', 'little', 'shrine', 'or', 'chapel', 'for', 'his', 'congo', 'idol', 'i', 'now', 'screwed', 'my', 'eyes', 'hard', 'towards', 'the', 'half', 'hidden', 'image', 'feeling', 'but', 'ill', 'at', 'ease', 'meantime', 'to', 'see', 'what', 'was', 'next', 'to', 'follow', 'first', 'he', 'takes', 'about', 'a', 'double', 'handful', 'of', 'shavings', 'out', 'of', 'his', 'grego', 'pocket', 'and', 'places', 'them', 'carefully', 'before', 'the', 'idol', 'then', 'laying', 'a', 'bit', 'of', 'ship', 'biscuit', 'on', 'top', 'and', 'applying', 'the', 'flame', 'from', 'the', 'lamp', 'he', 'kindled', 'the', 'shavings', 'into', 'a', 'sacrificial', 'blaze', 'presently', 'after', 'many', 'hasty', 'snatches', 'into', 'the', 'fire', 'and', 'still', 'hastier', 'withdrawals', 'of', 'his', 'fingers', 'whereby', 'he', 'seemed', 'to', 'be', 'scorching', 'them', 'badly', 'he', 'at', 'last', 'succeeded', 'in', 'drawing', 'out', 'the', 'biscuit', 'then', 'blowing', 'off', 'the', 'heat', 'and', 'ashes', 'a', 'little', 'he', 'made', 'a', 'polite', 'offer', 'of', 'it', 'to', 'the', 'little', 'negro', 'but', 'the', 'little', 'devil', 'did', 'not', 'seem', 'to', 'fancy', 'such', 'dry', 'sort', 'of', 'fare', 'at', 'all', 'he', 'never', 'moved', 'his', 'lips', 'all', 'these', 'strange', 'antics', 'were', 'accompanied', 'by', 'still', 'stranger', 'guttural', 'noises', 'from', 'the', 'devotee', 'who', 'seemed', 'to', 'be', 'praying', 'in', 'a', 'sing', 'song', 'or', 'else', 'singing', 'some', 'pagan', 'psalmody', 'or', 'other', 'during', 'which', 'his', 'face', 'twitched', 'about', 'in', 'the', 'most', 'unnatural', 'manner', 'at', 'last', 'extinguishing', 'the', 'fire', 'he', 'took', 'the', 'idol', 'up', 'very', 'unceremoniously', 'and', 'bagged', 'it', 'again', 'in', 'his', 'grego', 'pocket', 'as', 'carelessly', 'as', 'if', 'he', 'were', 'a', 'sportsman', 'bagging', 'a', 'dead', 'woodcock', 'all', 'these', 'queer', 'proceedings', 'increased', 'my', 'uncomfortableness', 'and', 'seeing', 'him', 'now', 'exhibiting', 'strong', 'symptoms', 'of', 'concluding', 'his', 'business', 'operations', 'and', 'jumping', 'into', 'bed', 'with', 'me', 'i', 'thought', 'it', 'was', 'high', 'time', 'now', 'or', 'never', 'before', 'the', 'light', 'was', 'put', 'out', 'to', 'break', 'the', 'spell', 'in', 'which', 'i', 'had', 'so', 'long', 'been', 'bound', 'but', 'the', 'interval', 'i', 'spent', 'in', 'deliberating', 'what', 'to', 'say', 'was', 'a', 'fatal', 'one', 'taking', 'up', 'his', 'tomahawk', 'from', 'the', 'table', 'he', 'examined', 'the', 'head', 'of', 'it', 'for', 'an', 'instant', 'and', 'then', 'holding', 'it', 'to', 'the', 'light', 'with', 'his', 'mouth', 'at', 'the', 'handle', 'he', 'puffed', 'out', 'great', 'clouds', 'of', 'tobacco', 'smoke', 'the', 'next', 'moment', 'the', 'light', 'was', 'extinguished', 'and', 'this', 'wild', 'cannibal', 'tomahawk', 'between', 'his', 'teeth', 'sprang', 'into', 'bed', 'with', 'me', 'i', 'sang', 'out', 'i', 'could', 'not', 'help', 'it', 'now', 'and', 'giving', 'a', 'sudden', 'grunt', 'of', 'astonishment', 'he', 'began', 'feeling', 'me', 'stammering', 'out', 'something', 'i', 'knew', 'not', 'what', 'i', 'rolled', 'away', 'from', 'him', 'against', 'the', 'wall', 'and', 'then', 'conjured', 'him', 'whoever', 'or', 'whatever', 'he', 'might', 'be', 'to', 'keep', 'quiet', 'and', 'let', 'me', 'get', 'up', 'and', 'light', 'the', 'lamp', 'again', 'but', 'his', 'guttural', 'responses', 'satisfied', 'me', 'at', 'once', 'that', 'he', 'but', 'ill', 'comprehended', 'my', 'meaning', 'who', 'e', 'debel', 'you', 'he', 'at', 'last', 'said', 'you', 'no', 'speak', 'e', 'dam', 'me', 'i', 'kill', 'e', 'and', 'so', 'saying', 'the', 'lighted', 'tomahawk', 'began', 'flourishing', 'about', 'me', 'in', 'the', 'dark', 'landlord', 'for', \"god's\", 'sake', 'peter', 'coffin', 'shouted', 'i', 'landlord', 'watch', 'coffin', 'angels', 'save', 'me', 'speak', 'e', 'tell', 'ee', 'me', 'who', 'ee', 'be', 'or', 'dam', 'me', 'i', 'kill', 'e', 'again', 'growled', 'the', 'cannibal', 'while', 'his', 'horrid', 'flourishings', 'of', 'the', 'tomahawk', 'scattered', 'the', 'hot', 'tobacco', 'ashes', 'about', 'me', 'till', 'i', 'thought', 'my', 'linen', 'would', 'get', 'on', 'fire', 'but', 'thank', 'heaven', 'at', 'that', 'moment', 'the', 'landlord', 'came', 'into', 'the', 'room', 'light', 'in', 'hand', 'and', 'leaping', 'from', 'the', 'bed', 'i', 'ran', 'up', 'to', 'him', \"don't\", 'be', 'afraid', 'now', 'said', 'he', 'grinning', 'again', 'queequeg', 'here', \"wouldn't\", 'harm', 'a', 'hair', 'of', 'your', 'head', 'stop', 'your', 'grinning', 'shouted', 'i', 'and', 'why', \"didn't\", 'you', 'tell', 'me', 'that', 'that', 'infernal', 'harpooneer', 'was', 'a', 'cannibal', 'i', 'thought', 'ye', \"know'd\", 'it', \"didn't\", 'i', 'tell', 'ye', 'he', 'was', 'a', \"peddlin'\", 'heads', 'around', 'town', 'but', 'turn', 'flukes', 'again', 'and', 'go', 'to', 'sleep', 'queequeg', 'look', 'here', 'you', 'sabbee', 'me', 'i', 'sabbee', 'you', 'this', 'man', 'sleepe', 'you', 'you', 'sabbee', 'me', 'sabbee', 'plenty', 'grunted', 'queequeg', 'puffing', 'away', 'at', 'his', 'pipe', 'and', 'sitting', 'up', 'in', 'bed', 'you', 'gettee', 'in', 'he', 'added', 'motioning', 'to', 'me', 'with', 'his', 'tomahawk', 'and', 'throwing', 'the', 'clothes', 'to', 'one', 'side', 'he', 'really', 'did', 'this', 'in', 'not', 'only', 'a', 'civil', 'but', 'a', 'really', 'kind', 'and', 'charitable', 'way', 'i', 'stood', 'looking', 'at', 'him', 'a', 'moment', 'for', 'all', 'his', 'tattooings', 'he', 'was', 'on', 'the', 'whole', 'a', 'clean', 'comely', 'looking', 'cannibal', \"what's\", 'all', 'this', 'fuss', 'i', 'have', 'been', 'making', 'about', 'thought', 'i', 'to', 'myself', 'the', \"man's\", 'a', 'human', 'being', 'just', 'as', 'i', 'am', 'he', 'has', 'just', 'as', 'much', 'reason', 'to', 'fear', 'me', 'as', 'i', 'have', 'to', 'be', 'afraid', 'of', 'him', 'better', 'sleep', 'with', 'a', 'sober', 'cannibal', 'than', 'a', 'drunken', 'christian', 'landlord', 'said', 'i', 'tell', 'him', 'to', 'stash', 'his', 'tomahawk', 'there', 'or', 'pipe', 'or', 'whatever', 'you', 'call', 'it', 'tell', 'him', 'to', 'stop', 'smoking', 'in', 'short', 'and', 'i', 'will', 'turn', 'in', 'with', 'him', 'but', 'i', \"don't\", 'fancy', 'having', 'a', 'man', 'smoking', 'in', 'bed', 'with', 'me', \"it's\", 'dangerous', 'besides', 'i', \"ain't\", 'insured', 'this', 'being', 'told', 'to', 'queequeg', 'he', 'at', 'once', 'complied', 'and', 'again', 'politely', 'motioned', 'me', 'to', 'get', 'into', 'bed', 'rolling', 'over', 'to', 'one', 'side', 'as', 'much', 'as', 'to', 'say', 'i', \"won't\", 'touch', 'a', 'leg', 'of', 'ye', 'good', 'night', 'landlord', 'said', 'i', 'you', 'may', 'go', 'i', 'turned', 'in', 'and', 'never', 'slept', 'better', 'in', 'my', 'life', 'upon', 'waking', 'next', 'morning', 'about', 'daylight', 'i', 'found', \"queequeg's\", 'arm', 'thrown', 'over', 'me', 'in', 'the', 'most', 'loving', 'and', 'affectionate', 'manner', 'you', 'had', 'almost', 'thought', 'i', 'had', 'been', 'his', 'wife', 'the', 'counterpane', 'was', 'of', 'patchwork', 'full', 'of', 'odd', 'little', 'parti', 'coloured', 'squares', 'and', 'triangles', 'and', 'this', 'arm', 'of', 'his', 'tattooed', 'all', 'over', 'with', 'an', 'interminable', 'cretan', 'labyrinth', 'of', 'a', 'figure', 'no', 'two', 'parts', 'of', 'which', 'were', 'of', 'one', 'precise', 'shade', 'owing', 'i', 'suppose', 'to', 'his', 'keeping', 'his', 'arm', 'at', 'sea', 'unmethodically', 'in', 'sun', 'and', 'shade', 'his', 'shirt', 'sleeves', 'irregularly', 'rolled', 'up', 'at', 'various', 'times', 'this', 'same', 'arm', 'of', 'his', 'i', 'say', 'looked', 'for', 'all', 'the', 'world', 'like', 'a', 'strip', 'of', 'that', 'same', 'patchwork', 'quilt', 'indeed', 'partly', 'lying', 'on', 'it', 'as', 'the', 'arm', 'did', 'when', 'i', 'first', 'awoke', 'i', 'could', 'hardly', 'tell', 'it', 'from', 'the', 'quilt', 'they', 'so', 'blended', 'their', 'hues', 'together', 'and', 'it', 'was', 'only', 'by', 'the', 'sense', 'of', 'weight', 'and', 'pressure', 'that', 'i', 'could', 'tell', 'that', 'queequeg', 'was', 'hugging', 'me', 'my', 'sensations', 'were', 'strange', 'let', 'me', 'try', 'to', 'explain', 'them', 'when', 'i', 'was', 'a', 'child', 'i', 'well', 'remember', 'a', 'somewhat', 'similar', 'circumstance', 'that', 'befell', 'me', 'whether', 'it', 'was', 'a', 'reality', 'or', 'a', 'dream', 'i', 'never', 'could', 'entirely', 'settle', 'the', 'circumstance', 'was', 'this', 'i', 'had', 'been', 'cutting', 'up', 'some', 'caper', 'or', 'other', 'i', 'think', 'it', 'was', 'trying', 'to', 'crawl', 'up', 'the', 'chimney', 'as', 'i', 'had', 'seen', 'a', 'little', 'sweep', 'do', 'a', 'few', 'days', 'previous', 'and', 'my', 'stepmother', 'who', 'somehow', 'or', 'other', 'was', 'all', 'the', 'time', 'whipping', 'me', 'or', 'sending', 'me', 'to', 'bed', 'supperless', 'my', 'mother', 'dragged', 'me', 'by', 'the', 'legs', 'out', 'of', 'the', 'chimney', 'and', 'packed', 'me', 'off', 'to', 'bed', 'though', 'it', 'was', 'only', 'two', \"o'clock\", 'in', 'the', 'afternoon', 'of', 'the', '21st', 'june', 'the', 'longest', 'day', 'in', 'the', 'year', 'in', 'our', 'hemisphere', 'i', 'felt', 'dreadfully', 'but', 'there', 'was', 'no', 'help', 'for', 'it', 'so', 'up', 'stairs', 'i', 'went', 'to', 'my', 'little', 'room', 'in', 'the', 'third', 'floor', 'undressed', 'myself', 'as', 'slowly', 'as', 'possible', 'so', 'as', 'to', 'kill', 'time', 'and', 'with', 'a', 'bitter', 'sigh', 'got', 'between', 'the', 'sheets', 'i', 'lay', 'there', 'dismally', 'calculating', 'that', 'sixteen', 'entire', 'hours', 'must', 'elapse', 'before', 'i', 'could', 'hope', 'for', 'a', 'resurrection', 'sixteen', 'hours', 'in', 'bed', 'the', 'small', 'of', 'my', 'back', 'ached', 'to', 'think', 'of', 'it', 'and', 'it', 'was', 'so', 'light', 'too', 'the', 'sun', 'shining', 'in', 'at', 'the', 'window', 'and', 'a', 'great', 'rattling', 'of', 'coaches', 'in', 'the', 'streets', 'and', 'the', 'sound', 'of', 'gay', 'voices', 'all', 'over', 'the', 'house', 'i', 'felt', 'worse', 'and', 'worse', 'at', 'last', 'i', 'got', 'up', 'dressed', 'and', 'softly', 'going', 'down', 'in', 'my', 'stockinged', 'feet', 'sought', 'out', 'my', 'stepmother', 'and', 'suddenly', 'threw', 'myself', 'at', 'her', 'feet', 'beseeching', 'her', 'as', 'a', 'particular', 'favour', 'to', 'give', 'me', 'a', 'good', 'slippering', 'for', 'my', 'misbehaviour', 'anything', 'indeed', 'but', 'condemning', 'me', 'to', 'lie', 'abed', 'such', 'an', 'unendurable', 'length', 'of', 'time', 'but', 'she', 'was', 'the', 'best', 'and', 'most', 'conscientious', 'of', 'stepmothers', 'and', 'back', 'i', 'had', 'to', 'go', 'to', 'my', 'room', 'for', 'several', 'hours', 'i', 'lay', 'there', 'broad', 'awake', 'feeling', 'a', 'great', 'deal', 'worse', 'than', 'i', 'have', 'ever', 'done', 'since', 'even', 'from', 'the', 'greatest', 'subsequent', 'misfortunes', 'at', 'last', 'i', 'must', 'have', 'fallen', 'into', 'a', 'troubled', 'nightmare', 'of', 'a', 'doze', 'and', 'slowly', 'waking', 'from', 'it', 'half', 'steeped', 'in', 'dreams', 'i', 'opened', 'my', 'eyes', 'and', 'the', 'before', 'sun', 'lit', 'room', 'was', 'now', 'wrapped', 'in', 'outer', 'darkness', 'instantly', 'i', 'felt', 'a', 'shock', 'running', 'through', 'all', 'my', 'frame', 'nothing', 'was', 'to', 'be', 'seen', 'and', 'nothing', 'was', 'to', 'be', 'heard', 'but', 'a', 'supernatural', 'hand', 'seemed', 'placed', 'in', 'mine', 'my', 'arm', 'hung', 'over', 'the', 'counterpane', 'and', 'the', 'nameless', 'unimaginable', 'silent', 'form', 'or', 'phantom', 'to', 'which', 'the', 'hand', 'belonged', 'seemed', 'closely', 'seated', 'by', 'my', 'bed', 'side', 'for', 'what', 'seemed', 'ages', 'piled', 'on', 'ages', 'i', 'lay', 'there', 'frozen', 'with', 'the', 'most', 'awful', 'fears', 'not', 'daring', 'to', 'drag', 'away', 'my', 'hand', 'yet', 'ever', 'thinking', 'that', 'if', 'i', 'could', 'but', 'stir', 'it', 'one', 'single', 'inch', 'the', 'horrid', 'spell', 'would', 'be', 'broken', 'i', 'knew', 'not', 'how', 'this', 'consciousness', 'at', 'last', 'glided', 'away', 'from', 'me', 'but', 'waking', 'in', 'the', 'morning', 'i', 'shudderingly', 'remembered', 'it', 'all', 'and', 'for', 'days', 'and', 'weeks', 'and', 'months', 'afterwards', 'i', 'lost', 'myself', 'in', 'confounding', 'attempts', 'to', 'explain', 'the', 'mystery', 'nay', 'to', 'this', 'very', 'hour', 'i', 'often', 'puzzle', 'myself', 'with', 'it', 'now', 'take', 'away', 'the', 'awful', 'fear', 'and', 'my', 'sensations', 'at', 'feeling', 'the', 'supernatural', 'hand', 'in', 'mine', 'were', 'very', 'similar', 'in', 'their', 'strangeness', 'to', 'those', 'which', 'i', 'experienced', 'on', 'waking', 'up', 'and', 'seeing', \"queequeg's\", 'pagan', 'arm', 'thrown', 'round', 'me', 'but', 'at', 'length', 'all', 'the', 'past', \"night's\", 'events', 'soberly', 'recurred', 'one', 'by', 'one', 'in', 'fixed', 'reality', 'and', 'then', 'i', 'lay', 'only', 'alive', 'to', 'the', 'comical', 'predicament', 'for', 'though', 'i', 'tried', 'to', 'move', 'his', 'arm', 'unlock', 'his', 'bridegroom', 'clasp', 'yet', 'sleeping', 'as', 'he', 'was', 'he', 'still', 'hugged', 'me', 'tightly', 'as', 'though', 'naught', 'but', 'death', 'should', 'part', 'us', 'twain', 'i', 'now', 'strove', 'to', 'rouse', 'him', 'queequeg', 'but', 'his', 'only', 'answer', 'was', 'a', 'snore', 'i', 'then', 'rolled', 'over', 'my', 'neck', 'feeling', 'as', 'if', 'it', 'were', 'in', 'a', 'horse', 'collar', 'and', 'suddenly', 'felt', 'a', 'slight', 'scratch', 'throwing', 'aside', 'the', 'counterpane', 'there', 'lay', 'the', 'tomahawk', 'sleeping', 'by', 'the', \"savage's\", 'side', 'as', 'if', 'it', 'were', 'a', 'hatchet', 'faced', 'baby', 'a', 'pretty', 'pickle', 'truly', 'thought', 'i', 'abed', 'here', 'in', 'a', 'strange', 'house', 'in', 'the', 'broad', 'day', 'with', 'a', 'cannibal', 'and', 'a', 'tomahawk', 'queequeg', 'in', 'the', 'name', 'of', 'goodness', 'queequeg', 'wake', 'at', 'length', 'by', 'dint', 'of', 'much', 'wriggling', 'and', 'loud', 'and', 'incessant', 'expostulations', 'upon', 'the', 'unbecomingness', 'of', 'his', 'hugging', 'a', 'fellow', 'male', 'in', 'that', 'matrimonial', 'sort', 'of', 'style', 'i', 'succeeded', 'in', 'extracting', 'a', 'grunt', 'and', 'presently', 'he', 'drew', 'back', 'his', 'arm', 'shook', 'himself', 'all', 'over', 'like', 'a', 'newfoundland', 'dog', 'just', 'from', 'the', 'water', 'and', 'sat', 'up', 'in', 'bed', 'stiff', 'as', 'a', 'pike', 'staff', 'looking', 'at', 'me', 'and', 'rubbing', 'his', 'eyes', 'as', 'if', 'he', 'did', 'not', 'altogether', 'remember', 'how', 'i', 'came', 'to', 'be', 'there', 'though', 'a', 'dim', 'consciousness', 'of', 'knowing', 'something', 'about', 'me', 'seemed', 'slowly', 'dawning', 'over', 'him', 'meanwhile', 'i', 'lay', 'quietly', 'eyeing', 'him', 'having', 'no', 'serious', 'misgivings', 'now', 'and', 'bent', 'upon', 'narrowly', 'observing', 'so', 'curious', 'a', 'creature', 'when', 'at', 'last', 'his', 'mind', 'seemed', 'made', 'up', 'touching', 'the', 'character', 'of', 'his', 'bedfellow', 'and', 'he', 'became', 'as', 'it', 'were', 'reconciled', 'to', 'the', 'fact', 'he', 'jumped', 'out', 'upon', 'the', 'floor', 'and', 'by', 'certain', 'signs', 'and', 'sounds', 'gave', 'me', 'to', 'understand', 'that', 'if', 'it', 'pleased', 'me', 'he', 'would', 'dress', 'first', 'and', 'then', 'leave', 'me', 'to', 'dress', 'afterwards', 'leaving', 'the', 'whole', 'apartment', 'to', 'myself', 'thinks', 'i', 'queequeg', 'under', 'the', 'circumstances', 'this', 'is', 'a', 'very', 'civilized', 'overture', 'but', 'the', 'truth', 'is', 'these', 'savages', 'have', 'an', 'innate', 'sense', 'of', 'delicacy', 'say', 'what', 'you', 'will', 'it', 'is', 'marvellous', 'how', 'essentially', 'polite', 'they', 'are', 'i', 'pay', 'this', 'particular', 'compliment', 'to', 'queequeg', 'because', 'he', 'treated', 'me', 'with', 'so', 'much', 'civility', 'and', 'consideration', 'while', 'i', 'was', 'guilty', 'of', 'great', 'rudeness', 'staring', 'at', 'him', 'from', 'the', 'bed', 'and', 'watching', 'all', 'his', 'toilette', 'motions', 'for', 'the', 'time', 'my', 'curiosity', 'getting', 'the', 'better', 'of', 'my', 'breeding', 'nevertheless', 'a', 'man', 'like', 'queequeg', 'you', \"don't\", 'see', 'every', 'day', 'he', 'and', 'his', 'ways', 'were', 'well', 'worth', 'unusual', 'regarding', 'he', 'commenced', 'dressing', 'at', 'top', 'by', 'donning', 'his', 'beaver', 'hat', 'a', 'very', 'tall', 'one', 'by', 'the', 'by', 'and', 'then', 'still', 'minus', 'his', 'trowsers', 'he', 'hunted', 'up', 'his', 'boots', 'what', 'under', 'the', 'heavens', 'he', 'did', 'it', 'for', 'i', 'cannot', 'tell', 'but', 'his', 'next', 'movement', 'was', 'to', 'crush', 'himself', 'boots', 'in', 'hand', 'and', 'hat', 'on', 'under', 'the', 'bed', 'when', 'from', 'sundry', 'violent', 'gaspings', 'and', 'strainings', 'i', 'inferred', 'he', 'was', 'hard', 'at', 'work', 'booting', 'himself', 'though', 'by', 'no', 'law', 'of', 'propriety', 'that', 'i', 'ever', 'heard', 'of', 'is', 'any', 'man', 'required', 'to', 'be', 'private', 'when', 'putting', 'on', 'his', 'boots', 'but', 'queequeg', 'do', 'you', 'see', 'was', 'a', 'creature', 'in', 'the', 'transition', 'stage', 'neither', 'caterpillar', 'nor', 'butterfly', 'he', 'was', 'just', 'enough', 'civilized', 'to', 'show', 'off', 'his', 'outlandishness', 'in', 'the', 'strangest', 'possible', 'manners', 'his', 'education', 'was', 'not', 'yet', 'completed', 'he', 'was', 'an', 'undergraduate', 'if', 'he', 'had', 'not', 'been', 'a', 'small', 'degree', 'civilized', 'he', 'very', 'probably', 'would', 'not', 'have', 'troubled', 'himself', 'with', 'boots', 'at', 'all', 'but', 'then', 'if', 'he', 'had', 'not', 'been', 'still', 'a', 'savage', 'he', 'never', 'would', 'have', 'dreamt', 'of', 'getting', 'under', 'the', 'bed', 'to', 'put', 'them', 'on', 'at', 'last', 'he', 'emerged', 'with', 'his', 'hat', 'very', 'much', 'dented', 'and', 'crushed', 'down', 'over', 'his', 'eyes', 'and', 'began', 'creaking', 'and', 'limping', 'about', 'the', 'room', 'as', 'if', 'not', 'being', 'much', 'accustomed', 'to', 'boots', 'his', 'pair', 'of', 'damp', 'wrinkled', 'cowhide', 'ones', 'probably', 'not', 'made', 'to', 'order', 'either', 'rather', 'pinched', 'and', 'tormented', 'him', 'at', 'the', 'first', 'go', 'off', 'of', 'a', 'bitter', 'cold', 'morning', 'seeing', 'now', 'that', 'there', 'were', 'no', 'curtains', 'to', 'the', 'window', 'and', 'that', 'the', 'street', 'being', 'very', 'narrow', 'the', 'house', 'opposite', 'commanded', 'a', 'plain', 'view', 'into', 'the', 'room', 'and', 'observing', 'more', 'and', 'more', 'the', 'indecorous', 'figure', 'that', 'queequeg', 'made', 'staving', 'about', 'with', 'little', 'else', 'but', 'his', 'hat', 'and', 'boots', 'on', 'i', 'begged', 'him', 'as', 'well', 'as', 'i', 'could', 'to', 'accelerate', 'his', 'toilet', 'somewhat', 'and', 'particularly', 'to', 'get', 'into', 'his', 'pantaloons', 'as', 'soon', 'as', 'possible', 'he', 'complied', 'and', 'then', 'proceeded', 'to', 'wash', 'himself', 'at', 'that', 'time', 'in', 'the', 'morning', 'any', 'christian', 'would', 'have', 'washed', 'his', 'face', 'but', 'queequeg', 'to', 'my', 'amazement', 'contented', 'himself', 'with', 'restricting', 'his', 'ablutions', 'to', 'his', 'chest', 'arms', 'and', 'hands', 'he', 'then', 'donned', 'his', 'waistcoat', 'and', 'taking', 'up', 'a', 'piece', 'of', 'hard', 'soap', 'on', 'the', 'wash', 'stand', 'centre', 'table', 'dipped', 'it', 'into', 'water', 'and', 'commenced', 'lathering', 'his', 'face', 'i', 'was', 'watching', 'to', 'see', 'where', 'he', 'kept', 'his', 'razor', 'when', 'lo', 'and', 'behold', 'he', 'takes', 'the', 'harpoon', 'from', 'the', 'bed', 'corner', 'slips', 'out', 'the', 'long', 'wooden', 'stock', 'unsheathes', 'the', 'head', 'whets', 'it', 'a', 'little', 'on', 'his', 'boot', 'and', 'striding', 'up', 'to', 'the', 'bit', 'of', 'mirror', 'against', 'the', 'wall', 'begins', 'a', 'vigorous', 'scraping', 'or', 'rather', 'harpooning', 'of', 'his', 'cheeks', 'thinks', 'i', 'queequeg', 'this', 'is', 'using', \"rogers's\", 'best', 'cutlery', 'with', 'a', 'vengeance', 'afterwards', 'i', 'wondered', 'the', 'less', 'at', 'this', 'operation', 'when', 'i', 'came', 'to', 'know', 'of', 'what', 'fine', 'steel', 'the', 'head', 'of', 'a', 'harpoon', 'is', 'made', 'and', 'how', 'exceedingly', 'sharp', 'the', 'long', 'straight', 'edges', 'are', 'always', 'kept', 'the', 'rest', 'of', 'his', 'toilet', 'was', 'soon', 'achieved', 'and', 'he', 'proudly', 'marched', 'out', 'of', 'the', 'room', 'wrapped', 'up', 'in', 'his', 'great', 'pilot', 'monkey', 'jacket', 'and', 'sporting', 'his', 'harpoon', 'like', 'a', \"marshal's\", 'baton']\n"
          ],
          "name": "stdout"
        }
      ]
    },
    {
      "cell_type": "code",
      "metadata": {
        "id": "9W-f3MDyMc0f",
        "outputId": "7f1523c5-bb7d-4d19-d511-202f1e56fa83",
        "colab": {
          "base_uri": "https://localhost:8080/",
          "height": 34
        }
      },
      "source": [
        "len(obj2)"
      ],
      "execution_count": null,
      "outputs": [
        {
          "output_type": "execute_result",
          "data": {
            "text/plain": [
              "11253"
            ]
          },
          "metadata": {
            "tags": []
          },
          "execution_count": 12
        }
      ]
    },
    {
      "cell_type": "code",
      "metadata": {
        "id": "IbX8eAEuWmkE",
        "outputId": "b4c93411-9da2-411b-c941-69cb09ded116",
        "colab": {
          "base_uri": "https://localhost:8080/",
          "height": 34
        }
      },
      "source": [
        "type(obj2)"
      ],
      "execution_count": null,
      "outputs": [
        {
          "output_type": "execute_result",
          "data": {
            "text/plain": [
              "list"
            ]
          },
          "metadata": {
            "tags": []
          },
          "execution_count": 13
        }
      ]
    },
    {
      "cell_type": "code",
      "metadata": {
        "id": "7LOcBQ-3_hz9"
      },
      "source": [
        "import numpy as np\n",
        "obj2 = np.array(obj2)"
      ],
      "execution_count": null,
      "outputs": []
    },
    {
      "cell_type": "code",
      "metadata": {
        "id": "tx2q0dAc_4ET",
        "outputId": "021c4c50-e6a9-4ffd-cb7f-618abb9ff7cc",
        "colab": {
          "base_uri": "https://localhost:8080/",
          "height": 50
        }
      },
      "source": [
        "print(obj2)\n",
        "obj2.size"
      ],
      "execution_count": null,
      "outputs": [
        {
          "output_type": "stream",
          "text": [
            "['call' 'me' 'ishmael' ... 'a' \"marshal's\" 'baton']\n"
          ],
          "name": "stdout"
        },
        {
          "output_type": "execute_result",
          "data": {
            "text/plain": [
              "11253"
            ]
          },
          "metadata": {
            "tags": []
          },
          "execution_count": 15
        }
      ]
    },
    {
      "cell_type": "code",
      "metadata": {
        "id": "CGr_0vLmCnPA",
        "outputId": "d5abf34f-de9b-47f6-d82b-23c6ccdf8988",
        "colab": {
          "base_uri": "https://localhost:8080/",
          "height": 70
        }
      },
      "source": [
        "from keras.preprocessing.text import one_hot\n",
        "from keras.preprocessing.text import text_to_word_sequence\n",
        "\n",
        "# estimate the size of the vocabulary\n",
        "vocab_size = len(obj2)\n",
        "print(vocab_size)\n",
        "# integer encode the document\n",
        "result = one_hot(d, vocab_size)\n",
        "print(result)"
      ],
      "execution_count": null,
      "outputs": [
        {
          "output_type": "stream",
          "text": [
            "11253\n",
            "[411, 1001, 5030, 6446, 3085, 6249, 2367, 8132, 2463, 2406, 1147, 7085, 10439, 9469, 4152, 9678, 7413, 162, 8136, 3551, 735, 400, 9609, 5763, 1001, 431, 928, 3105, 7920, 3105, 7196, 3917, 64, 2981, 10439, 3551, 2561, 9560, 1935, 5571, 6551, 9560, 2174, 8169, 5909, 2981, 7568, 3105, 7738, 6551, 8550, 8936, 9560, 3827, 3551, 1768, 9560, 5781, 1887, 3105, 11012, 10408, 2798, 1410, 64, 9560, 3363, 1887, 8169, 5909, 2981, 654, 4605, 8668, 7413, 162, 10579, 1887, 3105, 11012, 10408, 1561, 6454, 2072, 994, 9427, 3551, 2304, 10860, 9560, 6572, 6551, 9313, 1589, 3105, 8863, 3551, 3369, 1887, 162, 221, 7883, 6888, 7656, 3088, 4474, 6551, 1001, 3381, 8169, 9181, 2981, 4277, 6386, 3488, 9609, 9949, 1001, 6532, 727, 7442, 869, 9560, 10485, 3551, 1249, 10974, 3571, 6673, 8936, 10581, 3105, 10822, 8169, 138, 1564, 9609, 7883, 9609, 9625, 2492, 6751, 2492, 3105, 7015, 11233, 5909, 162, 7759, 10115, 5188, 3551, 318, 3570, 2981, 6326, 6836, 113, 8030, 664, 3669, 7308, 535, 3105, 641, 10000, 9609, 9560, 4338, 10762, 5909, 735, 2434, 7413, 11233, 9383, 2652, 1944, 8903, 8169, 1000, 726, 10901, 7413, 8426, 8266, 6446, 1564, 9469, 9370, 3721, 3223, 8624, 9560, 4234, 2529, 3570, 9560, 4077, 3570, 1001, 10762, 948, 5909, 7830, 10939, 6908, 6551, 9560, 6682, 8490, 6859, 4500, 8906, 2492, 7623, 9930, 4500, 194, 5925, 9241, 593, 8169, 3570, 9810, 7965, 4569, 3551, 9125, 9560, 2454, 10000, 3868, 311, 8491, 8680, 3268, 5909, 9560, 8698, 5893, 3381, 3599, 1010, 5909, 11204, 4500, 3798, 3551, 332, 4500, 1901, 3330, 2981, 15, 4789, 593, 1760, 6917, 6551, 6945, 6551, 1591, 4239, 1289, 9560, 4051, 6551, 1237, 998, 10762, 7428, 9560, 6908, 6551, 2981, 8227, 8081, 2390, 1086, 6532, 714, 5460, 9609, 4950, 5576, 3551, 6532, 9624, 4500, 4623, 5848, 6271, 10137, 3868, 2561, 5583, 9060, 167, 3396, 726, 1802, 9560, 5786, 1745, 1986, 3669, 1986, 6551, 2359, 10901, 5068, 7413, 4077, 10616, 6446, 1096, 4250, 9560, 6538, 6446, 3859, 3669, 9560, 7143, 10499, 6446, 5526, 10473, 9560, 7653, 6551, 10152, 6532, 766, 6446, 138, 10205, 7413, 9560, 6083, 2492, 9383, 10554, 9609, 7883, 2981, 533, 4879, 9310, 6192, 1944, 10463, 9647, 726, 4096, 6551, 5626, 6759, 7577, 10860, 7413, 210, 3551, 6029, 6734, 9609, 7571, 8548, 9609, 4550, 376, 9609, 3047, 2463, 10581, 5909, 11233, 9647, 9560, 6354, 8748, 592, 6271, 10137, 2652, 8957, 1944, 4239, 8957, 8723, 10306, 4051, 2768, 1106, 10115, 9560, 1237, 3551, 386, 8131, 10115, 2981, 5669, 11188, 735, 7726, 5424, 6161, 1944, 9560, 362, 7780, 6551, 9560, 1591, 5686, 8666, 9560, 7363, 10824, 6551, 4156, 9427, 7726, 11024, 3201, 4152, 2652, 3884, 7883, 2654, 2492, 3792, 9560, 1237, 2492, 2652, 571, 7015, 9190, 5510, 7413, 3551, 10762, 2652, 1745, 6803, 6551, 6161, 10452, 1914, 726, 2652, 8723, 6532, 8450, 3551, 7545, 2454, 3551, 3570, 6077, 5109, 3779, 3551, 4643, 6322, 8957, 2652, 726, 7807, 7862, 1001, 4475, 9560, 3334, 5567, 6551, 9560, 1133, 6551, 9560, 11140, 6551, 726, 8652, 10152, 7131, 6161, 7476, 8713, 10306, 690, 3868, 9647, 7413, 9560, 4414, 7413, 6446, 138, 1591, 6551, 10378, 10000, 1000, 3170, 7582, 3868, 2823, 3551, 1986, 9609, 328, 8169, 5492, 3868, 4088, 7413, 2981, 6108, 3551, 6938, 3868, 10762, 4500, 2981, 5067, 7413, 9560, 5591, 10762, 5909, 6588, 7413, 8169, 5841, 9560, 5072, 6402, 6787, 6551, 10901, 3270, 2164, 7413, 7308, 9420, 10616, 1745, 3381, 6932, 431, 7308, 10887, 9850, 7308, 1935, 2981, 9444, 3551, 7732, 7726, 999, 5971, 3868, 9609, 1237, 9383, 1237, 10762, 3270, 7413, 726, 3381, 2239, 10033, 3868, 10746, 3270, 9587, 7413, 9560, 7124, 3915, 251, 4271, 11233, 9873, 9383, 7830, 4218, 10221, 9609, 3270, 9424, 3570, 2981, 8295, 1336, 7449, 2492, 9313, 328, 7028, 2695, 3551, 1237, 9647, 10478, 10115, 10746, 1944, 8957, 5909, 7656, 9218, 7732, 2581, 9609, 4032, 3868, 9560, 5718, 1421, 7038, 5072, 3248, 130, 6551, 4929, 6164, 7413, 726, 9560, 6296, 6551, 9560, 9240, 6271, 5909, 9560, 8740, 8849, 7732, 2878, 10762, 1745, 7308, 4618, 8682, 3570, 2981, 2988, 10254, 2492, 9383, 2981, 3886, 3551, 2981, 5144, 1760, 1764, 3551, 8957, 10789, 7308, 9505, 3551, 10762, 451, 7308, 1305, 3551, 10860, 6532, 4156, 10025, 7684, 2981, 4387, 964, 6491, 869, 2506, 4544, 1192, 2981, 853, 7568, 1123, 9609, 2947, 6049, 6551, 10568, 1402, 7413, 8426, 3891, 8234, 5881, 1944, 3070, 9560, 9608, 8211, 9535, 9365, 3551, 3070, 11233, 8710, 1513, 3493, 4088, 8491, 9943, 9060, 6938, 3669, 11233, 3498, 6391, 6322, 726, 1760, 2480, 8083, 9560, 3498, 9246, 1760, 5068, 3669, 9560, 6588, 5591, 2072, 10451, 1086, 8990, 9560, 9791, 7413, 10591, 9056, 10115, 3456, 431, 3456, 6551, 6803, 3868, 9453, 4151, 6491, 4140, 9866, 2211, 6271, 5909, 9560, 328, 6246, 9171, 1237, 10762, 5909, 11024, 2981, 3391, 6551, 1237, 10762, 1760, 4195, 1944, 2981, 4954, 6551, 3154, 7196, 3868, 2559, 7830, 11229, 6803, 9609, 2561, 8169, 8147, 1743, 9560, 5107, 4447, 6551, 8542, 3669, 10452, 10004, 8943, 8688, 6551, 4932, 4813, 9183, 9609, 3811, 10451, 2981, 4923, 3330, 7732, 1116, 3000, 9469, 6684, 7308, 9678, 7413, 2981, 2129, 8895, 9609, 2217, 6093, 8147, 5909, 1000, 9313, 8137, 1433, 6939, 3570, 2981, 8137, 1433, 10579, 7413, 10451, 1289, 6446, 1564, 9469, 9370, 2555, 9609, 1086, 9609, 9625, 8147, 3669, 7830, 2910, 3814, 2492, 2981, 10709, 1743, 3868, 8131, 6662, 6888, 2981, 5022, 2465, 9056, 2910, 1679, 3381, 3868, 3551, 7830, 4338, 1760, 948, 6917, 6551, 6945, 6551, 1591, 8147, 1743, 9560, 593, 3954, 1170, 9560, 9625, 1514, 8147, 1743, 9560, 5965, 1349, 8169, 2981, 9329, 5279, 3551, 5320, 6023, 6551, 6269, 3448, 726, 11233, 5909, 11024, 9190, 2868, 3551, 533, 8843, 9560, 2868, 6551, 3381, 4719, 6551, 7127, 3596, 6959, 7732, 10981, 11024, 6637, 9560, 7997, 686, 10818, 7732, 7890, 7413, 9560, 2597, 2164, 869, 8169, 3551, 5255, 2574, 1944, 3381, 4234, 10818, 5802, 9516, 2561, 7413, 726, 10670, 3551, 11124, 8169, 5909, 9560, 10818, 6551, 9560, 31, 3941, 6551, 3621, 3551, 11233, 5909, 9560, 6571, 9609, 8169, 726, 948, 9056, 3105, 690, 3381, 3105, 9893, 7413, 9560, 3696, 6551, 9444, 9609, 9625, 1887, 3105, 7720, 9609, 3700, 7170, 64, 9560, 5994, 3551, 7720, 9609, 3270, 10473, 5413, 6551, 162, 2607, 3105, 10137, 11024, 7687, 9609, 7738, 8169, 5726, 3381, 3105, 10746, 1086, 9609, 9625, 2492, 2981, 10709, 10115, 9609, 1086, 2492, 2981, 10709, 3868, 3884, 6541, 7738, 2981, 8136, 3551, 2981, 8136, 5909, 1944, 2981, 1338, 8083, 3868, 7738, 5831, 7413, 8169, 5818, 6954, 7883, 9625, 3613, 3700, 238, 891, 451, 6551, 3819, 10137, 11024, 6642, 2172, 3830, 2492, 2981, 5491, 159, 4152, 3105, 2367, 1086, 2492, 2981, 10709, 3025, 3070, 3105, 9893, 5831, 6551, 2981, 932, 10137, 3105, 10746, 1086, 9609, 9625, 2492, 2981, 9016, 9469, 2981, 9872, 9469, 2981, 6633, 3105, 3764, 9560, 1216, 3551, 9679, 6551, 6888, 2818, 9609, 8652, 3596, 9060, 6161, 10115, 162, 5571, 3105, 7884, 726, 3376, 9323, 6963, 5613, 3551, 10381, 6551, 9313, 5258, 3070, 8169, 5909, 8647, 2492, 3830, 2492, 3105, 7015, 10137, 9609, 10000, 5492, 6551, 10408, 9190, 5966, 5492, 6551, 10152, 1723, 6477, 5626, 3551, 6271, 11024, 3551, 2492, 10115, 9444, 2492, 6633, 3070, 3105, 9450, 10762, 5909, 10017, 1216, 7413, 3381, 2981, 6633, 5716, 2981, 5718, 6551, 4601, 431, 4338, 9777, 6322, 5293, 3105, 2367, 8567, 10980, 1437, 3070, 8713, 4917, 7314, 3466, 3551, 911, 3408, 3551, 8485, 10762, 5909, 4152, 328, 3596, 7726, 7851, 10306, 8136, 11024, 9609, 690, 8292, 6551, 2981, 4917, 6607, 10658, 3105, 7726, 8169, 5909, 6917, 6551, 9560, 9881, 8671, 6551, 9560, 593, 8723, 3669, 4917, 9870, 3551, 3046, 7373, 6199, 3381, 3868, 2561, 9560, 2335, 6551, 8652, 6447, 7413, 8426, 2004, 2284, 3691, 9560, 2436, 4152, 9056, 3105, 1086, 9609, 9625, 3105, 1086, 2492, 2981, 544, 4288, 4569, 2072, 9560, 5821, 8981, 4088, 869, 9560, 3863, 10205, 10762, 9609, 9560, 10381, 5821, 6391, 4600, 2652, 640, 8660, 1001, 64, 6446, 3551, 1730, 1001, 5371, 6532, 7105, 9609, 7105, 9060, 2981, 10732, 7413, 2981, 4001, 9505, 3551, 1289, 2910, 11233, 5718, 6551, 159, 5909, 9563, 6203, 8169, 1916, 1337, 227, 6551, 1841, 7906, 9383, 3868, 8723, 6551, 7656, 593, 3847, 6988, 7413, 9560, 1591, 9560, 5094, 3057, 9469, 7383, 9469, 7137, 3551, 10306, 10658, 726, 9383, 2654, 593, 9609, 10555, 7830, 4474, 869, 9560, 549, 9392, 3868, 7738, 6348, 2766, 8169, 2492, 2981, 4414, 5608, 8226, 9560, 7048, 8733, 1745, 7413, 4098, 6551, 3868, 9560, 9602, 5909, 2981, 2415, 328, 3105, 7199, 3868, 6532, 2981, 5608, 9609, 2981, 4288, 3551, 9181, 2981, 4277, 4049, 6551, 6277, 3551, 9560, 2561, 9609, 9837, 3868, 9609, 5506, 3551, 3040, 8169, 1944, 8462, 11233, 2104, 8936, 7413, 1564, 6271, 6551, 8169, 9383, 6446, 593, 3498, 6551, 2981, 9625, 9872, 10924, 1001, 9609, 7883, 2981, 10418, 3551, 9476, 4088, 9560, 10338, 6271, 4475, 3381, 2787, 321, 9609, 6032, 3105, 7687, 7413, 9560, 5101, 6551, 9560, 6578, 6097, 10137, 3868, 6485, 9560, 5708, 7401, 10026, 8817, 9560, 8075, 6551, 1001, 6959, 3105, 3867, 3551, 8136, 9978, 3381, 593, 3498, 7413, 3381, 400, 3365, 3596, 1787, 2981, 600, 7862, 1001, 3381, 2457, 10581, 7805, 9560, 593, 9625, 4746, 4001, 8660, 1001, 64, 7805, 2652, 4001, 8070, 3551, 3159, 1001, 64, 3105, 7738, 9560, 10672, 6551, 2851, 3381, 8169, 5909, 726, 4569, 3381, 5636, 6096, 5909, 328, 7568, 9469, 9370, 4616, 7413, 3830, 9560, 4234, 7568, 2674, 7413, 2981, 10488, 9469, 8295, 11221, 6551, 5439, 3381, 5909, 3551, 9623, 9560, 5637, 8070, 5909, 543, 6859, 3551, 726, 2598, 10033, 2499, 8682, 7170, 5604, 3306, 3551, 3270, 5424, 10738, 3105, 5529, 1086, 9609, 9625, 2492, 2981, 4288, 6959, 2652, 1730, 2981, 11221, 6551, 6536, 1001, 10115, 162, 11246, 7646, 2652, 2367, 2834, 6954, 2981, 1458, 674, 3381, 3105, 10746, 8310, 6551, 431, 9560, 1671, 6954, 2172, 3884, 2834, 3551, 10762, 5909, 726, 9560, 9301, 7413, 9560, 2174, 4126, 6536, 3551, 5716, 4545, 9560, 1459, 6551, 6536, 5909, 9102, 9560, 5072, 2762, 4815, 3381, 9560, 8943, 4382, 7869, 5889, 3669, 1798, 1944, 5716, 4545, 6271, 7726, 2849, 3570, 8169, 9560, 7815, 5328, 3570, 3330, 2981, 6932, 6872, 9678, 5909, 7106, 201, 3607, 3381, 5802, 9623, 834, 7964, 9678, 9609, 3270, 9560, 3432, 6551, 726, 8657, 8533, 3551, 3381, 431, 4152, 10822, 7015, 2981, 8342, 6932, 3817, 3634, 10656, 2463, 10463, 5802, 8528, 9516, 9609, 4194, 9205, 3105, 5529, 1086, 9609, 9625, 2492, 2981, 4288, 6959, 6551, 9560, 2703, 3003, 3551, 3511, 3015, 6551, 9560, 2180, 1396, 5628, 10115, 2492, 7413, 11233, 2174, 6391, 1192, 9647, 8358, 10306, 1587, 10658, 1192, 6532, 5995, 3381, 5909, 9383, 3868, 2367, 7004, 9560, 4619, 4711, 9623, 10115, 9560, 5072, 5571, 9560, 9016, 431, 9560, 11078, 5628, 9895, 7308, 884, 1289, 5008, 4474, 6532, 9560, 2785, 431, 9560, 3863, 7732, 10026, 7732, 8273, 8169, 2910, 1944, 11024, 9623, 7413, 3830, 9560, 4234, 7568, 10137, 9560, 9771, 5971, 8426, 2454, 7413, 5353, 9370, 4012, 1289, 9560, 4234, 1564, 3381, 9560, 2454, 10439, 1789, 8169, 1944, 8155, 8169, 5255, 3381, 1809, 7085, 7969, 4690, 9560, 9625, 2492, 2981, 1611, 4288, 3105, 10033, 948, 10000, 8169, 869, 162, 6391, 9609, 1086, 431, 2981, 5356, 3814, 11233, 9560, 1441, 6909, 4601, 6551, 9560, 2891, 3596, 10090, 9560, 6124, 803, 6551, 1001, 3551, 6121, 2978, 1001, 3551, 6107, 1001, 7413, 6446, 7689, 7568, 7732, 7015, 4879, 7816, 10658, 3170, 328, 6096, 3551, 7326, 162, 9444, 431, 11233, 5356, 3814, 141, 5571, 6551, 9560, 9795, 3493, 6551, 9232, 3381, 5255, 11157, 10860, 2981, 2406, 1564, 6249, 8169, 1646, 7413, 2492, 2981, 5718, 6551, 3471, 6108, 3551, 10241, 4126, 10306, 10830, 1742, 3105, 10000, 8169, 3381, 11233, 5571, 6551, 9560, 6706, 3884, 7738, 4565, 5831, 9060, 11233, 9795, 129, 9409, 10115, 9560, 9892, 6551, 9560, 2696, 6498, 5356, 3814, 4500, 328, 5030, 835, 10073, 7413, 2867, 3070, 3105, 6136, 7862, 8147, 8169, 5255, 850, 3381, 8652, 4433, 6216, 9560, 2891, 9217, 1001, 4088, 10115, 11233, 10827, 5571, 6551, 2981, 5356, 3814, 9056, 9654, 1760, 9850, 4088, 10115, 7454, 8781, 7413, 138, 8253, 3551, 1536, 3551, 7632, 8781, 7413, 6474, 602, 3551, 6548, 8781, 7413, 1930, 3070, 3105, 6136, 7862, 8147, 11233, 5255, 850, 6322, 948, 3381, 3105, 10880, 726, 9560, 10249, 3105, 6485, 3105, 7015, 2561, 2981, 10439, 869, 9560, 5306, 3551, 7262, 3330, 5716, 8676, 3469, 9609, 1001, 8666, 10254, 8708, 5753, 1001, 9609, 9850, 64, 6709, 9560, 5571, 3105, 1743, 5818, 9105, 1001, 869, 9560, 1349, 3381, 8169, 5255, 2981, 1916, 701, 6532, 162, 5320, 6216, 6341, 3551, 5302, 7072, 8740, 4140, 10463, 7262, 5255, 9560, 315, 2286, 6551, 9560, 7124, 2491, 664, 6888, 2981, 9146, 3551, 10700, 7377, 5350, 726, 162, 1163, 10581, 9560, 5841, 3551, 2506, 9121, 5893, 7732, 1775, 7308, 9344, 5620, 9560, 7142, 6177, 8737, 6551, 9560, 2491, 10463, 3570, 726, 9560, 7632, 5491, 6551, 2981, 11229, 9298, 3079, 3551, 3093, 4348, 9609, 6136, 1001, 9609, 162, 4597, 3570, 9370, 10901, 9102, 6888, 4012, 7196, 11024, 7738, 6348, 9064, 1944, 2492, 10115, 1001, 3105, 9893, 10758, 3570, 7656, 614, 5758, 10115, 4012, 8305, 3105, 1202, 9609, 3917, 6693, 9121, 3551, 1591, 431, 8014, 9524, 11024, 10768, 6271, 5909, 9473, 3105, 9893, 2062, 9609, 9336, 2981, 7805, 3551, 10981, 533, 3270, 3099, 3570, 8169, 7196, 2652, 5841, 1001, 2753, 8169, 5909, 1944, 2457, 9609, 3270, 431, 4145, 11165, 3570, 726, 9560, 4997, 6551, 9560, 9815, 328, 7839, 7413, 4500, 8608, 6551, 10463, 4012, 10581, 9560, 5356, 3814, 5255, 2008, 9560, 7124, 9946, 6418, 6551, 9560, 10730, 2174, 832, 6769, 3551, 7413, 9560, 5841, 3100, 3381, 9328, 1001, 9609, 162, 1788, 8943, 3551, 8943, 10762, 10856, 869, 162, 2185, 10579, 8632, 6595, 6551, 9560, 2491, 3551, 10757, 5072, 6551, 6161, 726, 328, 9795, 5765, 3941, 9060, 2981, 11186, 3891, 7413, 9560, 3015, 3105, 5521, 2981, 5378, 9469, 8943, 869, 162, 593, 2794, 8935, 4637, 8169, 8666, 162, 7280, 3551, 5374, 10115, 6486, 101, 3551, 9560, 2536, 6869, 9560, 9473, 6908, 6551, 593, 1373, 3105, 342, 9976, 7413, 6578, 5826, 8169, 5255, 2981, 7551, 3611, 7413, 5889, 3830, 5255, 3105, 1907, 3669, 4490, 3381, 9560, 10439, 6938, 10115, 3878, 2817, 5572, 7016, 3551, 3381, 4152, 7568, 6551, 1123, 3381, 9815, 7196, 2614, 833, 9560, 1879, 10933, 2492, 5072, 5843, 2391, 10115, 9560, 407, 3551, 11042, 6551, 5356, 5017, 1289, 11233, 4234, 6578, 5826, 9624, 9609, 600, 431, 8426, 3814, 8169, 4001, 2492, 2457, 3270, 2978, 3381, 3105, 10115, 328, 2817, 4152, 2286, 6551, 9623, 3645, 10115, 162, 8132, 5255, 2731, 10860, 9609, 3917, 7413, 4152, 9370, 10658, 2981, 3878, 1061, 6959, 10762, 5255, 2981, 3883, 10604, 5831, 64, 1507, 10906, 3570, 3381, 6541, 593, 9344, 3330, 1468, 11202, 1001, 5818, 3070, 6578, 5826, 10090, 6551, 2286, 6348, 3517, 6560, 9560, 10125, 6551, 5356, 3551, 3070, 7413, 11233, 7918, 5107, 593, 3878, 5909, 948, 3830, 10070, 9810, 6322, 3878, 5255, 9810, 7124, 3813, 9560, 4914, 6551, 11233, 9090, 9560, 9815, 5893, 9560, 2910, 1710, 3915, 2491, 5255, 1224, 5893, 6096, 1944, 6532, 3878, 1743, 8652, 8311, 8132, 9560, 5873, 10901, 2910, 10812, 6917, 7413, 6840, 9609, 1349, 10052, 9609, 9560, 85, 3551, 5893, 1944, 6532, 3878, 2964, 1743, 3381, 2910, 3516, 10439, 8778, 9217, 274, 2953, 7457, 3570, 2382, 630, 9623, 7684, 9560, 4719, 9609, 3519, 1289, 9560, 858, 7413, 8660, 9609, 5474, 9056, 2652, 1760, 3792, 6203, 9609, 2211, 2981, 7730, 6532, 9560, 9683, 948, 7085, 2981, 3611, 2981, 10276, 3551, 533, 964, 3611, 1879, 2072, 1001, 7413, 6578, 5826, 11178, 3105, 10981, 600, 10115, 162, 1357, 7643, 8169, 2796, 2981, 7918, 6551, 10574, 5893, 3105, 5255, 9609, 2560, 3551, 451, 1695, 8169, 5255, 2981, 3223, 8661, 5526, 5646, 2981, 3223, 2196, 3551, 5264, 3611, 3345, 1062, 3551, 10276, 3105, 8903, 4152, 328, 7413, 9560, 9815, 3570, 4640, 1427, 3105, 2817, 3040, 162, 1611, 3551, 1106, 2505, 10860, 2981, 15, 7189, 6551, 4932, 9623, 876, 3868, 1086, 5030, 8326, 3105, 9609, 10408, 2492, 3105, 11045, 7413, 9560, 8304, 6551, 2981, 2757, 10485, 2953, 162, 8935, 3551, 6359, 9560, 8855, 3570, 9560, 6077, 3570, 9560, 8848, 3570, 9560, 3779, 876, 7413, 7830, 1413, 3868, 4001, 10846, 9609, 8554, 10115, 9560, 3611, 162, 7260, 5030, 3270, 10825, 9609, 1525, 9560, 9469, 3551, 891, 3270, 2964, 400, 3570, 3319, 2082, 3105, 8019, 9560, 2454, 3551, 543, 9560, 3075, 6551, 9560, 3555, 7371, 1944, 8169, 10079, 2964, 10292, 3551, 6548, 10762, 9454, 431, 6532, 9560, 4254, 5873, 8595, 6551, 9560, 535, 1734, 6154, 10762, 1646, 6888, 4001, 6414, 3381, 8169, 1066, 9609, 7738, 8231, 9560, 3636, 11186, 3551, 172, 6532, 2072, 9560, 1748, 10115, 8682, 6096, 9560, 2454, 6579, 11039, 1986, 6009, 542, 7413, 2981, 1536, 6653, 2669, 640, 3245, 10115, 1001, 9056, 3105, 2789, 162, 3985, 4250, 9560, 97, 10378, 6959, 6532, 1536, 5932, 10583, 9560, 8093, 6551, 162, 583, 1760, 7413, 2981, 5072, 7949, 5546, 2964, 10292, 3551, 6548, 10738, 7920, 3105, 6454, 328, 10511, 9609, 5399, 9560, 7595, 5077, 7413, 9560, 10485, 3551, 7937, 9560, 3093, 6551, 9560, 3318, 683, 1764, 1944, 1086, 431, 5030, 8326, 3105, 1289, 9724, 891, 3868, 7937, 7883, 10552, 6532, 2072, 9560, 8922, 7830, 9027, 583, 9647, 3805, 9560, 7568, 9623, 431, 3105, 10136, 3105, 948, 4500, 2967, 354, 9560, 2454, 3381, 5851, 1001, 311, 10115, 10762, 7326, 1760, 9560, 680, 9383, 11024, 9560, 9039, 7540, 6888, 2757, 2454, 4003, 6551, 10172, 11024, 3691, 431, 2674, 4474, 3551, 8957, 3551, 10762, 2981, 8537, 9060, 2981, 8537, 3327, 64, 7413, 2981, 5827, 1289, 11233, 4123, 6551, 9560, 3611, 6551, 9560, 9724, 10276, 6551, 9560, 5626, 3381, 11078, 6551, 9560, 5786, 3198, 726, 1944, 3963, 1944, 8788, 3105, 1646, 9609, 2981, 3046, 4490, 10229, 6532, 2981, 6764, 1447, 10400, 9560, 8922, 6551, 3330, 11045, 5571, 6769, 8169, 2817, 2981, 393, 4239, 2492, 9383, 8169, 1760, 2222, 10115, 9560, 8618, 6551, 9560, 9963, 9623, 3079, 9560, 2910, 159, 3105, 1743, 5255, 9609, 2525, 10473, 7656, 1302, 96, 7413, 9560, 10932, 5827, 7920, 3105, 5827, 2492, 9560, 5202, 10121, 1000, 8315, 1001, 9647, 10463, 3332, 6532, 3381, 824, 6908, 9506, 1944, 9560, 3555, 7371, 3551, 9560, 535, 1734, 11233, 10581, 3884, 6541, 3270, 9560, 3075, 6551, 9560, 3637, 7805, 3105, 5428, 10408, 10860, 3551, 6441, 2981, 7770, 9779, 1764, 4069, 431, 3551, 1116, 2981, 5008, 10066, 8922, 8169, 1066, 9560, 7124, 6318, 4476, 3342, 7413, 4893, 2981, 6159, 6318, 4859, 2228, 6859, 7413, 8426, 9766, 9609, 5880, 3551, 10423, 2981, 6318, 10599, 6551, 164, 5255, 6652, 2981, 2063, 7413, 2981, 7157, 8169, 5255, 2981, 10497, 10558, 3551, 9560, 8361, 5324, 5255, 64, 9560, 10172, 6551, 8848, 3551, 9560, 4325, 3551, 7732, 3551, 3281, 10680, 10762, 5827, 5030, 10718, 3105, 7041, 6917, 8103, 9395, 1289, 9560, 3075, 6551, 10626, 3637, 1343, 3327, 431, 3105, 1289, 9724, 1646, 9609, 2981, 5915, 5718, 6551, 4490, 11024, 8358, 6532, 9560, 9225, 3551, 8310, 2981, 251, 11081, 7413, 9560, 3015, 3551, 5526, 10860, 7890, 2981, 4319, 3075, 10473, 9560, 8922, 3570, 2981, 8021, 10091, 3669, 8169, 9359, 2151, 2981, 9172, 1106, 951, 6551, 2534, 4757, 3551, 10463, 8582, 1760, 9560, 2141, 6154, 7226, 994, 994, 2141, 640, 3775, 7413, 3381, 400, 2090, 7920, 3105, 1944, 8169, 5909, 2981, 5554, 5274, 7413, 3878, 2652, 690, 3551, 3105, 9763, 11233, 7226, 8957, 5909, 7656, 9113, 6532, 10762, 2492, 9560, 4490, 10079, 9623, 5915, 3551, 9560, 9815, 10115, 9560, 1564, 10079, 1444, 6203, 3551, 9560, 2298, 10439, 8389, 1748, 4745, 10079, 2492, 9383, 8169, 8416, 7738, 6348, 2643, 8957, 6532, 9560, 1194, 6551, 6446, 852, 357, 3551, 2492, 9560, 4319, 3075, 2817, 2981, 7213, 7336, 5718, 6551, 2058, 9609, 8169, 3105, 7920, 3381, 8957, 5255, 9560, 3223, 2041, 10115, 4402, 4535, 3551, 9560, 3181, 6551, 2956, 2596, 8169, 5255, 2981, 7025, 5718, 6551, 9815, 2981, 5809, 125, 593, 1748, 328, 8234, 2417, 2492, 8169, 1760, 3551, 1096, 10473, 1116, 8169, 11045, 431, 2981, 9845, 10769, 9400, 5893, 3381, 9236, 2793, 3243, 830, 10860, 2981, 3873, 10901, 10658, 10746, 8169, 1743, 64, 5107, 7072, 6099, 1061, 3243, 61, 5909, 2981, 5364, 2200, 1955, 9609, 3170, 328, 7413, 7452, 3570, 7308, 1935, 431, 9560, 7226, 641, 11041, 10115, 4825, 7413, 6870, 6551, 3381, 9236, 2793, 10854, 3243, 3739, 7656, 593, 8755, 6551, 5728, 6405, 3105, 2235, 9560, 1106, 3540, 12, 8169, 9400, 2981, 201, 9301, 9183, 1523, 4968, 6917, 1289, 8169, 6532, 2981, 3997, 10612, 5893, 9560, 6579, 5909, 726, 431, 9560, 9714, 9469, 9183, 1523, 8827, 8169, 6532, 3381, 10239, 10612, 5893, 9560, 6579, 5909, 431, 2685, 6549, 3551, 6551, 3330, 9560, 9952, 4557, 5909, 9560, 1106, 571, 4600, 6203, 7920, 3105, 2492, 11233, 1209, 6608, 9609, 162, 8132, 593, 6318, 8613, 1523, 1420, 2457, 7449, 10463, 5994, 9647, 8595, 3551, 11233, 2227, 6551, 7282, 5909, 9560, 1748, 6271, 2981, 4500, 2652, 1123, 5017, 10860, 9560, 9683, 3551, 9560, 2410, 3070, 3551, 10100, 7413, 2981, 10439, 3998, 8957, 3551, 10762, 1944, 10559, 2964, 2286, 9609, 1730, 3170, 6270, 948, 9560, 3241, 5909, 8106, 9560, 3120, 5909, 431, 3551, 9560, 8948, 1760, 2643, 8936, 2981, 7894, 3085, 6249, 5107, 1718, 10762, 7080, 7308, 3281, 4250, 9560, 7160, 10115, 7308, 9591, 3551, 4543, 8936, 7308, 7666, 3570, 7308, 4647, 7732, 8416, 5167, 10860, 2685, 8554, 3570, 8128, 3551, 9217, 2981, 10115, 10438, 869, 7308, 3363, 3551, 6322, 3381, 7196, 11024, 6044, 6917, 9560, 9236, 3243, 3243, 3739, 593, 6418, 7413, 7308, 5873, 9616, 5957, 7732, 2817, 2981, 1379, 328, 3820, 4037, 4037, 6271, 2981, 3883, 8088, 3611, 2463, 5536, 7409, 6271, 6112, 10905, 5841, 6161, 1488, 6551, 8426, 1428, 2894, 11222, 6551, 614, 7405, 1349, 1001, 9560, 3783, 6551, 8226, 162, 5320, 2894, 3570, 162, 5320, 1689, 1944, 6271, 10026, 1718, 7015, 7732, 8665, 7308, 5881, 2598, 4500, 2385, 6161, 10860, 9609, 9560, 9795, 6112, 10905, 7196, 11024, 1718, 640, 3270, 7413, 6288, 10658, 8957, 7196, 7732, 11024, 8358, 640, 11039, 10451, 4088, 4232, 5084, 9560, 4988, 6551, 9560, 408, 9245, 7073, 353, 1086, 4088, 9609, 9560, 2524, 4690, 4745, 7413, 8660, 9609, 6044, 6917, 11233, 6579, 948, 3381, 1718, 10033, 9966, 1224, 10762, 431, 9560, 7160, 2072, 9560, 8922, 6551, 6418, 11233, 5909, 10306, 7160, 10658, 3381, 7656, 7511, 10033, 3270, 3508, 9609, 328, 6551, 9560, 2091, 6322, 6418, 664, 7732, 2964, 9343, 9060, 2981, 952, 7413, 7656, 172, 6766, 2731, 6551, 10963, 9943, 3551, 5716, 2981, 1671, 6551, 2981, 7378, 1348, 7732, 1106, 217, 9560, 9515, 2192, 6551, 7886, 1944, 4152, 10306, 6551, 11233, 1018, 948, 5802, 9647, 9444, 2981, 5356, 3551, 10762, 5909, 9971, 6551, 3381, 6322, 9609, 8723, 5841, 1798, 9354, 9560, 172, 6532, 8898, 10562, 1935, 3551, 2561, 6271, 5718, 6551, 2981, 9815, 11233, 2141, 4001, 3270, 3079, 3381, 5809, 125, 2141, 6154, 3868, 4244, 8131, 7413, 2981, 1447, 6764, 5170, 139, 3570, 593, 2402, 5397, 8902, 328, 6551, 9560, 7653, 6551, 6446, 8036, 593, 1061, 431, 328, 8234, 6826, 2981, 3223, 7419, 7243, 9623, 6938, 4669, 3551, 9313, 7568, 4651, 3381, 7413, 9560, 3513, 250, 4500, 3330, 3868, 7237, 8169, 8169, 5255, 1106, 4500, 6686, 6478, 3551, 2981, 9493, 6551, 4292, 2020, 9609, 8169, 3551, 5336, 5823, 6551, 9560, 4211, 3381, 3868, 10981, 3170, 7568, 4328, 1289, 7656, 1031, 6551, 8491, 1788, 6888, 7689, 4477, 6551, 5388, 3551, 10128, 3381, 1289, 2910, 3868, 1000, 7920, 6446, 2112, 5843, 9218, 7413, 9560, 1564, 6551, 9560, 6578, 10354, 6838, 2817, 2754, 9609, 1127, 10339, 9873, 1944, 4500, 5893, 6551, 3830, 3551, 3339, 1136, 3551, 10342, 6181, 3258, 3551, 3369, 4500, 10653, 6769, 9560, 10439, 10612, 3570, 9560, 4344, 6551, 9560, 139, 3868, 1289, 9724, 8723, 9609, 9560, 68, 3381, 6888, 7656, 2286, 7805, 5841, 8416, 11024, 3270, 118, 7419, 1944, 6271, 5072, 11220, 3551, 4414, 3868, 5255, 2981, 2406, 5359, 9146, 6318, 3748, 6551, 5831, 8763, 7413, 9560, 10819, 6551, 9560, 9608, 10473, 8316, 5881, 5915, 6157, 5541, 4986, 7413, 2981, 6177, 1852, 2981, 3719, 5248, 6178, 9608, 9520, 6203, 9609, 143, 2981, 8712, 6932, 10719, 6322, 5255, 10762, 2981, 5718, 6551, 1062, 5212, 4041, 4027, 841, 64, 8169, 3381, 6128, 8968, 3868, 9609, 8169, 833, 3868, 1561, 5851, 7656, 10773, 3570, 8131, 9609, 11012, 6917, 6271, 3381, 201, 10091, 2222, 10746, 3551, 10287, 2981, 4254, 1944, 3027, 9570, 2286, 7196, 9695, 3868, 3058, 10559, 9560, 6318, 9625, 7413, 2981, 3098, 8977, 10559, 9560, 888, 7665, 6551, 9560, 4616, 5212, 7432, 10559, 2981, 3233, 8983, 10559, 2981, 198, 8161, 6751, 10559, 9560, 9344, 10860, 6551, 9560, 4042, 5591, 6551, 1564, 1944, 1289, 9724, 726, 10463, 7803, 5091, 9609, 3381, 328, 9146, 5831, 7413, 9560, 8744, 10606, 3381, 8713, 4244, 6917, 3551, 726, 9560, 8499, 1760, 1470, 1944, 5017, 4475, 8169, 11024, 3040, 2981, 788, 10605, 9609, 2981, 2044, 1734, 8462, 9560, 7124, 85, 664, 7413, 5496, 9560, 1733, 9221, 1066, 11233, 2981, 10916, 133, 6551, 162, 5320, 2953, 2376, 3669, 9560, 8093, 7503, 6551, 5353, 9838, 7289, 3570, 8733, 3105, 3052, 3669, 9560, 10126, 9560, 9608, 8151, 2981, 6486, 4127, 7413, 2981, 7124, 8125, 9560, 5212, 7202, 4338, 4749, 10762, 3570, 8491, 8316, 10773, 7108, 8170, 8988, 3551, 7656, 1201, 2491, 5474, 9609, 795, 6462, 10473, 9560, 1061, 5909, 7413, 9560, 6656, 1459, 6551, 6985, 664, 3669, 9560, 8316, 5821, 10499, 9560, 1758, 2814, 6551, 11233, 139, 5255, 6826, 726, 10473, 3570, 2981, 6356, 435, 6551, 3803, 3106, 3551, 7201, 6446, 1760, 7048, 9850, 3570, 5679, 3281, 8912, 5505, 1542, 9654, 1760, 1766, 3570, 10578, 6551, 4960, 6623, 3551, 328, 5255, 741, 8499, 3570, 2981, 1648, 3787, 2396, 6859, 9060, 9560, 8444, 2731, 7413, 9560, 6578, 3492, 3359, 4500, 2981, 2406, 5838, 8905, 3868, 9041, 2492, 3868, 9175, 3551, 6845, 6271, 3803, 1267, 3551, 3164, 10981, 10746, 7738, 592, 2981, 4557, 8007, 3570, 6888, 2981, 608, 332, 486, 7273, 3570, 10463, 1760, 9675, 593, 5356, 10645, 3551, 7371, 726, 8284, 3551, 4871, 6446, 1760, 1516, 1354, 3570, 11233, 8713, 2406, 9418, 948, 9129, 3461, 5105, 3085, 6249, 1743, 3096, 6940, 1726, 8163, 858, 4126, 2981, 2919, 3551, 2981, 9784, 3551, 3381, 7730, 9623, 9060, 2981, 1282, 948, 5255, 9524, 7413, 10735, 9121, 3551, 4565, 10552, 3570, 4500, 2981, 2491, 3085, 3820, 1804, 8936, 9560, 6486, 6551, 7546, 9560, 3813, 487, 1148, 3792, 9560, 4850, 3551, 9060, 2981, 10801, 5008, 6350, 7413, 9560, 2227, 6551, 2981, 6932, 10283, 4411, 1162, 1935, 3551, 1289, 9724, 5255, 4244, 3199, 7413, 9560, 9314, 5153, 11233, 821, 139, 3551, 431, 3058, 7015, 6764, 3676, 7568, 2971, 3058, 6271, 7413, 593, 6961, 3884, 7738, 6348, 2981, 7124, 6682, 7753, 3570, 4818, 726, 6859, 3868, 3817, 9560, 9963, 6618, 2981, 533, 9816, 9815, 5909, 11233, 3570, 6888, 6764, 558, 4304, 3995, 3551, 6888, 593, 7157, 10788, 642, 3381, 3868, 7196, 1000, 1872, 3868, 4546, 6446, 593, 9894, 9245, 3369, 6551, 6888, 2981, 10901, 3611, 9056, 11233, 9400, 5156, 593, 1049, 1218, 9623, 5542, 431, 328, 8234, 11045, 2981, 2406, 6764, 9285, 9060, 8857, 5830, 3570, 10570, 3997, 2331, 4585, 3570, 4470, 1670, 7300, 6532, 11233, 1447, 7638, 1286, 3437, 8584, 6532, 9560, 9454, 1269, 6551, 9560, 6618, 6037, 2981, 2196, 5526, 5924, 9560, 559, 2981, 4491, 4198, 1289, 2981, 4569, 1003, 6391, 3270, 3381, 2463, 8169, 4001, 10762, 6037, 9560, 1648, 3676, 6013, 6551, 9560, 1003, 9116, 9623, 1447, 2981, 3460, 8416, 1000, 143, 642, 8169, 1764, 9647, 10827, 7326, 6905, 6859, 3570, 593, 8688, 2986, 8039, 3551, 7413, 8652, 9225, 6551, 13, 6318, 9060, 964, 4868, 294, 4500, 3330, 5274, 4843, 2652, 10854, 10451, 3573, 2981, 10439, 9905, 593, 6932, 3596, 10115, 8426, 9678, 6797, 4275, 9560, 2785, 4436, 3551, 4557, 8522, 9647, 9560, 4539, 869, 3330, 7732, 3502, 7308, 4603, 3070, 4600, 1178, 9190, 1764, 9560, 3701, 6354, 288, 683, 1533, 7314, 8658, 9609, 2981, 5740, 2642, 5971, 1494, 1409, 8881, 869, 9560, 3997, 5607, 10463, 8369, 1253, 10999, 9609, 11233, 2297, 3551, 7830, 10063, 5909, 1944, 2981, 674, 9609, 11233, 2981, 674, 10306, 3551, 9623, 431, 9609, 9560, 4411, 3997, 9560, 6486, 101, 4304, 3330, 3868, 4001, 7413, 4088, 10115, 2981, 4860, 3669, 3079, 9560, 9815, 3105, 4244, 2981, 3733, 6551, 5843, 8949, 7300, 64, 2981, 8857, 10386, 4500, 2981, 5915, 4490, 8044, 8321, 6551, 7882, 3105, 10204, 9560, 6210, 3551, 10648, 10451, 3105, 7746, 9609, 3270, 9510, 3570, 2981, 6618, 11172, 10115, 7816, 3381, 7308, 1748, 5255, 4411, 11024, 2981, 4825, 5895, 1944, 8666, 7732, 1180, 857, 7308, 25, 3868, 8522, 4152, 6858, 9609, 5254, 2981, 4293, 1959, 7738, 7073, 3105, 10936, 3868, 9647, 4122, 2981, 630, 9623, 1271, 4879, 7883, 8444, 9609, 3381, 5718, 6551, 159, 3105, 1679, 10451, 3381, 3105, 2367, 799, 9609, 451, 8943, 7413, 2981, 4825, 3381, 9383, 3105, 10033, 10746, 10137, 9623, 8169, 7196, 775, 3669, 3596, 9560, 2434, 8416, 3270, 3551, 3381, 9383, 7732, 9560, 6210, 7106, 2817, 4152, 9370, 9815, 10115, 1001, 3551, 9560, 2434, 5255, 11024, 9032, 9709, 8147, 640, 10658, 376, 9454, 64, 2981, 11188, 5786, 431, 9623, 2766, 2981, 3611, 3105, 7196, 9217, 10860, 3570, 9560, 5212, 6551, 3170, 10320, 1088, 1959, 3105, 7920, 9623, 726, 4569, 10000, 2981, 7813, 2659, 3868, 9911, 2659, 173, 3270, 9542, 4151, 3105, 10769, 4088, 431, 7656, 593, 8389, 10631, 6552, 726, 10473, 9060, 2981, 6825, 431, 9560, 8698, 1289, 328, 2139, 2981, 11238, 549, 5255, 533, 9454, 8787, 8169, 3570, 7308, 1801, 4699, 1114, 10473, 3551, 7748, 2901, 10552, 1289, 9560, 6428, 4126, 7308, 10887, 7732, 5255, 6059, 7308, 4474, 1289, 2981, 4338, 8666, 4411, 3917, 1944, 7732, 1123, 1730, 3830, 1720, 3105, 7920, 1289, 9724, 6446, 4616, 9469, 8832, 6551, 1798, 1760, 1370, 9609, 8898, 4468, 7413, 7656, 1627, 6618, 8169, 5255, 1062, 2492, 4446, 4152, 2911, 1289, 726, 9560, 6210, 8326, 7732, 6116, 10269, 8169, 735, 1944, 8943, 5264, 5360, 2262, 8682, 7413, 2981, 10683, 10967, 5802, 1760, 8191, 9609, 6407, 10860, 8898, 4791, 5321, 3551, 1170, 9609, 8898, 3913, 6299, 6551, 4216, 2908, 3570, 8898, 5212, 10963, 2582, 1944, 9560, 9053, 5255, 6551, 9560, 5072, 8316, 5258, 11024, 1106, 9799, 3551, 4935, 1944, 2112, 9473, 10152, 2112, 10115, 2659, 328, 5843, 1147, 7413, 2981, 6354, 96, 4923, 4573, 664, 9609, 10463, 2112, 7413, 2981, 5072, 10822, 4736, 162, 6939, 8326, 9560, 6210, 1602, 7738, 9560, 10877, 9609, 2981, 1710, 4050, 6210, 3105, 5306, 3381, 4391, 9560, 2434, 5909, 8169, 9940, 4152, 8326, 7732, 5526, 2981, 5718, 6551, 10698, 10380, 9560, 2434, 5909, 2981, 2196, 10909, 2177, 7732, 2367, 10292, 2112, 7732, 891, 7732, 10292, 735, 1944, 1368, 3551, 7732, 10352, 135, 8134, 9560, 533, 7732, 4475, 3739, 3105, 5893, 5909, 3381, 2434, 5909, 7732, 8957, 10404, 3270, 8957, 5200, 2406, 5255, 9560, 7816, 3105, 10981, 11024, 7563, 8169, 1944, 3105, 5807, 9609, 6662, 7116, 6551, 11233, 2196, 10909, 2434, 1289, 3170, 5632, 3105, 2731, 10860, 162, 8132, 3381, 9383, 8169, 9623, 2228, 6917, 3381, 5802, 10033, 451, 11201, 7732, 3884, 4403, 3551, 7883, 869, 4825, 2072, 3105, 1743, 2659, 10473, 9560, 10426, 10136, 4344, 9609, 9560, 559, 6618, 9056, 2851, 11024, 6271, 6096, 9609, 10137, 3570, 10408, 3105, 1108, 9609, 4046, 9560, 8499, 6551, 9560, 4840, 2492, 2981, 467, 431, 8788, 2981, 9328, 2505, 5255, 8310, 9190, 4072, 10860, 9560, 6210, 222, 382, 9560, 2157, 6356, 3105, 8960, 9810, 10012, 7413, 9560, 3602, 11233, 207, 2981, 8316, 3067, 3814, 3551, 2981, 4411, 4338, 5149, 8733, 948, 5011, 7738, 9560, 2134, 6130, 6532, 9560, 2157, 2981, 6874, 6551, 9625, 583, 5255, 8310, 7413, 9560, 139, 9560, 8922, 5255, 9524, 6769, 3551, 7413, 1775, 2981, 5841, 9850, 6551, 3143, 6203, 2923, 7413, 8426, 9085, 5399, 3026, 3551, 3570, 8426, 10499, 3919, 7413, 4776, 2203, 726, 1272, 3551, 4805, 3551, 8426, 8490, 1447, 3570, 2287, 2652, 1066, 7656, 4756, 6551, 192, 6532, 6564, 2652, 2817, 2654, 380, 6532, 8426, 10274, 3551, 11233, 5255, 9560, 2910, 1748, 2652, 1148, 4152, 10730, 10581, 3381, 2652, 2731, 2981, 1106, 6892, 10115, 9560, 1003, 3363, 9560, 559, 9056, 9560, 7157, 10439, 593, 294, 10762, 5282, 6751, 8549, 6161, 6917, 2911, 726, 6859, 328, 9298, 6551, 2981, 9052, 1062, 7413, 7308, 6391, 3669, 3330, 294, 7273, 10451, 2981, 4034, 9060, 7509, 6551, 3172, 3551, 9554, 3330, 7732, 3377, 5255, 2981, 1775, 3261, 10115, 726, 5152, 3551, 6904, 3070, 2367, 8132, 6551, 2463, 2406, 9346, 9469, 9183, 4124, 8936, 9560, 9771, 6551, 6564, 9469, 431, 9560, 839, 8234, 6551, 7656, 172, 9344, 9560, 8592, 6751, 5883, 869, 8426, 10499, 2492, 8169, 1245, 4475, 8462, 3570, 9560, 57, 9298, 179, 380, 6532, 9625, 3551, 2652, 5807, 6142, 64, 5072, 5926, 3105, 8891, 7805, 3381, 328, 6551, 6161, 8694, 9212, 10018, 3551, 3070, 7732, 1066, 9135, 11024, 9609, 7978, 9560, 4722, 6551, 7308, 3057, 4500, 7308, 5320, 7230, 3195, 6322, 3669, 9560, 9159, 7732, 4636, 6532, 8226, 2492, 3830, 2505, 2492, 9560, 8499, 11233, 6932, 8648, 1001, 1289, 8713, 3551, 2753, 9560, 9625, 353, 2817, 70, 3381, 7732, 10033, 6751, 389, 162, 195, 3070, 1944, 2981, 4088, 3397, 328, 9623, 8358, 2492, 11233, 8743, 5909, 6782, 3105, 7726, 8957, 988, 3669, 2981, 10439, 6821, 6551, 10451, 7732, 11045, 4411, 5923, 1935, 7413, 9810, 3570, 3599, 10825, 3551, 2981, 4636, 9060, 2981, 5189, 9369, 3105, 7738, 5798, 7017, 6888, 5576, 7413, 2981, 6932, 7308, 3195, 5255, 6586, 10853, 3551, 852, 8226, 7308, 8021, 3281, 6617, 4500, 9560, 10833, 5474, 7413, 9560, 6491, 10128, 6551, 7308, 5994, 10856, 6446, 6635, 3381, 1743, 11024, 9415, 9609, 1349, 10451, 3830, 163, 7308, 9779, 1289, 8713, 1654, 3381, 7732, 5255, 2981, 1059, 3551, 6532, 7308, 3883, 11064, 3105, 7920, 7732, 3884, 3270, 328, 6551, 8652, 9172, 738, 6532, 9560, 5753, 6354, 7413, 11233, 9056, 9560, 10293, 6551, 7308, 2069, 2817, 5883, 9609, 8491, 9810, 11233, 6932, 7627, 10552, 4145, 3551, 3105, 7890, 4152, 10306, 6551, 10451, 833, 7732, 2796, 162, 4252, 431, 9560, 9625, 7413, 2981, 15, 5129, 7805, 7732, 5255, 10086, 4500, 7308, 3057, 3551, 5716, 8169, 1072, 10115, 6446, 8608, 2981, 2004, 10453, 3570, 6161, 2652, 5417, 2981, 8426, 6551, 2849, 2849, 4653, 2849, 3551, 4754, 6917, 6551, 9560, 1748, 7413, 2009, 6551, 10451, 8169, 5255, 948, 64, 8145, 10644, 3551, 9560, 6618, 5175, 1000, 2840, 1444, 1809, 10463, 385, 3105, 5807, 9609, 2048, 10408, 3669, 2981, 10439, 7207, 3381, 2817, 6608, 9609, 1001, 2654, 593, 9609, 9560, 3580, 6551, 9560, 8949, 4152, 6932, 6365, 9609, 451, 8943, 7413, 2981, 4825, 7413, 5496, 3868, 7196, 2981, 9473, 6031, 640, 11024, 451, 3570, 7830, 5320, 6023, 3105, 891, 11196, 2463, 8169, 5909, 1944, 7876, 9060, 9609, 3270, 1009, 9056, 2652, 9647, 4088, 3551, 9056, 8169, 7702, 9609, 4088, 3570, 7656, 11046, 4340, 7413, 2981, 11188, 6154, 7413, 2981, 11188, 5786, 3551, 3381, 4340, 2981, 2434, 10581, 7830, 6858, 239, 1031, 3025, 5255, 10762, 3170, 8657, 8608, 8147, 3105, 2492, 2981, 4288, 10033, 451, 8943, 7413, 2981, 4825, 10306, 10658, 8768, 6096, 10115, 2785, 4152, 10306, 451, 8943, 7413, 2981, 4825, 1289, 9625, 10658, 7522, 10998, 10137, 245, 9609, 3270, 10825, 2652, 726, 451, 11201, 7413, 328, 443, 1944, 3868, 7738, 7830, 5320, 3199, 3551, 10528, 8131, 3570, 7830, 5320, 1959, 3551, 451, 7413, 7830, 5320, 7657, 9560, 10306, 3105, 5428, 10473, 11233, 2434, 9560, 10306, 3105, 3868, 9560, 7920, 6551, 4088, 3570, 10451, 8169, 5255, 10023, 9609, 7131, 3381, 5716, 2981, 2434, 7308, 1470, 9469, 4776, 2492, 9560, 5656, 8416, 3270, 7196, 11024, 3270, 6551, 9560, 8683, 6793, 10238, 6551, 9560, 498, 3105, 5807, 9609, 5756, 726, 10473, 5818, 8169, 5255, 3383, 2286, 3551, 162, 10320, 2434, 1986, 9609, 3270, 10322, 3551, 9444, 141, 9763, 948, 7732, 10033, 2035, 7413, 3669, 1001, 1289, 3098, 2463, 10981, 3105, 7862, 6532, 6271, 10402, 3373, 7732, 2817, 6348, 11091, 6210, 5116, 1733, 162, 8132, 64, 3381, 2434, 3105, 10782, 451, 3570, 10451, 8292, 4271, 9560, 6825, 8957, 2654, 2492, 3868, 2823, 3905, 4693, 3105, 2580, 9978, 7073, 2981, 1389, 10115, 2981, 636, 3551, 10559, 2981, 5068, 5146, 9777, 8957, 7591, 6551, 9560, 10578, 3551, 10804, 1944, 2477, 2981, 130, 7882, 5116, 7432, 2981, 10313, 8804, 10762, 7413, 9560, 559, 2477, 3105, 690, 3551, 8292, 1730, 7073, 8168, 6203, 9623, 5494, 7732, 312, 9560, 8804, 3551, 3570, 7308, 593, 5695, 10171, 2910, 4055, 9560, 6825, 9346, 9850, 9609, 10210, 10552, 1289, 162, 4825, 9560, 5474, 10292, 9060, 7656, 2038, 9560, 3570, 2452, 4569, 3551, 9125, 833, 1289, 9724, 9560, 8804, 487, 1646, 11113, 4250, 7656, 6675, 3509, 9560, 6210, 5255, 3616, 7831, 7308, 3223, 3551, 3105, 1679, 10451, 10115, 3295, 2322, 9609, 9383, 9560, 4825, 5255, 11040, 6203, 9609, 1504, 1001, 3551, 3105, 1743, 11024, 11196, 2463, 726, 9560, 10210, 7413, 9560, 2174, 10981, 1730, 382, 4088, 6551, 2981, 8710, 7564, 9623, 10163, 10860, 9560, 3570, 3570, 964, 5506, 3551, 10653, 6161, 869, 9560, 7124, 9756, 7413, 9560, 8304, 6551, 9560, 6618, 7732, 10136, 64, 7308, 10125, 3551, 9125, 1001, 7413, 2981, 10853, 6478, 3105, 948, 5851, 9560, 4304, 6551, 9560, 6825, 3551, 4244, 3381, 8169, 5255, 2981, 3985, 2964, 1536, 1944, 3381, 10981, 3270, 4587, 3570, 2981, 1854, 1944, 8169, 5255, 2981, 3985, 2964, 5247, 3551, 9560, 9370, 6825, 7413, 9560, 6618, 5255, 64, 4616, 6009, 8778, 10658, 9560, 8183, 328, 9623, 10762, 5255, 4152, 9026, 6161, 3105, 10581, 1815, 9560, 2910, 6825, 4232, 5084, 9560, 1106, 3536, 6428, 4250, 9560, 2814, 7202, 2981, 10439, 111, 4126, 10115, 162, 4344, 9609, 10631, 4088, 7413, 1944, 3105, 6751, 4244, 3381, 10762, 1646, 6888, 2981, 1916, 6551, 1062, 3015, 10473, 1001, 6532, 8666, 9560, 2459, 6551, 9560, 10612, 3381, 11233, 7207, 7196, 2367, 10137, 1289, 726, 3369, 2492, 964, 3023, 6532, 9560, 257, 8922, 2808, 9560, 328, 6532, 9560, 10612, 3551, 2685, 11201, 141, 2981, 9493, 6551, 2117, 6370, 7413, 9560, 1831, 2765, 6551, 9560, 2041, 5893, 3105, 2817, 7920, 9609, 4046, 9560, 3611, 9560, 533, 10584, 3381, 2434, 7920, 3105, 1944, 5017, 6116, 3105, 4029, 2981, 8845, 431, 10451, 9278, 7308, 8922, 8118, 3551, 5371, 869, 7308, 4825, 11024, 9609, 3270, 349, 4500, 9560, 5072, 1347, 5122, 8169, 1066, 4152, 9052, 2286, 1944, 3669, 5008, 10747, 3105, 8542, 8169, 10115, 3596, 10981, 7862, 1944, 6271, 9560, 10926, 207, 9623, 6751, 2492, 3105, 5563, 6917, 6551, 9560, 6618, 9560, 2434, 8416, 3270, 9346, 7413, 9560, 139, 726, 9542, 9609, 396, 1001, 4088, 533, 5526, 6859, 1001, 10738, 3551, 8323, 4152, 1197, 3905, 6551, 6322, 2981, 5322, 3611, 8083, 7413, 6446, 9370, 8580, 4825, 3105, 5807, 9609, 6485, 3381, 1809, 726, 3105, 8416, 3270, 645, 3037, 5780, 4250, 11233, 11046, 2434, 10026, 3105, 8292, 2477, 8519, 7732, 3884, 3270, 6362, 7413, 2072, 2406, 8292, 7738, 2981, 9473, 4239, 1289, 10451, 10581, 3551, 9102, 5802, 4001, 389, 6548, 9473, 7284, 1809, 726, 8659, 4152, 10648, 1944, 3070, 9560, 9370, 1089, 830, 11091, 7413, 4500, 7206, 6579, 3551, 1451, 3551, 9444, 9609, 4825, 6322, 4152, 3075, 6551, 162, 2434, 6210, 8326, 3105, 6271, 5718, 6551, 2981, 2177, 5909, 7732, 4475, 7732, 5529, 6044, 6888, 2286, 4789, 8169, 5255, 948, 1536, 3669, 1782, 10644, 9560, 6210, 8899, 10738, 3570, 7308, 2452, 8456, 3551, 1066, 9609, 3270, 4043, 7515, 1289, 5831, 10423, 162, 3755, 4152, 7732, 4375, 1245, 6881, 7656, 4634, 5390, 2976, 9609, 4825, 3551, 2976, 9609, 1311, 7449, 6881, 9560, 5390, 6271, 773, 9560, 10716, 1944, 9609, 3611, 7732, 10136, 6917, 2981, 2486, 3868, 2561, 3551, 3105, 891, 2561, 6271, 431, 314, 8666, 10451, 9623, 2286, 8083, 4001, 3270, 7732, 1908, 3826, 7308, 6391, 1908, 3826, 7308, 6391, 6271, 5718, 6551, 2981, 10972, 4719, 5909, 11233, 3868, 9647, 10648, 1001, 3383, 869, 2981, 5997, 3089, 10137, 3868, 6704, 9609, 690, 6210, 3381, 11233, 2434, 5909, 775, 3838, 11233, 7049, 7551, 3611, 9469, 640, 4942, 207, 7413, 2486, 7308, 6391, 1802, 11233, 5786, 382, 1147, 8169, 8326, 9560, 6210, 3551, 3105, 1679, 10451, 7732, 6116, 3826, 8169, 8957, 9560, 6102, 9518, 3570, 6271, 2864, 3105, 3570, 10499, 9609, 3270, 10825, 1787, 10762, 2964, 5353, 10499, 7413, 9560, 2174, 3105, 7862, 3868, 6271, 8169, 5909, 6210, 8326, 3105, 8647, 170, 1271, 4879, 5017, 8921, 3381, 1745, 9609, 1001, 3905, 11024, 6354, 4001, 3270, 11024, 5966, 6917, 2981, 4667, 3551, 3415, 2981, 5387, 1944, 3105, 1879, 567, 1602, 3270, 5248, 10853, 9383, 3381, 11178, 2434, 10902, 3868, 2981, 3051, 7308, 6391, 8292, 8003, 8169, 10115, 10451, 8326, 3105, 948, 5202, 869, 2981, 11014, 10738, 1289, 11233, 7689, 962, 6551, 9560, 1365, 10559, 3618, 9508, 8326, 7732, 3618, 8326, 3105, 3618, 10137, 3868, 7687, 10789, 3551, 382, 9560, 3223, 8608, 7732, 1908, 3826, 8169, 3105, 567, 6210, 8326, 3105, 9444, 10860, 9609, 10451, 2492, 2622, 2492, 9205, 1507, 7413, 2981, 11186, 10068, 6210, 5017, 3415, 3868, 3551, 3105, 3884, 105, 328, 964, 3551, 3381, 2964, 9190, 1663, 3105, 8723, 9609, 7830, 1748, 3551, 9911, 2981, 4825, 3868, 7862, 1001, 3868, 7015, 1106, 1349, 1001, 5212, 2981, 328, 3381, 9560, 9370, 5212, 1399, 9609, 2981, 8445, 2434, 3551, 64, 11233, 2434, 8733, 3105, 7738, 11024, 6322, 7017, 3868, 4285, 7413, 10648, 1001, 9560, 5072, 8703, 3551, 9249, 6439, 7369, 9609, 6398, 7413, 1001, 7656, 2762, 7591, 3570, 9560, 6932, 8733, 3868, 9221, 10115, 162, 771, 2981, 5718, 6551, 2090, 6210, 3330, 5909, 7656, 3869, 3551, 5350, 328, 7413, 9560, 4599, 8266, 3105, 948, 3685, 6551, 3868, 9609, 7851, 6917, 3551, 7862, 1001, 3596, 3551, 6271, 11233, 2434, 5909, 3551, 9183, 3105, 1708, 3270, 7413, 726, 832, 10436, 9609, 4046, 9560, 3611, 3570, 10451, 3551, 7413, 9560, 2910, 9815, 3868, 7726, 3270, 9623, 9473, 2492, 9609, 1428, 3381, 4719, 64, 6199, 7308, 6391, 3330, 9383, 4600, 3105, 10000, 9609, 3270, 9473, 9818, 3381, 11233, 2434, 5909, 4771, 9404, 3551, 5116, 4152, 2286, 6551, 4088, 3570, 2981, 7379, 3551, 3868, 8150, 3868, 3105, 7687, 6210, 3868, 8150, 4500, 6059, 9609, 7970, 1001, 9609, 10137, 9623, 9709, 7196, 9318, 3860, 8131, 6895, 9609, 2981, 2872, 3516, 2814, 8326, 9560, 6210, 1893, 2981, 2406, 3851, 382, 2981, 4700, 2406, 3628, 10115, 2981, 2177, 3381, 5457, 2981, 10439, 948, 3551, 10581, 1944, 3270, 7632, 3270, 7632, 11233, 8957, 2434, 3105, 7738, 6348, 9098, 3868, 6551, 10090, 2654, 9976, 6532, 9560, 3779, 9121, 5893, 7732, 739, 10860, 2981, 2285, 6551, 8275, 6578, 262, 10499, 7124, 3437, 3868, 11196, 3551, 6881, 7722, 726, 431, 135, 1944, 328, 3551, 3381, 328, 6881, 6059, 9609, 3826, 9609, 3611, 8156, 9609, 4772, 4942, 3551, 8169, 7196, 11024, 10137, 9609, 3270, 7518, 4960, 10499, 64, 9560, 2454, 9056, 10791, 5909, 4122, 9609, 10431, 7732, 9091, 9609, 9724, 4942, 1944, 3105, 7660, 10451, 2654, 2492, 7732, 5255, 4122, 6917, 6551, 9560, 8922, 3570, 4616, 10499, 4709, 431, 2981, 11044, 10115, 726, 9560, 314, 9060, 2981, 11044, 6551, 3562, 11233, 10822, 5478, 10860, 9560, 6959, 7689, 1604, 3551, 7212, 3381, 9560, 6210, 1809, 726, 2817, 2817, 4152, 2286, 6551, 5340, 1001, 1944, 1289, 9560, 4234, 1564, 6271, 10981, 3105, 6485, 6551, 2981, 2434, 3596, 5597, 6917, 6551, 2981, 7551, 3611, 6462, 869, 9560, 1514, 8081, 3838, 7413, 6888, 2981, 1267, 10125, 2492, 6199, 9560, 10499, 6551, 1710, 11147, 775, 3669, 8169, 6210, 3381, 2434, 5909, 2981, 10378, 6932, 7732, 10782, 3203, 5255, 9560, 7593, 1944, 8723, 10559, 3383, 3139, 2286, 3868, 2817, 4879, 3270, 4892, 5322, 10559, 2981, 7654, 4825, 107, 3551, 1001, 855, 7413, 3381, 11178, 4825, 9560, 3611, 5802, 1760, 6763, 8659, 9971, 6551, 6618, 10115, 8943, 9609, 11094, 64, 7413, 3381, 4825, 10559, 7656, 11150, 8636, 4825, 3381, 8147, 5200, 5802, 1349, 8169, 10860, 107, 8444, 9609, 9217, 8898, 5922, 3551, 10439, 7489, 7413, 9560, 3985, 6551, 8169, 1944, 3105, 7432, 2981, 4005, 3551, 515, 64, 328, 3611, 3551, 5293, 5922, 7432, 4220, 431, 9560, 1222, 3551, 1646, 3616, 9344, 7308, 7280, 1861, 3381, 107, 8326, 8169, 4122, 10137, 8723, 5084, 8957, 8292, 1349, 7073, 2981, 6155, 7413, 2981, 8161, 3551, 9623, 5494, 7732, 3619, 2981, 8537, 3551, 8694, 8169, 3570, 1001, 3701, 9609, 5971, 9560, 7568, 1944, 3105, 11045, 1894, 9056, 5526, 1289, 2981, 143, 7413, 9560, 9400, 7732, 8960, 3105, 174, 10559, 4942, 3868, 907, 2561, 3381, 2434, 9609, 3611, 6881, 8723, 9609, 6929, 9232, 8723, 5084, 10581, 10137, 8723, 907, 7073, 8723, 3105, 9856, 9560, 7918, 2981, 10511, 3551, 10581, 10860, 8777, 5802, 10136, 3551, 3105, 5255, 9057, 869, 2981, 2117, 6618, 1062, 2492, 2981, 4361, 3551, 5566, 10825, 6203, 3570, 2981, 2271, 4825, 1000, 8636, 6203, 4843, 10115, 3170, 4616, 1738, 9609, 451, 2675, 10762, 8326, 9560, 6210, 550, 9560, 8537, 431, 2981, 2555, 593, 9625, 4636, 3381, 1743, 1405, 10094, 2492, 2981, 5440, 1745, 3551, 10819, 8857, 10762, 1730, 8131, 2517, 948, 3551, 9473, 3611, 9609, 7073, 3105, 2228, 6859, 6532, 1657, 9560, 4825, 1944, 7732, 2817, 8655, 3680, 4344, 9560, 6461, 3105, 4629, 10473, 9560, 4825, 3070, 10238, 6551, 9560, 5072, 6407, 8169, 6322, 11045, 9560, 4676, 3597, 2457, 3105, 10581, 927, 6859, 9560, 6618, 3551, 5818, 9560, 6227, 3551, 10819, 8857, 10981, 2561, 4152, 9370, 7101, 3585, 9609, 9560, 9815, 1944, 2981, 4491, 9285, 9560, 4616, 7406, 3551, 2981, 727, 7669, 2151, 2981, 6932, 6763, 2981, 2491, 6551, 4012, 11024, 6819, 3585, 9609, 9560, 6618, 10762, 5255, 2981, 3199, 2086, 10860, 3551, 9488, 3669, 9560, 1222, 7413, 328, 9400, 11096, 2981, 7419, 359, 8935, 11252, 9560, 4293, 9261, 4152, 2035, 7413, 9690, 6551, 2981, 1591, 10254, 185, 10762, 5255, 2981, 9896, 6551, 10074, 6013, 1734, 6537, 431, 9560, 9285, 10473, 9560, 2911, 9815, 3551, 2981, 9172, 7730, 9346, 1289, 9560, 6391, 6551, 9560, 4825, 1944, 6271, 5909, 11233, 431, 9560, 4636, 3105, 5851, 8169, 10860, 3551, 8694, 8169, 5430, 9609, 9560, 4490, 3551, 8440, 8169, 3551, 4690, 8169, 3551, 2026, 9313, 7568, 1197, 9609, 4328, 1289, 6446, 5454, 68, 5181, 8169, 3105, 7015, 2849, 8169, 9609, 735, 1944, 2981, 7419, 8922, 6097, 9848, 1289, 9560, 7464, 3570, 10439, 3318, 1919, 5831, 9060, 9560, 10550, 2512, 7890, 6859, 7656, 7623, 6995, 10762, 5255, 2981, 3373, 9469, 7204, 7413, 9560, 8304, 6551, 11233, 6097, 2492, 3868, 2561, 9560, 4234, 7413, 3779, 3915, 2821, 1944, 10981, 8169, 3270, 1197, 3381, 3170, 7230, 2434, 7196, 7883, 869, 2981, 8922, 6097, 3551, 8609, 9560, 2454, 6551, 3170, 4717, 5786, 7413, 3381, 5718, 6551, 640, 3105, 9217, 8169, 431, 9609, 4271, 8169, 3551, 8169, 6032, 1001, 4088, 9060, 2981, 372, 5716, 8786, 9085, 3551, 542, 3551, 3105, 7920, 2981, 10439, 654, 2492, 3070, 11233, 10700, 2434, 2817, 6348, 8947, 8169, 6551, 2981, 5555, 10276, 3105, 10136, 10860, 7413, 8169, 9609, 2981, 130, 6551, 3997, 6590, 4250, 9560, 2814, 3551, 3105, 2367, 7890, 6888, 2981, 6945, 7413, 162, 3621, 3105, 4744, 10408, 6917, 6551, 8169, 7413, 6888, 2981, 2378, 3381, 3105, 8281, 10408, 2981, 5456, 7413, 9560, 813, 3105, 10769, 4088, 431, 9560, 8234, 6551, 9560, 4825, 3551, 1068, 2894, 64, 11233, 6391, 2486, 2434, 3551, 7308, 8922, 6097, 1809, 2894, 6446, 1564, 431, 9560, 4825, 8234, 3105, 7432, 10860, 3551, 5851, 8936, 162, 4791, 3611, 3551, 10581, 11045, 7413, 9560, 8304, 6551, 9560, 6618, 2894, 3105, 10581, 5851, 8936, 162, 4923, 3551, 7920, 2981, 10439, 10306, 7413, 162, 5378, 7535, 1944, 11176, 9609, 6662, 3223, 1062, 948, 5212, 11029, 2492, 3105, 5255, 3551, 5995, 6271, 9560, 6210, 8326, 64, 9560, 4293, 11024, 11091, 10322, 1289, 726, 3381, 3611, 8169, 5716, 9623, 3223, 2286, 3105, 2731, 4152, 10306, 9338, 1944, 5625, 6917, 6551, 162, 1560, 3551, 583, 3551, 10581, 7829, 6917, 9560, 4490, 2287, 869, 4825, 3551, 6250, 10408, 9609, 9560, 5492, 6551, 3634, 9183, 3381, 636, 5255, 5521, 3570, 10115, 5226, 9469, 8284, 6029, 10762, 5909, 4152, 10648, 1944, 3105, 1775, 64, 2981, 9473, 6031, 3551, 10981, 11024, 451, 10115, 2981, 2406, 1564, 1289, 9724, 3105, 4248, 8936, 869, 2981, 4490, 643, 3551, 2817, 3619, 8624, 2731, 2981, 9473, 3602, 3570, 9560, 1591, 6551, 2018, 9056, 3105, 8310, 2981, 2699, 7212, 7413, 9560, 1209, 3551, 7890, 2981, 6283, 6551, 4490, 8723, 869, 9560, 6618, 6532, 8666, 9560, 8922, 4412, 10976, 1001, 10026, 3105, 3381, 3884, 3270, 9560, 2434, 9560, 6070, 6391, 870, 1944, 3105, 11039, 5998, 533, 3551, 1108, 11024, 9609, 690, 2981, 8183, 833, 8679, 9609, 2385, 2981, 4490, 7413, 328, 4474, 3551, 3381, 6772, 6578, 262, 6391, 7413, 9560, 9370, 9560, 4340, 1148, 9560, 6618, 3551, 9190, 5526, 3570, 9560, 4825, 1815, 7308, 8537, 2981, 9473, 7568, 8936, 6532, 1001, 431, 9560, 1222, 7413, 328, 9400, 3551, 10581, 5807, 2901, 10552, 1289, 9560, 3224, 2355, 6551, 9560, 7419, 8935, 3105, 2072, 10450, 6551, 2492, 5716, 7413, 9560, 6618, 3105, 5255, 726, 6902, 9609, 2561, 7308, 3195, 1944, 7732, 830, 8169, 11126, 10115, 6446, 1564, 5474, 4758, 7413, 10670, 9560, 9584, 3363, 11233, 3937, 7805, 7732, 2228, 6859, 9056, 9473, 10152, 6271, 2981, 6945, 6888, 2981, 3195, 8169, 5255, 6551, 2981, 2196, 9934, 264, 4845, 8957, 3551, 10762, 6590, 10473, 3570, 7419, 3970, 5526, 2136, 7449, 10559, 2654, 2492, 3105, 7920, 6881, 2981, 10801, 771, 6881, 6348, 7413, 2981, 2452, 7432, 4377, 2971, 3551, 8957, 7732, 5909, 2654, 6532, 9560, 2670, 1944, 1289, 3381, 10511, 7732, 6653, 9609, 1647, 7308, 3195, 9623, 3570, 9560, 4490, 3381, 3105, 1228, 7890, 2652, 10981, 11024, 3270, 2655, 7439, 1289, 726, 8652, 6318, 2136, 431, 7308, 6690, 2652, 1760, 355, 6551, 6446, 5718, 9469, 9370, 1289, 2910, 3105, 8903, 11024, 6271, 9609, 1730, 6551, 11233, 1944, 6751, 7656, 7454, 6551, 9560, 6984, 6608, 9609, 1001, 3105, 10191, 2981, 4719, 6551, 2981, 8021, 6932, 2981, 9147, 2964, 3596, 5510, 4140, 9560, 9664, 2817, 6348, 4711, 4500, 6161, 3105, 9267, 3381, 11233, 2434, 7413, 9560, 984, 6551, 7308, 2506, 10072, 3884, 7738, 2808, 3570, 2981, 5345, 6317, 3551, 6271, 5909, 8169, 7920, 3105, 1809, 726, 10559, 1106, 7308, 9714, 2981, 6932, 7015, 3270, 2337, 7413, 3170, 5718, 6551, 7657, 1944, 10581, 6271, 9609, 1730, 6551, 7308, 4257, 8580, 3381, 5571, 6551, 8169, 3105, 7687, 5726, 6859, 64, 3551, 8353, 6476, 6551, 9560, 2136, 6551, 6047, 9609, 3270, 10825, 8169, 8416, 3270, 735, 1944, 2981, 9473, 4923, 6551, 6476, 10121, 1944, 3105, 2367, 8310, 6551, 2981, 7413, 7596, 10121, 2981, 8021, 6932, 869, 2981, 9934, 264, 328, 7805, 3105, 2817, 2367, 6348, 7413, 9560, 3779, 9121, 3551, 9102, 9560, 8133, 10762, 8616, 10463, 8165, 7547, 3669, 9560, 7657, 948, 5474, 726, 10463, 10169, 1760, 5963, 3058, 1001, 9060, 4750, 11233, 2434, 2367, 3709, 1001, 1289, 726, 1944, 1809, 6446, 916, 7085, 1116, 7308, 8935, 7732, 1068, 9247, 7413, 8169, 3551, 8788, 1160, 6917, 2981, 5718, 6551, 4482, 3551, 2981, 9228, 7657, 784, 3570, 9560, 6623, 431, 550, 10463, 431, 9560, 593, 4636, 7413, 9560, 8304, 6551, 9560, 6618, 7732, 10581, 5851, 9560, 6578, 262, 6391, 2981, 6945, 159, 6203, 3551, 317, 8169, 4088, 869, 9560, 8935, 7732, 948, 5851, 8936, 7308, 1170, 2981, 6578, 3744, 1170, 9056, 3105, 1646, 3792, 11004, 6917, 3570, 5068, 8280, 10762, 5255, 4152, 6623, 431, 7308, 6391, 10238, 9609, 7851, 6551, 1289, 6629, 735, 1944, 2981, 2117, 3802, 3509, 5618, 10860, 431, 7308, 25, 7308, 1310, 9934, 6391, 948, 10079, 10115, 726, 9560, 2174, 9060, 2981, 11251, 2444, 2817, 11024, 9560, 4340, 11045, 4126, 1001, 3551, 9560, 8922, 3105, 7196, 7738, 4416, 6917, 6551, 8169, 10924, 10658, 10746, 3105, 4416, 2981, 5398, 8462, 2492, 8169, 5255, 3105, 7920, 5831, 6551, 9972, 6917, 6551, 9560, 10612, 1944, 8169, 5255, 9560, 5008, 1222, 4344, 3105, 9893, 4152, 3707, 1944, 6271, 9609, 1730, 6551, 11233, 6391, 2486, 10369, 2310, 118, 543, 162, 3755, 6557, 5909, 9560, 3509, 6551, 5312, 3551, 5716, 8353, 513, 3551, 4414, 64, 9560, 4340, 3105, 9450, 3105, 5255, 948, 2492, 3830, 9292, 6551, 10451, 2492, 9383, 8169, 5255, 9560, 533, 664, 3596, 2817, 9535, 8284, 869, 162, 6618, 1289, 9560, 1710, 6551, 3611, 7413, 5496, 3105, 5255, 9623, 9292, 6551, 10451, 3381, 3105, 5255, 11024, 2673, 6203, 2654, 10581, 9609, 10032, 10451, 3551, 3685, 2981, 5454, 7816, 5181, 6271, 1066, 10900, 7413, 10451, 1695, 7732, 6461, 9560, 10125, 6551, 8797, 3551, 1289, 9724, 7212, 7308, 4636, 3551, 6514, 2492, 3105, 7130, 10463, 5830, 8781, 6551, 10451, 1760, 8696, 3570, 9560, 4234, 2136, 2492, 7308, 3195, 7308, 4344, 2964, 5255, 726, 10473, 9560, 4234, 2196, 2136, 7732, 1066, 9609, 7738, 6348, 7413, 2981, 2941, 3067, 7108, 3551, 2654, 1114, 6532, 8169, 3570, 2981, 2655, 6029, 5378, 533, 10306, 7308, 3223, 10887, 1760, 8512, 2492, 9383, 2981, 9896, 6551, 2196, 6354, 1503, 1760, 7510, 10860, 9560, 10135, 6551, 5843, 1502, 8169, 5255, 948, 8647, 1470, 3381, 7732, 3884, 3270, 6446, 8522, 3164, 9469, 9370, 8870, 10982, 6551, 2981, 9147, 7413, 9560, 3779, 9121, 3551, 9623, 380, 7413, 11233, 4717, 4414, 3105, 8588, 9609, 6485, 6551, 8169, 2981, 870, 6551, 10499, 2964, 9102, 9560, 10499, 6551, 7308, 5320, 2947, 7732, 8416, 10000, 2981, 1872, 9609, 7282, 10152, 4239, 1289, 3381, 4482, 1944, 10762, 5255, 4152, 1564, 10115, 3044, 10115, 948, 9560, 3164, 10136, 64, 5831, 3381, 8353, 4608, 162, 9341, 3551, 7641, 1001, 3381, 7732, 3884, 4843, 3270, 2981, 6322, 9444, 9609, 7308, 2699, 7457, 9469, 8275, 9469, 6411, 3330, 7732, 2817, 5089, 6826, 431, 2981, 1854, 7732, 7639, 7413, 9560, 5745, 3551, 8616, 1289, 7312, 2981, 5825, 10439, 4871, 10818, 3570, 2981, 2711, 431, 8491, 4344, 3551, 850, 9560, 4845, 6551, 2981, 8316, 4940, 593, 10743, 8675, 5995, 9560, 4919, 6391, 1289, 2910, 3105, 1000, 7920, 3381, 11233, 6318, 3922, 5255, 2981, 9748, 8675, 8006, 7413, 6446, 5345, 4736, 1944, 8323, 3381, 8169, 5255, 11024, 1289, 726, 5359, 3551, 3381, 8169, 9347, 2981, 9473, 6031, 9060, 6103, 6311, 3105, 9267, 3381, 8169, 3884, 3270, 735, 1944, 2981, 8389, 3148, 3330, 4843, 8169, 3198, 9609, 3270, 10115, 948, 9560, 3164, 7684, 10860, 9609, 9560, 2048, 2911, 9815, 3551, 9880, 9560, 727, 2911, 9777, 6946, 10860, 11233, 10439, 2711, 5533, 10818, 9060, 2981, 3223, 4126, 9560, 10407, 9560, 7753, 4014, 3551, 726, 9560, 8918, 8118, 1760, 3223, 7555, 9623, 3381, 3105, 7920, 11233, 2911, 9815, 2731, 2981, 3223, 9157, 10439, 2564, 9469, 817, 10115, 7308, 10743, 3148, 3105, 948, 8252, 162, 5994, 1536, 3570, 9560, 5212, 3641, 10818, 7591, 1944, 7635, 1289, 8841, 4462, 9609, 2561, 6271, 5255, 10926, 9609, 7848, 2910, 7732, 9073, 64, 2981, 1405, 1336, 6551, 3570, 6917, 6551, 7308, 7457, 1611, 3551, 4487, 6161, 6419, 2072, 9560, 3148, 10581, 10451, 2981, 130, 6551, 4338, 5126, 431, 2507, 3551, 8918, 9560, 10305, 6532, 9560, 1363, 7732, 1213, 9560, 3570, 869, 2981, 3708, 1299, 8788, 1809, 5353, 431, 10615, 869, 9560, 2911, 3551, 533, 1756, 11141, 6551, 7308, 2582, 680, 7732, 1066, 9609, 3270, 903, 6161, 2462, 7732, 1289, 9724, 8429, 7413, 2176, 6917, 9560, 5126, 10581, 7829, 8936, 9560, 5483, 3551, 3332, 2981, 10439, 7732, 2731, 2981, 9214, 2614, 6551, 8169, 9609, 9560, 10439, 10497, 1944, 9560, 10439, 533, 1743, 11024, 9415, 9609, 1872, 6888, 2907, 5718, 6551, 9053, 1289, 726, 7732, 2367, 4783, 7308, 3913, 726, 10463, 11188, 10480, 1760, 639, 4500, 533, 4340, 11224, 267, 6532, 9560, 458, 3596, 1066, 9609, 3270, 6870, 7413, 2981, 9115, 10774, 9469, 6096, 11004, 6446, 11096, 7127, 9469, 9370, 2867, 3330, 7308, 3195, 254, 64, 7413, 9560, 5072, 888, 4736, 1289, 9724, 2735, 9560, 2911, 7732, 5851, 9560, 3148, 10860, 3223, 597, 3551, 6836, 8169, 10738, 7413, 7308, 7457, 1611, 2492, 1903, 2492, 9383, 7732, 1760, 2981, 9936, 708, 2981, 1710, 10716, 726, 10463, 7025, 5294, 9195, 162, 9184, 3551, 8323, 10451, 948, 4004, 4277, 5003, 6551, 2026, 7308, 10125, 7088, 3551, 3440, 869, 4825, 3570, 1001, 3105, 7920, 8169, 5255, 138, 1564, 948, 9469, 2367, 2072, 9560, 4490, 5255, 9217, 6917, 9609, 8003, 9560, 6851, 7413, 3330, 3105, 2817, 9623, 2406, 6348, 8131, 1944, 9560, 111, 3105, 10878, 7413, 2981, 6271, 9609, 690, 5255, 2981, 3835, 328, 5966, 10860, 7308, 4482, 6532, 9560, 8857, 7732, 5613, 9560, 6391, 6551, 8169, 10115, 7656, 7895, 3551, 10581, 2385, 8169, 9609, 9560, 4490, 3570, 7308, 3363, 1289, 9560, 3787, 7732, 744, 6917, 7124, 5263, 6551, 11247, 964, 9560, 10926, 10511, 9560, 4490, 5255, 10903, 3551, 11233, 5841, 1267, 4482, 4126, 7308, 3281, 1372, 869, 4825, 3570, 1001, 3105, 9947, 6917, 3105, 10981, 11024, 7563, 8169, 948, 3551, 3485, 2981, 239, 7101, 6551, 8628, 7732, 5807, 7591, 1001, 4113, 6917, 5831, 3105, 8903, 11024, 6271, 3105, 1775, 10552, 6532, 10451, 4250, 9560, 2814, 3551, 10581, 5070, 10451, 8730, 9469, 7439, 7732, 8416, 3270, 9609, 6044, 1444, 3551, 5841, 1001, 7883, 10860, 3551, 4490, 9560, 1363, 10738, 1944, 7308, 11224, 8719, 813, 1001, 1289, 8713, 3381, 7732, 1944, 7635, 1964, 162, 2868, 3596, 8682, 8702, 3868, 7732, 1289, 9724, 8326, 3868, 4152, 7851, 8682, 9369, 1001, 3105, 1726, 8682, 3551, 9623, 5494, 9560, 3619, 4482, 5807, 10903, 64, 1001, 7413, 9560, 2196, 6210, 10115, 3325, 2322, 7226, 994, 2864, 3105, 6210, 5399, 994, 1007, 10976, 1001, 7851, 8682, 7862, 9083, 1001, 3596, 9083, 3270, 9469, 9369, 1001, 3105, 1726, 8682, 10738, 3891, 9560, 1267, 5474, 7308, 2470, 4937, 6551, 9560, 4482, 9681, 9560, 7413, 11247, 3332, 64, 1001, 833, 3105, 7920, 162, 1470, 7196, 7883, 431, 2911, 1944, 6428, 3634, 1289, 3381, 10511, 9560, 6210, 1646, 869, 9560, 6618, 4490, 7413, 4474, 3551, 77, 6532, 9560, 4825, 3105, 6844, 10860, 9609, 10451, 891, 3270, 9292, 948, 8326, 7732, 10292, 10738, 8537, 8957, 4122, 10602, 2981, 6623, 6551, 7830, 6391, 5017, 7830, 10292, 2864, 3105, 3551, 8147, 1123, 3868, 7862, 1001, 3381, 3381, 6070, 2434, 5255, 2981, 1267, 3105, 7920, 7073, 1160, 8169, 1123, 3105, 7862, 7073, 7732, 5255, 2981, 9439, 10499, 1802, 5786, 1944, 1647, 5322, 10738, 3551, 1086, 9609, 451, 8537, 4239, 8957, 3868, 692, 1001, 3105, 692, 3868, 11233, 6932, 5134, 3868, 3868, 692, 1001, 692, 9971, 3088, 8537, 8796, 10552, 1289, 7308, 6418, 3551, 3342, 10860, 7413, 4825, 3868, 3357, 7413, 7732, 1180, 4292, 9609, 1001, 3570, 7308, 4482, 3551, 10653, 9560, 8355, 9609, 328, 8234, 7732, 7106, 1743, 11233, 7413, 11024, 1106, 2981, 7597, 1944, 2981, 7106, 5258, 3551, 10117, 7568, 3105, 11045, 5526, 1289, 10451, 2981, 10511, 10115, 726, 7308, 9205, 7732, 5255, 431, 9560, 9159, 2981, 6462, 4601, 5526, 1267, 6, 726, 11233, 3794, 3105, 7738, 6348, 8226, 64, 7920, 3105, 9609, 10408, 9560, 1088, 2981, 4960, 5716, 2654, 2492, 3105, 9893, 7732, 10090, 2654, 2492, 3830, 8608, 9609, 5312, 1001, 2492, 3105, 7738, 9609, 3270, 9292, 6551, 10451, 4879, 451, 3570, 2981, 7230, 1267, 10658, 2981, 1098, 4717, 6210, 8326, 3105, 7862, 10451, 9609, 2063, 7308, 4482, 10762, 9469, 6418, 9469, 7439, 3868, 411, 8169, 7862, 10451, 9609, 5017, 7779, 7413, 1536, 3551, 3105, 7726, 1647, 7413, 3570, 10451, 1944, 3105, 891, 1872, 7085, 2981, 6932, 7779, 7413, 4825, 3570, 1001, 10559, 10378, 5818, 3105, 1787, 10212, 11233, 5716, 1679, 9609, 8537, 7732, 1289, 8713, 7475, 3551, 10738, 7527, 10452, 1001, 9609, 7883, 869, 4825, 2393, 10473, 9609, 328, 8234, 2492, 3830, 2492, 9609, 690, 3105, 907, 7004, 2981, 6763, 6551, 7073, 9473, 3611, 6210, 8326, 3105, 3868, 4001, 1086, 3105, 2228, 7413, 3551, 2367, 855, 4879, 7413, 162, 3621, 3669, 8102, 10926, 207, 64, 8188, 3105, 4244, 5120, 7280, 9488, 10473, 1001, 7413, 9560, 5072, 3235, 3551, 7577, 4736, 3868, 2817, 1000, 7920, 3105, 2817, 6348, 7308, 10247, 9560, 6461, 5255, 6551, 3977, 4411, 6551, 5476, 10439, 1715, 7092, 2136, 3551, 2481, 3551, 11233, 7280, 6551, 7308, 4711, 726, 10473, 3570, 7656, 2069, 3318, 4089, 6551, 2981, 712, 4152, 8943, 8781, 6551, 3330, 1760, 6551, 328, 9793, 4178, 7130, 3105, 9763, 9609, 7308, 7454, 7308, 7280, 1289, 9625, 2692, 7413, 8133, 3551, 4178, 7308, 5378, 7535, 2513, 1775, 10860, 1289, 10254, 6961, 11233, 4234, 7280, 6551, 7308, 3105, 690, 10079, 10115, 726, 9560, 2174, 9060, 2981, 5458, 6551, 3381, 4234, 3977, 7902, 4843, 2953, 5726, 431, 8169, 2492, 9560, 7280, 1743, 9056, 3105, 2910, 1204, 3105, 10981, 3468, 7862, 8169, 6532, 9560, 7902, 2652, 9623, 3932, 8426, 2514, 11201, 3551, 8169, 5255, 1106, 4500, 9560, 227, 6551, 2964, 3551, 5130, 3381, 3105, 10981, 7862, 3381, 8537, 5255, 6661, 1001, 162, 6122, 1760, 11188, 5841, 1001, 4271, 9609, 1972, 6161, 9056, 3105, 5255, 2981, 2849, 3105, 2457, 859, 2981, 9212, 5345, 2729, 3381, 7201, 1001, 9183, 8169, 5255, 2981, 1351, 9469, 2981, 9642, 3105, 2367, 10981, 1856, 10631, 9560, 2729, 5255, 11233, 3105, 2817, 6348, 10900, 10860, 6446, 10505, 9469, 9370, 3105, 6485, 8169, 5255, 6059, 9609, 994, 10860, 9560, 7753, 2492, 3105, 2817, 7017, 2981, 10439, 9476, 10137, 2981, 15, 6759, 593, 3551, 162, 8630, 3596, 5293, 9469, 9370, 5255, 726, 9560, 1564, 566, 1001, 9469, 8596, 1001, 9609, 4825, 5903, 162, 6133, 4232, 1001, 4500, 9560, 10887, 6917, 6551, 9560, 7753, 3551, 3636, 1001, 8936, 9609, 4825, 3070, 8169, 5255, 1106, 8943, 10644, 7413, 9560, 2390, 6551, 9560, 57, 10591, 9560, 10991, 10276, 7413, 9560, 7012, 7413, 8898, 637, 3105, 8440, 4377, 1944, 10762, 5255, 4152, 7563, 10115, 8169, 9623, 10860, 8777, 3105, 10136, 9609, 162, 10439, 6618, 7413, 9560, 1946, 1222, 11029, 10408, 2492, 880, 2492, 1197, 9623, 2492, 9609, 1726, 1564, 3551, 3570, 2981, 2766, 1305, 7432, 4126, 9560, 6129, 3105, 11039, 10762, 3079, 11207, 3381, 1258, 3683, 4789, 3884, 4769, 2072, 3105, 10981, 183, 10115, 2981, 7470, 1258, 4789, 7413, 4825, 9560, 2117, 6551, 162, 4344, 7715, 9609, 6485, 6551, 8169, 3551, 8169, 5255, 9623, 4490, 2964, 9560, 8133, 2517, 7413, 1289, 9560, 10612, 3551, 2981, 7124, 10811, 6551, 7103, 7413, 9560, 2454, 3551, 9560, 3004, 6551, 5257, 4851, 726, 10473, 9560, 1748, 3105, 8440, 3873, 3551, 3873, 1289, 9724, 3105, 7432, 10860, 5803, 3551, 1316, 9444, 4088, 7413, 162, 3159, 1935, 10204, 6917, 162, 8630, 3551, 10452, 9150, 10408, 1289, 9810, 1935, 5919, 9810, 2492, 2981, 400, 6717, 9609, 1349, 1001, 2981, 9473, 3167, 10115, 162, 3201, 8817, 4843, 1944, 10926, 1001, 9609, 9966, 6064, 6888, 7656, 7460, 7312, 6551, 1564, 1944, 8057, 5255, 9560, 3181, 3551, 5072, 5405, 6551, 4256, 3551, 4344, 3105, 2817, 9609, 1086, 9609, 162, 6618, 10115, 979, 4789, 3105, 11039, 10762, 7595, 8658, 7591, 2981, 7124, 6031, 3873, 10658, 3105, 7738, 10746, 5248, 2753, 8462, 6532, 9560, 8723, 861, 3305, 1289, 9724, 3105, 3884, 7738, 10466, 869, 2981, 3628, 10877, 6551, 2981, 643, 3551, 880, 8102, 6532, 8169, 5212, 4562, 7413, 1913, 3105, 1116, 162, 5994, 3551, 9560, 2072, 8133, 9946, 6618, 5255, 948, 1037, 7413, 7526, 8848, 9166, 3105, 8440, 2981, 10452, 7510, 3058, 726, 162, 9744, 735, 5255, 9609, 3270, 7017, 3551, 735, 5255, 9609, 3270, 8310, 1944, 2981, 223, 4474, 1066, 1815, 7413, 7282, 162, 7280, 6826, 10473, 9560, 6461, 3551, 9560, 6177, 4027, 167, 10942, 9469, 3941, 9609, 3330, 9560, 4474, 3808, 1066, 6649, 3859, 4500, 162, 4825, 8234, 10115, 6271, 1066, 122, 8432, 431, 122, 3105, 11039, 10762, 10963, 3570, 9560, 5072, 7442, 8726, 11024, 1045, 9609, 4776, 10552, 162, 4474, 6322, 10746, 2894, 3381, 9383, 3105, 10981, 1944, 3744, 8169, 328, 1458, 9774, 9560, 2470, 6851, 7196, 3270, 8284, 3105, 8903, 11024, 2463, 11233, 3469, 1289, 9724, 6183, 10552, 6532, 1001, 1944, 8102, 7413, 9560, 207, 3105, 11155, 10191, 8169, 726, 3551, 10115, 6759, 3551, 2845, 3551, 9630, 3820, 3105, 3564, 10408, 7413, 7274, 1705, 9609, 1972, 9560, 1604, 5646, 9609, 11233, 3223, 4123, 3105, 404, 10039, 10408, 3570, 8169, 948, 10000, 10552, 9560, 7442, 5312, 3551, 162, 6122, 1289, 7591, 9560, 223, 4474, 7413, 7282, 1760, 3223, 5345, 7413, 8426, 365, 9609, 8652, 3330, 3105, 3812, 431, 8102, 10860, 3551, 8323, 5120, 11096, 7280, 9488, 6859, 1001, 1944, 1289, 7312, 726, 9560, 3359, 10700, 2095, 6679, 10363, 328, 4500, 328, 7413, 5068, 1351, 3551, 10581, 3105, 11039, 1106, 8912, 9609, 9560, 4404, 2959, 10115, 3070, 3105, 2026, 9609, 4760, 7308, 7280, 2416, 7308, 6046, 4075, 6322, 4088, 2492, 7732, 5255, 7732, 533, 9442, 1001, 6684, 2492, 3070, 6977, 1944, 4557, 10033, 5571, 1798, 9254, 3105, 948, 4253, 9609, 8063, 10451, 8537, 1944, 7308, 1106, 7816, 5255, 2981, 1165, 3105, 10581, 1775, 10473, 162, 813, 7591, 2492, 9383, 8169, 1760, 7413, 2981, 6199, 3444, 3551, 10452, 8440, 2981, 8273, 5756, 10653, 3192, 9560, 6461, 10762, 11039, 9560, 4482, 4088, 4500, 9560, 9349, 8234, 2492, 9383, 8169, 1760, 2981, 6653, 10717, 8675, 2981, 3619, 9410, 9520, 7920, 3105, 6064, 8957, 7413, 2981, 11188, 1748, 7413, 9560, 7595, 10276, 3570, 2981, 1267, 3551, 2981, 4482, 8537, 7413, 9560, 5274, 6551, 5876, 8537, 6892, 1289, 7312, 4500, 5893, 6551, 3830, 10654, 3551, 7770, 3551, 10910, 649, 3669, 9560, 4155, 6551, 7308, 6661, 2981, 1147, 3980, 7413, 3381, 3520, 5718, 6551, 5705, 3105, 8429, 7413, 7723, 2981, 7101, 3551, 8788, 7732, 10021, 4344, 7308, 7280, 8461, 664, 726, 10473, 9060, 2981, 7906, 9326, 2654, 6532, 9560, 1237, 3551, 10769, 10860, 7413, 4825, 1447, 2492, 2981, 5306, 6735, 5526, 1289, 1001, 3551, 10205, 7308, 5994, 2492, 9383, 7732, 1743, 11024, 118, 859, 2463, 3105, 1646, 9609, 3270, 10762, 3070, 2981, 5915, 3469, 6551, 2851, 5831, 64, 1001, 1066, 880, 6460, 10473, 10451, 1695, 3105, 11039, 641, 1657, 10451, 7085, 4152, 10151, 8101, 948, 3551, 8053, 3669, 3967, 2046, 9623, 5825, 2981, 7123, 9056, 1289, 9724, 7308, 8132, 1066, 2731, 10860, 9044, 9560, 1909, 6551, 7308, 771, 3551, 7732, 2796, 2492, 8169, 1760, 7102, 9609, 9560, 5496, 7732, 5625, 6917, 3669, 9560, 1222, 3551, 4500, 8445, 8083, 3551, 3093, 8281, 1001, 9609, 105, 3381, 9383, 8169, 11202, 1001, 7732, 7196, 5928, 2910, 3551, 10581, 7728, 1001, 9609, 5928, 3820, 7202, 9560, 9159, 443, 9609, 10408, 10026, 3105, 8537, 8666, 9560, 10249, 11233, 5909, 2981, 3223, 1755, 5094, 1944, 9560, 6984, 5909, 10463, 6463, 7738, 7656, 3280, 227, 6551, 10917, 690, 6271, 3868, 7726, 8169, 5909, 201, 2463, 11028, 9214, 2652, 9647, 3105, 2834, 11233, 400, 9731, 9609, 8537, 6959, 7732, 329, 1001, 3570, 9623, 3830, 1636, 3551, 183, 5474, 3105, 5255, 1544, 6551, 7124, 4345, 9466, 1289, 10451, 6532, 9560, 4825, 3551, 4560, 726, 7308, 4041, 432, 10115, 9560, 1564, 162, 1163, 3383, 9560, 4879, 6551, 162, 1539, 61, 2981, 6932, 9060, 8537, 3868, 891, 2561, 9313, 10276, 7732, 3551, 7308, 3122, 1760, 2457, 8512, 10964, 1397, 7732, 1068, 7680, 1289, 2507, 4500, 6483, 7308, 3744, 1170, 2981, 3223, 9172, 328, 4500, 9560, 4500, 3551, 10581, 533, 10449, 7308, 7812, 7732, 6592, 10860, 7308, 583, 6271, 8666, 9560, 10152, 7732, 1743, 8169, 10115, 3105, 6136, 7862, 1944, 7308, 10926, 8003, 5255, 9609, 3289, 664, 583, 7413, 4474, 3551, 1170, 431, 8666, 9560, 4825, 9056, 6532, 6965, 1347, 8490, 3551, 9356, 3105, 5726, 7732, 5255, 1536, 1289, 3899, 9736, 664, 3070, 4500, 4152, 11164, 6551, 10326, 3381, 3105, 10746, 8310, 6551, 5909, 3170, 6932, 6027, 9609, 3270, 1009, 9056, 10555, 431, 7308, 583, 1944, 8537, 10137, 3868, 2561, 5255, 2981, 7123, 7413, 9560, 9602, 4433, 7685, 4086, 3025, 7209, 7732, 5255, 2654, 6203, 1755, 9609, 9652, 8936, 7308, 10548, 7413, 9560, 779, 1197, 1686, 7308, 7933, 5255, 11024, 6322, 6908, 7732, 5255, 7656, 11155, 9383, 7732, 2817, 11024, 6348, 2981, 2117, 8266, 1755, 7732, 3223, 1396, 7196, 11024, 7738, 3628, 664, 3570, 583, 1289, 726, 1944, 10581, 9383, 7732, 2817, 11024, 6348, 533, 2981, 3164, 7732, 2367, 7196, 7738, 6478, 6551, 3383, 8666, 9560, 4825, 9609, 9217, 6161, 431, 1289, 9724, 7732, 1643, 3570, 7308, 1170, 3223, 3830, 10699, 3551, 2655, 4088, 10473, 7308, 5994, 3551, 5807, 11081, 3551, 11053, 64, 9560, 6618, 2492, 9383, 11024, 5716, 3830, 2301, 9609, 583, 7308, 7615, 6551, 654, 7157, 3796, 7206, 1396, 11024, 2731, 9609, 8660, 2674, 640, 10413, 3551, 10758, 10451, 1289, 9560, 2910, 1086, 8936, 6551, 2981, 2766, 1062, 207, 8323, 948, 3381, 10762, 1760, 4152, 5199, 9609, 9560, 10612, 3551, 3381, 9560, 10485, 5716, 3223, 5247, 9560, 1748, 1758, 6182, 2981, 1470, 5439, 869, 9560, 6618, 3551, 2046, 10306, 3551, 10306, 9560, 768, 712, 3381, 8537, 2731, 7023, 64, 3570, 10439, 6096, 1944, 7308, 1170, 3551, 583, 431, 3105, 8244, 10451, 2492, 2457, 2492, 3105, 10981, 9609, 3633, 7308, 9203, 9212, 3551, 7906, 9609, 7883, 869, 7308, 1560, 2492, 6751, 2492, 1197, 7732, 7475, 3551, 10581, 7251, 9609, 5440, 664, 1289, 3381, 1564, 7413, 9560, 207, 3170, 4717, 7196, 7738, 11204, 7308, 3195, 1944, 8537, 9609, 162, 5481, 8415, 664, 3570, 5374, 7308, 11115, 9609, 7308, 4636, 6514, 3551, 2598, 7732, 10581, 10259, 7308, 10313, 3551, 5966, 10860, 2981, 8837, 6551, 1536, 8363, 431, 9560, 5440, 1745, 10819, 8857, 2767, 8169, 869, 1237, 3551, 1068, 7790, 7308, 3195, 3105, 5255, 4560, 9609, 2561, 5893, 7732, 830, 7308, 11035, 9056, 8030, 3551, 5102, 7732, 9073, 9560, 7730, 6532, 9560, 4825, 9400, 2189, 6917, 9560, 2406, 8389, 5134, 1375, 9560, 6391, 2664, 8169, 2981, 10439, 431, 7308, 6505, 3551, 9228, 10860, 9609, 9560, 130, 6551, 1374, 4250, 9560, 2814, 3782, 2981, 5155, 4093, 9469, 640, 11242, 6551, 7308, 6690, 10026, 3105, 8537, 11233, 5909, 8638, 6742, 3181, 9314, 3570, 2981, 9836, 3820, 3105, 6845, 9560, 8075, 1289, 11233, 2611, 9056, 3105, 1646, 9609, 11196, 6551, 6271, 3883, 9884, 9560, 6391, 6551, 2981, 7730, 5909, 2731, 3551, 2463, 8545, 9845, 9560, 2406, 1106, 7464, 9647, 5529, 830, 9560, 8499, 6551, 7308, 9203, 5255, 6751, 9168, 3551, 7732, 6638, 4122, 6917, 6551, 9560, 6618, 1037, 10860, 7413, 7308, 7124, 2156, 4791, 3611, 3551, 3480, 7308, 7730, 9060, 2981, 4753, 758]\n"
          ],
          "name": "stdout"
        }
      ]
    },
    {
      "cell_type": "code",
      "metadata": {
        "id": "fqyaxLR5H9HU",
        "outputId": "5e847f0f-6ae6-455b-efb7-ebb08f484e54",
        "colab": {
          "base_uri": "https://localhost:8080/",
          "height": 134
        }
      },
      "source": [
        "from numpy import array\n",
        "from numpy import argmax\n",
        "from keras.utils import to_categorical #each of word  usage would  create a column\n",
        "\n",
        "# one hot encode\n",
        "encoded = to_categorical(result)\n",
        "print(encoded)\n",
        "# invert encoding\n",
        "##inverted = argmax(encoded[0])\n",
        "#print(inverted)"
      ],
      "execution_count": null,
      "outputs": [
        {
          "output_type": "stream",
          "text": [
            "[[0. 0. 0. ... 0. 0. 0.]\n",
            " [0. 0. 0. ... 0. 0. 0.]\n",
            " [0. 0. 0. ... 0. 0. 0.]\n",
            " ...\n",
            " [0. 0. 0. ... 0. 0. 0.]\n",
            " [0. 0. 0. ... 0. 0. 0.]\n",
            " [0. 0. 0. ... 0. 0. 0.]]\n"
          ],
          "name": "stdout"
        }
      ]
    },
    {
      "cell_type": "code",
      "metadata": {
        "id": "YUqHpLHuIMmk"
      },
      "source": [
        "import keras\n",
        "from keras.models import Sequential\n",
        "from keras.layers import Dense,LSTM,Embedding"
      ],
      "execution_count": null,
      "outputs": []
    },
    {
      "cell_type": "code",
      "metadata": {
        "id": "4_YttG9xL2a8"
      },
      "source": [
        "def createModel(vocab_size,obj2):\n",
        "  model = Sequential()\n",
        "  model.add(Embedding(11253,64,input_length=obj2)) #embedding layer task is converting vocabulary to a specific size\n",
        "  model.add(LSTM(64,return_sequences=True)) #input layer\n",
        "  model.add(LSTM(64,activation=\"tanh\")) #hidden layer\n",
        "  model.add(Dense(64,activation=\"relu\"))#hidden layer\n",
        "  model.add(Dense(vocab_size,activation=\"softmax\"))#output layer\n",
        "  model.compile(loss=\"categorical_crossentropy\",optimizer=\"adam\",metrics=[\"accuracy\"]) #compile layer together\n",
        "  model.summary()\n",
        "  return model"
      ],
      "execution_count": null,
      "outputs": []
    },
    {
      "cell_type": "code",
      "metadata": {
        "id": "w5ERJjrHcNxp"
      },
      "source": [
        "# organize into sequences of tokens\n",
        "train_len = 25+1 # 50 training words , then one target word\n",
        "\n",
        "# Empty list of sequences\n",
        "text_sequences = []\n",
        "\n",
        "for i in range(train_len, len(tokens)):\n",
        "    \n",
        "    # Grab train_len# amount of characters\n",
        "    seq = tokens[i-train_len:i]\n",
        "    \n",
        "    # Add to list of sequences\n",
        "    text_sequences.append(seq)"
      ],
      "execution_count": null,
      "outputs": []
    },
    {
      "cell_type": "code",
      "metadata": {
        "id": "V_mMP469Yypx"
      },
      "source": [
        "X = encoded[:,:-1]"
      ],
      "execution_count": null,
      "outputs": []
    },
    {
      "cell_type": "code",
      "metadata": {
        "id": "I2Wg-s8XhT_L",
        "outputId": "66061c90-0208-49b5-b65b-d211ab43936d",
        "colab": {
          "base_uri": "https://localhost:8080/",
          "height": 134
        }
      },
      "source": [
        "X"
      ],
      "execution_count": null,
      "outputs": [
        {
          "output_type": "execute_result",
          "data": {
            "text/plain": [
              "array([[0., 0., 0., ..., 0., 0., 0.],\n",
              "       [0., 0., 0., ..., 0., 0., 0.],\n",
              "       [0., 0., 0., ..., 0., 0., 0.],\n",
              "       ...,\n",
              "       [0., 0., 0., ..., 0., 0., 0.],\n",
              "       [0., 0., 0., ..., 0., 0., 0.],\n",
              "       [0., 0., 0., ..., 0., 0., 0.]], dtype=float32)"
            ]
          },
          "metadata": {
            "tags": []
          },
          "execution_count": 20
        }
      ]
    },
    {
      "cell_type": "code",
      "metadata": {
        "id": "4-O4t1OAhaPq"
      },
      "source": [
        "y= encoded[:,-1]"
      ],
      "execution_count": null,
      "outputs": []
    },
    {
      "cell_type": "code",
      "metadata": {
        "id": "K5gTNjhPhdTp",
        "outputId": "b1267717-64a9-4a51-8503-83200d78107c",
        "colab": {
          "base_uri": "https://localhost:8080/",
          "height": 34
        }
      },
      "source": [
        "y"
      ],
      "execution_count": null,
      "outputs": [
        {
          "output_type": "execute_result",
          "data": {
            "text/plain": [
              "array([0., 0., 0., ..., 0., 0., 0.], dtype=float32)"
            ]
          },
          "metadata": {
            "tags": []
          },
          "execution_count": 22
        }
      ]
    },
    {
      "cell_type": "code",
      "metadata": {
        "id": "QVXw1hcJifW0"
      },
      "source": [
        "seq_len = X.shape[1]"
      ],
      "execution_count": null,
      "outputs": []
    },
    {
      "cell_type": "code",
      "metadata": {
        "id": "xqX8nIcJhri8"
      },
      "source": [
        "model = createModel(vocab_size, seq_len)"
      ],
      "execution_count": null,
      "outputs": []
    },
    {
      "cell_type": "code",
      "metadata": {
        "id": "5n7yXdmYjLHo"
      },
      "source": [
        "from pickle import dump,load"
      ],
      "execution_count": null,
      "outputs": []
    },
    {
      "cell_type": "code",
      "metadata": {
        "id": "U9W5mFWmjc0j",
        "outputId": "516343bb-ed9d-47e2-b381-2a45a730caf0",
        "colab": {
          "base_uri": "https://localhost:8080/",
          "height": 134
        }
      },
      "source": [
        "X.reshape(-1,1)"
      ],
      "execution_count": null,
      "outputs": [
        {
          "output_type": "execute_result",
          "data": {
            "text/plain": [
              "array([[0.],\n",
              "       [0.],\n",
              "       [0.],\n",
              "       ...,\n",
              "       [0.],\n",
              "       [0.],\n",
              "       [0.]], dtype=float32)"
            ]
          },
          "metadata": {
            "tags": []
          },
          "execution_count": 26
        }
      ]
    },
    {
      "cell_type": "code",
      "metadata": {
        "id": "55P_888YjxPK",
        "outputId": "7ad7a618-b3a2-495c-affd-54b0925aa324",
        "colab": {
          "base_uri": "https://localhost:8080/",
          "height": 34
        }
      },
      "source": [
        "X.shape"
      ],
      "execution_count": null,
      "outputs": [
        {
          "output_type": "execute_result",
          "data": {
            "text/plain": [
              "(11253, 11248)"
            ]
          },
          "metadata": {
            "tags": []
          },
          "execution_count": 27
        }
      ]
    },
    {
      "cell_type": "code",
      "metadata": {
        "id": "yiFpXNVvje6R",
        "outputId": "c092c58b-1b08-4157-8f5d-c4d9bc60a1c8",
        "colab": {
          "base_uri": "https://localhost:8080/",
          "height": 134
        }
      },
      "source": [
        "y.reshape(-1,1)"
      ],
      "execution_count": null,
      "outputs": [
        {
          "output_type": "execute_result",
          "data": {
            "text/plain": [
              "array([[0.],\n",
              "       [0.],\n",
              "       [0.],\n",
              "       ...,\n",
              "       [0.],\n",
              "       [0.],\n",
              "       [0.]], dtype=float32)"
            ]
          },
          "metadata": {
            "tags": []
          },
          "execution_count": 28
        }
      ]
    },
    {
      "cell_type": "code",
      "metadata": {
        "id": "TLsnLVkvjZMb",
        "outputId": "7846eab6-da93-4f79-d1f9-c84748d0d1c8",
        "colab": {
          "base_uri": "https://localhost:8080/",
          "height": 874
        }
      },
      "source": [
        "model.fit(X, y, batch_size=128, epochs=300,verbose=1)"
      ],
      "execution_count": null,
      "outputs": [
        {
          "output_type": "stream",
          "text": [
            "Epoch 1/300\n"
          ],
          "name": "stdout"
        },
        {
          "output_type": "error",
          "ename": "ValueError",
          "evalue": "ignored",
          "traceback": [
            "\u001b[0;31m---------------------------------------------------------------------------\u001b[0m",
            "\u001b[0;31mValueError\u001b[0m                                Traceback (most recent call last)",
            "\u001b[0;32m<ipython-input-29-1575bfed1519>\u001b[0m in \u001b[0;36m<module>\u001b[0;34m()\u001b[0m\n\u001b[0;32m----> 1\u001b[0;31m \u001b[0mmodel\u001b[0m\u001b[0;34m.\u001b[0m\u001b[0mfit\u001b[0m\u001b[0;34m(\u001b[0m\u001b[0mX\u001b[0m\u001b[0;34m,\u001b[0m \u001b[0my\u001b[0m\u001b[0;34m,\u001b[0m \u001b[0mbatch_size\u001b[0m\u001b[0;34m=\u001b[0m\u001b[0;36m128\u001b[0m\u001b[0;34m,\u001b[0m \u001b[0mepochs\u001b[0m\u001b[0;34m=\u001b[0m\u001b[0;36m300\u001b[0m\u001b[0;34m,\u001b[0m\u001b[0mverbose\u001b[0m\u001b[0;34m=\u001b[0m\u001b[0;36m1\u001b[0m\u001b[0;34m)\u001b[0m\u001b[0;34m\u001b[0m\u001b[0;34m\u001b[0m\u001b[0m\n\u001b[0m",
            "\u001b[0;32m/usr/local/lib/python3.6/dist-packages/tensorflow/python/keras/engine/training.py\u001b[0m in \u001b[0;36m_method_wrapper\u001b[0;34m(self, *args, **kwargs)\u001b[0m\n\u001b[1;32m    106\u001b[0m   \u001b[0;32mdef\u001b[0m \u001b[0m_method_wrapper\u001b[0m\u001b[0;34m(\u001b[0m\u001b[0mself\u001b[0m\u001b[0;34m,\u001b[0m \u001b[0;34m*\u001b[0m\u001b[0margs\u001b[0m\u001b[0;34m,\u001b[0m \u001b[0;34m**\u001b[0m\u001b[0mkwargs\u001b[0m\u001b[0;34m)\u001b[0m\u001b[0;34m:\u001b[0m\u001b[0;34m\u001b[0m\u001b[0;34m\u001b[0m\u001b[0m\n\u001b[1;32m    107\u001b[0m     \u001b[0;32mif\u001b[0m \u001b[0;32mnot\u001b[0m \u001b[0mself\u001b[0m\u001b[0;34m.\u001b[0m\u001b[0m_in_multi_worker_mode\u001b[0m\u001b[0;34m(\u001b[0m\u001b[0;34m)\u001b[0m\u001b[0;34m:\u001b[0m  \u001b[0;31m# pylint: disable=protected-access\u001b[0m\u001b[0;34m\u001b[0m\u001b[0;34m\u001b[0m\u001b[0m\n\u001b[0;32m--> 108\u001b[0;31m       \u001b[0;32mreturn\u001b[0m \u001b[0mmethod\u001b[0m\u001b[0;34m(\u001b[0m\u001b[0mself\u001b[0m\u001b[0;34m,\u001b[0m \u001b[0;34m*\u001b[0m\u001b[0margs\u001b[0m\u001b[0;34m,\u001b[0m \u001b[0;34m**\u001b[0m\u001b[0mkwargs\u001b[0m\u001b[0;34m)\u001b[0m\u001b[0;34m\u001b[0m\u001b[0;34m\u001b[0m\u001b[0m\n\u001b[0m\u001b[1;32m    109\u001b[0m \u001b[0;34m\u001b[0m\u001b[0m\n\u001b[1;32m    110\u001b[0m     \u001b[0;31m# Running inside `run_distribute_coordinator` already.\u001b[0m\u001b[0;34m\u001b[0m\u001b[0;34m\u001b[0m\u001b[0;34m\u001b[0m\u001b[0m\n",
            "\u001b[0;32m/usr/local/lib/python3.6/dist-packages/tensorflow/python/keras/engine/training.py\u001b[0m in \u001b[0;36mfit\u001b[0;34m(self, x, y, batch_size, epochs, verbose, callbacks, validation_split, validation_data, shuffle, class_weight, sample_weight, initial_epoch, steps_per_epoch, validation_steps, validation_batch_size, validation_freq, max_queue_size, workers, use_multiprocessing)\u001b[0m\n\u001b[1;32m   1096\u001b[0m                 batch_size=batch_size):\n\u001b[1;32m   1097\u001b[0m               \u001b[0mcallbacks\u001b[0m\u001b[0;34m.\u001b[0m\u001b[0mon_train_batch_begin\u001b[0m\u001b[0;34m(\u001b[0m\u001b[0mstep\u001b[0m\u001b[0;34m)\u001b[0m\u001b[0;34m\u001b[0m\u001b[0;34m\u001b[0m\u001b[0m\n\u001b[0;32m-> 1098\u001b[0;31m               \u001b[0mtmp_logs\u001b[0m \u001b[0;34m=\u001b[0m \u001b[0mtrain_function\u001b[0m\u001b[0;34m(\u001b[0m\u001b[0miterator\u001b[0m\u001b[0;34m)\u001b[0m\u001b[0;34m\u001b[0m\u001b[0;34m\u001b[0m\u001b[0m\n\u001b[0m\u001b[1;32m   1099\u001b[0m               \u001b[0;32mif\u001b[0m \u001b[0mdata_handler\u001b[0m\u001b[0;34m.\u001b[0m\u001b[0mshould_sync\u001b[0m\u001b[0;34m:\u001b[0m\u001b[0;34m\u001b[0m\u001b[0;34m\u001b[0m\u001b[0m\n\u001b[1;32m   1100\u001b[0m                 \u001b[0mcontext\u001b[0m\u001b[0;34m.\u001b[0m\u001b[0masync_wait\u001b[0m\u001b[0;34m(\u001b[0m\u001b[0;34m)\u001b[0m\u001b[0;34m\u001b[0m\u001b[0;34m\u001b[0m\u001b[0m\n",
            "\u001b[0;32m/usr/local/lib/python3.6/dist-packages/tensorflow/python/eager/def_function.py\u001b[0m in \u001b[0;36m__call__\u001b[0;34m(self, *args, **kwds)\u001b[0m\n\u001b[1;32m    778\u001b[0m       \u001b[0;32melse\u001b[0m\u001b[0;34m:\u001b[0m\u001b[0;34m\u001b[0m\u001b[0;34m\u001b[0m\u001b[0m\n\u001b[1;32m    779\u001b[0m         \u001b[0mcompiler\u001b[0m \u001b[0;34m=\u001b[0m \u001b[0;34m\"nonXla\"\u001b[0m\u001b[0;34m\u001b[0m\u001b[0;34m\u001b[0m\u001b[0m\n\u001b[0;32m--> 780\u001b[0;31m         \u001b[0mresult\u001b[0m \u001b[0;34m=\u001b[0m \u001b[0mself\u001b[0m\u001b[0;34m.\u001b[0m\u001b[0m_call\u001b[0m\u001b[0;34m(\u001b[0m\u001b[0;34m*\u001b[0m\u001b[0margs\u001b[0m\u001b[0;34m,\u001b[0m \u001b[0;34m**\u001b[0m\u001b[0mkwds\u001b[0m\u001b[0;34m)\u001b[0m\u001b[0;34m\u001b[0m\u001b[0;34m\u001b[0m\u001b[0m\n\u001b[0m\u001b[1;32m    781\u001b[0m \u001b[0;34m\u001b[0m\u001b[0m\n\u001b[1;32m    782\u001b[0m       \u001b[0mnew_tracing_count\u001b[0m \u001b[0;34m=\u001b[0m \u001b[0mself\u001b[0m\u001b[0;34m.\u001b[0m\u001b[0m_get_tracing_count\u001b[0m\u001b[0;34m(\u001b[0m\u001b[0;34m)\u001b[0m\u001b[0;34m\u001b[0m\u001b[0;34m\u001b[0m\u001b[0m\n",
            "\u001b[0;32m/usr/local/lib/python3.6/dist-packages/tensorflow/python/eager/def_function.py\u001b[0m in \u001b[0;36m_call\u001b[0;34m(self, *args, **kwds)\u001b[0m\n\u001b[1;32m    821\u001b[0m       \u001b[0;31m# This is the first call of __call__, so we have to initialize.\u001b[0m\u001b[0;34m\u001b[0m\u001b[0;34m\u001b[0m\u001b[0;34m\u001b[0m\u001b[0m\n\u001b[1;32m    822\u001b[0m       \u001b[0minitializers\u001b[0m \u001b[0;34m=\u001b[0m \u001b[0;34m[\u001b[0m\u001b[0;34m]\u001b[0m\u001b[0;34m\u001b[0m\u001b[0;34m\u001b[0m\u001b[0m\n\u001b[0;32m--> 823\u001b[0;31m       \u001b[0mself\u001b[0m\u001b[0;34m.\u001b[0m\u001b[0m_initialize\u001b[0m\u001b[0;34m(\u001b[0m\u001b[0margs\u001b[0m\u001b[0;34m,\u001b[0m \u001b[0mkwds\u001b[0m\u001b[0;34m,\u001b[0m \u001b[0madd_initializers_to\u001b[0m\u001b[0;34m=\u001b[0m\u001b[0minitializers\u001b[0m\u001b[0;34m)\u001b[0m\u001b[0;34m\u001b[0m\u001b[0;34m\u001b[0m\u001b[0m\n\u001b[0m\u001b[1;32m    824\u001b[0m     \u001b[0;32mfinally\u001b[0m\u001b[0;34m:\u001b[0m\u001b[0;34m\u001b[0m\u001b[0;34m\u001b[0m\u001b[0m\n\u001b[1;32m    825\u001b[0m       \u001b[0;31m# At this point we know that the initialization is complete (or less\u001b[0m\u001b[0;34m\u001b[0m\u001b[0;34m\u001b[0m\u001b[0;34m\u001b[0m\u001b[0m\n",
            "\u001b[0;32m/usr/local/lib/python3.6/dist-packages/tensorflow/python/eager/def_function.py\u001b[0m in \u001b[0;36m_initialize\u001b[0;34m(self, args, kwds, add_initializers_to)\u001b[0m\n\u001b[1;32m    695\u001b[0m     self._concrete_stateful_fn = (\n\u001b[1;32m    696\u001b[0m         self._stateful_fn._get_concrete_function_internal_garbage_collected(  # pylint: disable=protected-access\n\u001b[0;32m--> 697\u001b[0;31m             *args, **kwds))\n\u001b[0m\u001b[1;32m    698\u001b[0m \u001b[0;34m\u001b[0m\u001b[0m\n\u001b[1;32m    699\u001b[0m     \u001b[0;32mdef\u001b[0m \u001b[0minvalid_creator_scope\u001b[0m\u001b[0;34m(\u001b[0m\u001b[0;34m*\u001b[0m\u001b[0munused_args\u001b[0m\u001b[0;34m,\u001b[0m \u001b[0;34m**\u001b[0m\u001b[0munused_kwds\u001b[0m\u001b[0;34m)\u001b[0m\u001b[0;34m:\u001b[0m\u001b[0;34m\u001b[0m\u001b[0;34m\u001b[0m\u001b[0m\n",
            "\u001b[0;32m/usr/local/lib/python3.6/dist-packages/tensorflow/python/eager/function.py\u001b[0m in \u001b[0;36m_get_concrete_function_internal_garbage_collected\u001b[0;34m(self, *args, **kwargs)\u001b[0m\n\u001b[1;32m   2853\u001b[0m       \u001b[0margs\u001b[0m\u001b[0;34m,\u001b[0m \u001b[0mkwargs\u001b[0m \u001b[0;34m=\u001b[0m \u001b[0;32mNone\u001b[0m\u001b[0;34m,\u001b[0m \u001b[0;32mNone\u001b[0m\u001b[0;34m\u001b[0m\u001b[0;34m\u001b[0m\u001b[0m\n\u001b[1;32m   2854\u001b[0m     \u001b[0;32mwith\u001b[0m \u001b[0mself\u001b[0m\u001b[0;34m.\u001b[0m\u001b[0m_lock\u001b[0m\u001b[0;34m:\u001b[0m\u001b[0;34m\u001b[0m\u001b[0;34m\u001b[0m\u001b[0m\n\u001b[0;32m-> 2855\u001b[0;31m       \u001b[0mgraph_function\u001b[0m\u001b[0;34m,\u001b[0m \u001b[0m_\u001b[0m\u001b[0;34m,\u001b[0m \u001b[0m_\u001b[0m \u001b[0;34m=\u001b[0m \u001b[0mself\u001b[0m\u001b[0;34m.\u001b[0m\u001b[0m_maybe_define_function\u001b[0m\u001b[0;34m(\u001b[0m\u001b[0margs\u001b[0m\u001b[0;34m,\u001b[0m \u001b[0mkwargs\u001b[0m\u001b[0;34m)\u001b[0m\u001b[0;34m\u001b[0m\u001b[0;34m\u001b[0m\u001b[0m\n\u001b[0m\u001b[1;32m   2856\u001b[0m     \u001b[0;32mreturn\u001b[0m \u001b[0mgraph_function\u001b[0m\u001b[0;34m\u001b[0m\u001b[0;34m\u001b[0m\u001b[0m\n\u001b[1;32m   2857\u001b[0m \u001b[0;34m\u001b[0m\u001b[0m\n",
            "\u001b[0;32m/usr/local/lib/python3.6/dist-packages/tensorflow/python/eager/function.py\u001b[0m in \u001b[0;36m_maybe_define_function\u001b[0;34m(self, args, kwargs)\u001b[0m\n\u001b[1;32m   3211\u001b[0m \u001b[0;34m\u001b[0m\u001b[0m\n\u001b[1;32m   3212\u001b[0m       \u001b[0mself\u001b[0m\u001b[0;34m.\u001b[0m\u001b[0m_function_cache\u001b[0m\u001b[0;34m.\u001b[0m\u001b[0mmissed\u001b[0m\u001b[0;34m.\u001b[0m\u001b[0madd\u001b[0m\u001b[0;34m(\u001b[0m\u001b[0mcall_context_key\u001b[0m\u001b[0;34m)\u001b[0m\u001b[0;34m\u001b[0m\u001b[0;34m\u001b[0m\u001b[0m\n\u001b[0;32m-> 3213\u001b[0;31m       \u001b[0mgraph_function\u001b[0m \u001b[0;34m=\u001b[0m \u001b[0mself\u001b[0m\u001b[0;34m.\u001b[0m\u001b[0m_create_graph_function\u001b[0m\u001b[0;34m(\u001b[0m\u001b[0margs\u001b[0m\u001b[0;34m,\u001b[0m \u001b[0mkwargs\u001b[0m\u001b[0;34m)\u001b[0m\u001b[0;34m\u001b[0m\u001b[0;34m\u001b[0m\u001b[0m\n\u001b[0m\u001b[1;32m   3214\u001b[0m       \u001b[0mself\u001b[0m\u001b[0;34m.\u001b[0m\u001b[0m_function_cache\u001b[0m\u001b[0;34m.\u001b[0m\u001b[0mprimary\u001b[0m\u001b[0;34m[\u001b[0m\u001b[0mcache_key\u001b[0m\u001b[0;34m]\u001b[0m \u001b[0;34m=\u001b[0m \u001b[0mgraph_function\u001b[0m\u001b[0;34m\u001b[0m\u001b[0;34m\u001b[0m\u001b[0m\n\u001b[1;32m   3215\u001b[0m       \u001b[0;32mreturn\u001b[0m \u001b[0mgraph_function\u001b[0m\u001b[0;34m,\u001b[0m \u001b[0margs\u001b[0m\u001b[0;34m,\u001b[0m \u001b[0mkwargs\u001b[0m\u001b[0;34m\u001b[0m\u001b[0;34m\u001b[0m\u001b[0m\n",
            "\u001b[0;32m/usr/local/lib/python3.6/dist-packages/tensorflow/python/eager/function.py\u001b[0m in \u001b[0;36m_create_graph_function\u001b[0;34m(self, args, kwargs, override_flat_arg_shapes)\u001b[0m\n\u001b[1;32m   3073\u001b[0m             \u001b[0marg_names\u001b[0m\u001b[0;34m=\u001b[0m\u001b[0marg_names\u001b[0m\u001b[0;34m,\u001b[0m\u001b[0;34m\u001b[0m\u001b[0;34m\u001b[0m\u001b[0m\n\u001b[1;32m   3074\u001b[0m             \u001b[0moverride_flat_arg_shapes\u001b[0m\u001b[0;34m=\u001b[0m\u001b[0moverride_flat_arg_shapes\u001b[0m\u001b[0;34m,\u001b[0m\u001b[0;34m\u001b[0m\u001b[0;34m\u001b[0m\u001b[0m\n\u001b[0;32m-> 3075\u001b[0;31m             capture_by_value=self._capture_by_value),\n\u001b[0m\u001b[1;32m   3076\u001b[0m         \u001b[0mself\u001b[0m\u001b[0;34m.\u001b[0m\u001b[0m_function_attributes\u001b[0m\u001b[0;34m,\u001b[0m\u001b[0;34m\u001b[0m\u001b[0;34m\u001b[0m\u001b[0m\n\u001b[1;32m   3077\u001b[0m         \u001b[0mfunction_spec\u001b[0m\u001b[0;34m=\u001b[0m\u001b[0mself\u001b[0m\u001b[0;34m.\u001b[0m\u001b[0mfunction_spec\u001b[0m\u001b[0;34m,\u001b[0m\u001b[0;34m\u001b[0m\u001b[0;34m\u001b[0m\u001b[0m\n",
            "\u001b[0;32m/usr/local/lib/python3.6/dist-packages/tensorflow/python/framework/func_graph.py\u001b[0m in \u001b[0;36mfunc_graph_from_py_func\u001b[0;34m(name, python_func, args, kwargs, signature, func_graph, autograph, autograph_options, add_control_dependencies, arg_names, op_return_value, collections, capture_by_value, override_flat_arg_shapes)\u001b[0m\n\u001b[1;32m    984\u001b[0m         \u001b[0m_\u001b[0m\u001b[0;34m,\u001b[0m \u001b[0moriginal_func\u001b[0m \u001b[0;34m=\u001b[0m \u001b[0mtf_decorator\u001b[0m\u001b[0;34m.\u001b[0m\u001b[0munwrap\u001b[0m\u001b[0;34m(\u001b[0m\u001b[0mpython_func\u001b[0m\u001b[0;34m)\u001b[0m\u001b[0;34m\u001b[0m\u001b[0;34m\u001b[0m\u001b[0m\n\u001b[1;32m    985\u001b[0m \u001b[0;34m\u001b[0m\u001b[0m\n\u001b[0;32m--> 986\u001b[0;31m       \u001b[0mfunc_outputs\u001b[0m \u001b[0;34m=\u001b[0m \u001b[0mpython_func\u001b[0m\u001b[0;34m(\u001b[0m\u001b[0;34m*\u001b[0m\u001b[0mfunc_args\u001b[0m\u001b[0;34m,\u001b[0m \u001b[0;34m**\u001b[0m\u001b[0mfunc_kwargs\u001b[0m\u001b[0;34m)\u001b[0m\u001b[0;34m\u001b[0m\u001b[0;34m\u001b[0m\u001b[0m\n\u001b[0m\u001b[1;32m    987\u001b[0m \u001b[0;34m\u001b[0m\u001b[0m\n\u001b[1;32m    988\u001b[0m       \u001b[0;31m# invariant: `func_outputs` contains only Tensors, CompositeTensors,\u001b[0m\u001b[0;34m\u001b[0m\u001b[0;34m\u001b[0m\u001b[0;34m\u001b[0m\u001b[0m\n",
            "\u001b[0;32m/usr/local/lib/python3.6/dist-packages/tensorflow/python/eager/def_function.py\u001b[0m in \u001b[0;36mwrapped_fn\u001b[0;34m(*args, **kwds)\u001b[0m\n\u001b[1;32m    598\u001b[0m         \u001b[0;31m# __wrapped__ allows AutoGraph to swap in a converted function. We give\u001b[0m\u001b[0;34m\u001b[0m\u001b[0;34m\u001b[0m\u001b[0;34m\u001b[0m\u001b[0m\n\u001b[1;32m    599\u001b[0m         \u001b[0;31m# the function a weak reference to itself to avoid a reference cycle.\u001b[0m\u001b[0;34m\u001b[0m\u001b[0;34m\u001b[0m\u001b[0;34m\u001b[0m\u001b[0m\n\u001b[0;32m--> 600\u001b[0;31m         \u001b[0;32mreturn\u001b[0m \u001b[0mweak_wrapped_fn\u001b[0m\u001b[0;34m(\u001b[0m\u001b[0;34m)\u001b[0m\u001b[0;34m.\u001b[0m\u001b[0m__wrapped__\u001b[0m\u001b[0;34m(\u001b[0m\u001b[0;34m*\u001b[0m\u001b[0margs\u001b[0m\u001b[0;34m,\u001b[0m \u001b[0;34m**\u001b[0m\u001b[0mkwds\u001b[0m\u001b[0;34m)\u001b[0m\u001b[0;34m\u001b[0m\u001b[0;34m\u001b[0m\u001b[0m\n\u001b[0m\u001b[1;32m    601\u001b[0m     \u001b[0mweak_wrapped_fn\u001b[0m \u001b[0;34m=\u001b[0m \u001b[0mweakref\u001b[0m\u001b[0;34m.\u001b[0m\u001b[0mref\u001b[0m\u001b[0;34m(\u001b[0m\u001b[0mwrapped_fn\u001b[0m\u001b[0;34m)\u001b[0m\u001b[0;34m\u001b[0m\u001b[0;34m\u001b[0m\u001b[0m\n\u001b[1;32m    602\u001b[0m \u001b[0;34m\u001b[0m\u001b[0m\n",
            "\u001b[0;32m/usr/local/lib/python3.6/dist-packages/tensorflow/python/framework/func_graph.py\u001b[0m in \u001b[0;36mwrapper\u001b[0;34m(*args, **kwargs)\u001b[0m\n\u001b[1;32m    971\u001b[0m           \u001b[0;32mexcept\u001b[0m \u001b[0mException\u001b[0m \u001b[0;32mas\u001b[0m \u001b[0me\u001b[0m\u001b[0;34m:\u001b[0m  \u001b[0;31m# pylint:disable=broad-except\u001b[0m\u001b[0;34m\u001b[0m\u001b[0;34m\u001b[0m\u001b[0m\n\u001b[1;32m    972\u001b[0m             \u001b[0;32mif\u001b[0m \u001b[0mhasattr\u001b[0m\u001b[0;34m(\u001b[0m\u001b[0me\u001b[0m\u001b[0;34m,\u001b[0m \u001b[0;34m\"ag_error_metadata\"\u001b[0m\u001b[0;34m)\u001b[0m\u001b[0;34m:\u001b[0m\u001b[0;34m\u001b[0m\u001b[0;34m\u001b[0m\u001b[0m\n\u001b[0;32m--> 973\u001b[0;31m               \u001b[0;32mraise\u001b[0m \u001b[0me\u001b[0m\u001b[0;34m.\u001b[0m\u001b[0mag_error_metadata\u001b[0m\u001b[0;34m.\u001b[0m\u001b[0mto_exception\u001b[0m\u001b[0;34m(\u001b[0m\u001b[0me\u001b[0m\u001b[0;34m)\u001b[0m\u001b[0;34m\u001b[0m\u001b[0;34m\u001b[0m\u001b[0m\n\u001b[0m\u001b[1;32m    974\u001b[0m             \u001b[0;32melse\u001b[0m\u001b[0;34m:\u001b[0m\u001b[0;34m\u001b[0m\u001b[0;34m\u001b[0m\u001b[0m\n\u001b[1;32m    975\u001b[0m               \u001b[0;32mraise\u001b[0m\u001b[0;34m\u001b[0m\u001b[0;34m\u001b[0m\u001b[0m\n",
            "\u001b[0;31mValueError\u001b[0m: in user code:\n\n    /usr/local/lib/python3.6/dist-packages/tensorflow/python/keras/engine/training.py:806 train_function  *\n        return step_function(self, iterator)\n    /usr/local/lib/python3.6/dist-packages/tensorflow/python/keras/engine/training.py:796 step_function  **\n        outputs = model.distribute_strategy.run(run_step, args=(data,))\n    /usr/local/lib/python3.6/dist-packages/tensorflow/python/distribute/distribute_lib.py:1211 run\n        return self._extended.call_for_each_replica(fn, args=args, kwargs=kwargs)\n    /usr/local/lib/python3.6/dist-packages/tensorflow/python/distribute/distribute_lib.py:2585 call_for_each_replica\n        return self._call_for_each_replica(fn, args, kwargs)\n    /usr/local/lib/python3.6/dist-packages/tensorflow/python/distribute/distribute_lib.py:2945 _call_for_each_replica\n        return fn(*args, **kwargs)\n    /usr/local/lib/python3.6/dist-packages/tensorflow/python/keras/engine/training.py:789 run_step  **\n        outputs = model.train_step(data)\n    /usr/local/lib/python3.6/dist-packages/tensorflow/python/keras/engine/training.py:749 train_step\n        y, y_pred, sample_weight, regularization_losses=self.losses)\n    /usr/local/lib/python3.6/dist-packages/tensorflow/python/keras/engine/compile_utils.py:204 __call__\n        loss_value = loss_obj(y_t, y_p, sample_weight=sw)\n    /usr/local/lib/python3.6/dist-packages/tensorflow/python/keras/losses.py:149 __call__\n        losses = ag_call(y_true, y_pred)\n    /usr/local/lib/python3.6/dist-packages/tensorflow/python/keras/losses.py:253 call  **\n        return ag_fn(y_true, y_pred, **self._fn_kwargs)\n    /usr/local/lib/python3.6/dist-packages/tensorflow/python/util/dispatch.py:201 wrapper\n        return target(*args, **kwargs)\n    /usr/local/lib/python3.6/dist-packages/tensorflow/python/keras/losses.py:1535 categorical_crossentropy\n        return K.categorical_crossentropy(y_true, y_pred, from_logits=from_logits)\n    /usr/local/lib/python3.6/dist-packages/tensorflow/python/util/dispatch.py:201 wrapper\n        return target(*args, **kwargs)\n    /usr/local/lib/python3.6/dist-packages/tensorflow/python/keras/backend.py:4687 categorical_crossentropy\n        target.shape.assert_is_compatible_with(output.shape)\n    /usr/local/lib/python3.6/dist-packages/tensorflow/python/framework/tensor_shape.py:1134 assert_is_compatible_with\n        raise ValueError(\"Shapes %s and %s are incompatible\" % (self, other))\n\n    ValueError: Shapes (None, 1) and (None, 11253) are incompatible\n"
          ]
        }
      ]
    },
    {
      "cell_type": "code",
      "metadata": {
        "id": "uvPhgNUVY1zt"
      },
      "source": [
        "#1. Create & Read File\n",
        "#2. Pre-processing\n",
        "#3. From pre-processing we get tokenized words array\n",
        "#4. word Array to integer array\n",
        "#5. "
      ],
      "execution_count": null,
      "outputs": []
    }
  ]
}