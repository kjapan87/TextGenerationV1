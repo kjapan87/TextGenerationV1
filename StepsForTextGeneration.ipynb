{
  "nbformat": 4,
  "nbformat_minor": 0,
  "metadata": {
    "colab": {
      "name": "StepsForTextGeneration.ipynb",
      "provenance": [],
      "authorship_tag": "ABX9TyPyqnayQ8vsZNaGTDf6IeWo",
      "include_colab_link": true
    },
    "kernelspec": {
      "name": "python3",
      "display_name": "Python 3"
    }
  },
  "cells": [
    {
      "cell_type": "markdown",
      "metadata": {
        "id": "view-in-github",
        "colab_type": "text"
      },
      "source": [
        "<a href=\"https://colab.research.google.com/github/kjapan87/TextGenerationV1/blob/main/StepsForTextGeneration.ipynb\" target=\"_parent\"><img src=\"https://colab.research.google.com/assets/colab-badge.svg\" alt=\"Open In Colab\"/></a>"
      ]
    },
    {
      "cell_type": "code",
      "metadata": {
        "id": "4L3gfwsCMF4x"
      },
      "source": [
        "#STEPS INVOLVED TO GENERATE TEXT USING TRAINING DATA\n",
        "    #create a function to Read training text file\n",
        "    #Create a function to Pre-process the training text file\n",
        "    #reading the actual text\n",
        "    #Pre-processing the training text file\n",
        "    #Dividing whole training text file into chunks & predicting the last word of the moving window\n",
        "    #Convert Text tokens into Integer-Array\n",
        "    #convert Integer-Array into Binary-Array\n",
        "    #Import Libraries for LSTM\n",
        "    #Create LSTM Model\n",
        "    #Save Files of pre-processed data, functions, models in to Pickle/h5 files\n",
        "    #Predict texts by giving contexts\n",
        "x = 5+9\n",
        "print(x)"
      ],
      "execution_count": null,
      "outputs": []
    }
  ]
}